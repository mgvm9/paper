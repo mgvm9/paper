{
 "cells": [
  {
   "attachments": {},
   "cell_type": "markdown",
   "metadata": {},
   "source": [
    "# ICE-DBSCAN Evaluation ppf2"
   ]
  },
  {
   "cell_type": "code",
   "execution_count": 25,
   "metadata": {},
   "outputs": [],
   "source": [
    "#imports\n",
    "import numpy as np \n",
    "import csv\n",
    "import pandas as pd\n",
    "import re\n",
    "import sys\n",
    "import math\n",
    "import matplotlib.pyplot as plt\n",
    "from numpy import linalg as LA\n",
    "import random\n",
    "from sklearn.preprocessing import normalize\n",
    "from numba import njit\n",
    "from collections import defaultdict\n",
    "import random\n",
    "from implicit_data import ImplicitData\n",
    "import numpy as np\n",
    "from BISGD import BISGD\n",
    "from ICE_DBSCAN import ICE_DBSCAN\n",
    "from collections import defaultdict\n",
    "from eval_implicit import EvalPrequential\n",
    "from datetime import datetime\n",
    "import getopt"
   ]
  },
  {
   "attachments": {},
   "cell_type": "markdown",
   "metadata": {},
   "source": [
    "## Functions\n"
   ]
  },
  {
   "cell_type": "code",
   "execution_count": 26,
   "metadata": {},
   "outputs": [],
   "source": [
    "def sigmoid(x):\n",
    "  return 1 / (1 + math.exp(-x))\n",
    "\n",
    "def sumvector(V,x):\n",
    "    result = []\n",
    "    for v in V:\n",
    "        temp = v + x\n",
    "        result.append(temp)\n",
    "    return result    \n",
    "\n",
    "def multvector(x,V):\n",
    "    result = []\n",
    "    for v in V:\n",
    "        temp = v * x\n",
    "        result.append(temp)\n",
    "    return result    \n",
    "\n",
    "def TransformVec(V):\n",
    "  \n",
    "    #new = normalize(V[:,np.newaxis], axis=0).ravel()\n",
    "    for i in range(len(V)):\n",
    "        V[i] = sigmoid(V[i])\n",
    "    D = LA.norm(V)\n",
    "    D=1/D\n",
    "    new = D * V\n",
    "  \n",
    "\n",
    "    return new\n"
   ]
  },
  {
   "attachments": {},
   "cell_type": "markdown",
   "metadata": {},
   "source": [
    "## Get the data"
   ]
  },
  {
   "cell_type": "code",
   "execution_count": 27,
   "metadata": {},
   "outputs": [
    {
     "name": "stdout",
     "output_type": "stream",
     "text": [
      "      Unnamed: 0     V1      V2\n",
      "0             56    472   15116\n",
      "1             57    472    4109\n",
      "2             58    472    1697\n",
      "3             59    472    6271\n",
      "4            240    472   19237\n",
      "...          ...    ...     ...\n",
      "5889      111401  77607  107867\n",
      "5890      111402  77607  103739\n",
      "5891      111403  77607  103741\n",
      "5892      111451  68410  103205\n",
      "5893      111942  88921  104352\n",
      "\n",
      "[5894 rows x 3 columns]\n"
     ]
    }
   ],
   "source": [
    "sys.path.append('./')\n",
    "configPath = 'config'\n",
    "dataPath = 'ppf2_sample5_1.csv'\n",
    "\n",
    "Data = []\n",
    "data = pd.read_csv(\"ppf2_sample5_1.csv\")\n",
    "print(data)\n",
    "Data = data.values.tolist()\n",
    "\n",
    "Data = Data[1:]\n",
    "\n",
    "#Data = []\n",
    "#with open(dataPath, 'r') as f:\n",
    "#    reader = csv.reader(f)\n",
    "#    for row in reader:\n",
    "#        Data.append([float(row[1]),float(row[2])])\n",
    "Data = Data[:1000]      "
   ]
  },
  {
   "attachments": {},
   "cell_type": "markdown",
   "metadata": {},
   "source": [
    "## Sampled datasets"
   ]
  },
  {
   "attachments": {},
   "cell_type": "markdown",
   "metadata": {},
   "source": [
    "## ppf2_sample5_1"
   ]
  },
  {
   "cell_type": "code",
   "execution_count": 28,
   "metadata": {},
   "outputs": [
    {
     "name": "stdout",
     "output_type": "stream",
     "text": [
      "      Unnamed: 0     V1      V2\n",
      "0             56    472   15116\n",
      "1             57    472    4109\n",
      "2             58    472    1697\n",
      "3             59    472    6271\n",
      "4            240    472   19237\n",
      "...          ...    ...     ...\n",
      "5889      111401  77607  107867\n",
      "5890      111402  77607  103739\n",
      "5891      111403  77607  103741\n",
      "5892      111451  68410  103205\n",
      "5893      111942  88921  104352\n",
      "\n",
      "[5894 rows x 3 columns]\n"
     ]
    }
   ],
   "source": [
    "sys.path.append('./')\n",
    "configPath = 'config'\n",
    "dataPath = 'ppf2_sample5_1.csv'\n",
    "\n",
    "Data = []\n",
    "data = pd.read_csv(\"ppf2_sample5_1.csv\")\n",
    "print(data)\n",
    "Data = data.values.tolist()\n",
    "\n",
    "Data = Data[1:]\n",
    "\n",
    "#Data = []\n",
    "#with open(dataPath, 'r') as f:\n",
    "#    reader = csv.reader(f)\n",
    "#    for row in reader:\n",
    "#        Data.append([float(row[1]),float(row[2])])\n",
    "      "
   ]
  },
  {
   "cell_type": "code",
   "execution_count": 29,
   "metadata": {},
   "outputs": [
    {
     "name": "stdout",
     "output_type": "stream",
     "text": [
      "start time 2023-06-10 18:42:00.254043\n",
      "npmean(resuls[Recall@20]) 0.0\n",
      "end time 2023-06-11 03:14:36.631629\n",
      "run time 8:32:36.377586\n",
      "\n",
      "get tuple 6.263049332977818e-06\n",
      "recommend 1.396212661475466e-05\n",
      "eval_point 3.158000477573328e-06\n",
      "update 5.219122995287256\n"
     ]
    }
   ],
   "source": [
    "Data_Transpose = np.transpose(Data)\n",
    "stream = ImplicitData(Data_Transpose[0],Data_Transpose[1])\n",
    "\n",
    "\n",
    "reg_array = [0.001,0.01,0.1]\n",
    "\n",
    "num_clusters = 8\n",
    "cl_num_iterations = 20\n",
    "cl_learn_rate =0.001\n",
    "cl_regularization = 0.1\n",
    "num_factors = 90\n",
    "num_iter = 8\n",
    "learn_rate = 0.3\n",
    "regularization = 0.4\n",
    "eps = 0.75\n",
    "MinPts = 20\n",
    "k = 8\n",
    "\n",
    "model = ICE_DBSCAN(ImplicitData([],[]),  eps, MinPts, k, num_clusters, cl_num_iterations, cl_learn_rate, cl_regularization, \n",
    "        num_factors, num_iter, learn_rate, regularization, random_seed = 10)\n",
    "eval = EvalPrequential(model,stream, metrics = [\"Recall@20\"])\n",
    "start_recommend = datetime.now()\n",
    "print('start time', start_recommend)\n",
    "\n",
    "results=eval.EvaluateTime(0,stream.size, 100)\n",
    "\n",
    "print('npmean(resuls[Recall@20])', np.mean(results['Recall@20']))\n",
    "end_recommend = datetime.now()\n",
    "print('end time', end_recommend)\n",
    "\n",
    "tempo = end_recommend - start_recommend\n",
    "\n",
    "print('run time', tempo)\n",
    "print('')\n",
    "print('get tuple',np.mean(results['time_get_tuple']))\n",
    "print('recommend',np.mean(results['time_recommend']))\n",
    "print('eval_point',np.mean(results['time_eval_point']))\n",
    "print('update',np.mean(results['time_update'])) "
   ]
  },
  {
   "attachments": {},
   "cell_type": "markdown",
   "metadata": {},
   "source": [
    "### ppf2_sample5_2"
   ]
  },
  {
   "cell_type": "code",
   "execution_count": 52,
   "metadata": {},
   "outputs": [
    {
     "name": "stdout",
     "output_type": "stream",
     "text": [
      "      Unnamed: 0     V1      V2\n",
      "0              3   8426   21676\n",
      "1              4   8426   21416\n",
      "2              8   8446    1980\n",
      "3              9   8446    1983\n",
      "4             10   8446   20747\n",
      "...          ...    ...     ...\n",
      "5268      110931  80093  124395\n",
      "5269      111436  88465   65893\n",
      "5270      111640  66305  124259\n",
      "5271      111786  88061  111043\n",
      "5272      111793  88790   66663\n",
      "\n",
      "[5273 rows x 3 columns]\n"
     ]
    }
   ],
   "source": [
    "sys.path.append('./')\n",
    "configPath = 'config'\n",
    "dataPath = 'ppf2_sample5_1.csv'\n",
    "\n",
    "Data = []\n",
    "data = pd.read_csv(\"ppf2_sample5_2.csv\")\n",
    "print(data)\n",
    "Data = data.values.tolist()\n",
    "\n",
    "Data = Data[1:]\n"
   ]
  },
  {
   "cell_type": "code",
   "execution_count": 53,
   "metadata": {},
   "outputs": [
    {
     "name": "stdout",
     "output_type": "stream",
     "text": [
      "start time 2022-09-20 20:13:02.981569\n",
      "npmean(resuls[Recall@20]) 0.078125\n",
      "end time 2022-09-20 21:35:54.245257\n",
      "run time 1:22:51.263688\n",
      "\n",
      "get tuple 6.230449097652175e-06\n",
      "recommend 0.06826620921492577\n",
      "eval_point 0.000284682959318161\n",
      "update 0.9420940658934018\n"
     ]
    }
   ],
   "source": [
    "Data_Transpose = np.transpose(Data)\n",
    "stream = ImplicitData(Data_Transpose[1],Data_Transpose[2])\n",
    "\n",
    "\n",
    "reg_array = [0.001,0.01,0.1]\n",
    "\n",
    "num_clusters = 8\n",
    "cl_num_iterations = 20\n",
    "cl_learn_rate =0.001\n",
    "cl_regularization = 0.1\n",
    "num_factors = 90\n",
    "num_iter = 8\n",
    "learn_rate = 0.3\n",
    "regularization = 0.4\n",
    "eps = 0.75\n",
    "MinPts = 20\n",
    "k = 8\n",
    "\n",
    "model = ICE_DBSCAN(ImplicitData([],[]),  eps, MinPts, k, num_clusters, cl_num_iterations, cl_learn_rate, cl_regularization, \n",
    "        num_factors, num_iter, learn_rate, regularization, random_seed = 10)\n",
    "eval = EvalPrequential(model,stream, metrics = [\"Recall@20\"])\n",
    "start_recommend = datetime.now()\n",
    "print('start time', start_recommend)\n",
    "\n",
    "results=eval.EvaluateTime(0,stream.size, 100)\n",
    "\n",
    "print('npmean(resuls[Recall@20])', np.mean(results['Recall@20']))\n",
    "end_recommend = datetime.now()\n",
    "print('end time', end_recommend)\n",
    "\n",
    "tempo = end_recommend - start_recommend\n",
    "\n",
    "print('run time', tempo)\n",
    "print('')\n",
    "print('get tuple',np.mean(results['time_get_tuple']))\n",
    "print('recommend',np.mean(results['time_recommend']))\n",
    "print('eval_point',np.mean(results['time_eval_point']))\n",
    "print('update',np.mean(results['time_update'])) "
   ]
  },
  {
   "attachments": {},
   "cell_type": "markdown",
   "metadata": {},
   "source": [
    "## ppf2_sample5_3"
   ]
  },
  {
   "cell_type": "code",
   "execution_count": 2,
   "metadata": {},
   "outputs": [
    {
     "name": "stdout",
     "output_type": "stream",
     "text": [
      "      Unnamed: 0     V1      V2\n",
      "0             21    385     322\n",
      "1            103    770   14147\n",
      "2            104    770    8876\n",
      "3            105    770   13597\n",
      "4            106    770    8404\n",
      "...          ...    ...     ...\n",
      "4995      110987  88064  124941\n",
      "4996      111311  62022  119481\n",
      "4997      111312  62022   98014\n",
      "4998      111313  77381   83225\n",
      "4999      111618  30920  124201\n",
      "\n",
      "[5000 rows x 3 columns]\n"
     ]
    }
   ],
   "source": [
    "sys.path.append('./')\n",
    "configPath = 'config'\n",
    "dataPath = 'ppf2_sample5_1.csv'\n",
    "\n",
    "Data = []\n",
    "data = pd.read_csv(\"ppf2_sample5_3.csv\")\n",
    "print(data)\n",
    "Data = data.values.tolist()\n",
    "\n",
    "Data = Data[1:]"
   ]
  },
  {
   "cell_type": "code",
   "execution_count": 3,
   "metadata": {},
   "outputs": [
    {
     "name": "stdout",
     "output_type": "stream",
     "text": [
      "start time 2022-09-21 18:58:12.757352\n",
      "npmean(resuls[Recall@20]) 0.07272727272727272\n",
      "end time 2022-09-21 20:18:21.501114\n",
      "run time 1:20:08.743762\n",
      "\n",
      "get tuple 7.905824634165115e-06\n",
      "recommend 0.03770590261979537\n",
      "eval_point 6.143830039284446e-05\n",
      "update 0.961499808430314\n"
     ]
    }
   ],
   "source": [
    "Data_Transpose = np.transpose(Data)\n",
    "stream = ImplicitData(Data_Transpose[1],Data_Transpose[2])\n",
    "\n",
    "\n",
    "reg_array = [0.001,0.01,0.1]\n",
    "\n",
    "num_clusters = 8\n",
    "cl_num_iterations = 20\n",
    "cl_learn_rate =0.001\n",
    "cl_regularization = 0.1\n",
    "num_factors = 90\n",
    "num_iter = 8\n",
    "learn_rate = 0.3\n",
    "regularization = 0.4\n",
    "eps = 0.75\n",
    "MinPts = 20\n",
    "k = 8\n",
    "\n",
    "model = ICE_DBSCAN(ImplicitData([],[]),  eps, MinPts, k, num_clusters, cl_num_iterations, cl_learn_rate, cl_regularization, \n",
    "        num_factors, num_iter, learn_rate, regularization, random_seed = 10)\n",
    "eval = EvalPrequential(model,stream, metrics = [\"Recall@20\"])\n",
    "start_recommend = datetime.now()\n",
    "print('start time', start_recommend)\n",
    "\n",
    "results=eval.EvaluateTime(0,stream.size, 100)\n",
    "\n",
    "print('npmean(resuls[Recall@20])', np.mean(results['Recall@20']))\n",
    "end_recommend = datetime.now()\n",
    "print('end time', end_recommend)\n",
    "\n",
    "tempo = end_recommend - start_recommend\n",
    "\n",
    "print('run time', tempo)\n",
    "print('')\n",
    "print('get tuple',np.mean(results['time_get_tuple']))\n",
    "print('recommend',np.mean(results['time_recommend']))\n",
    "print('eval_point',np.mean(results['time_eval_point']))\n",
    "print('update',np.mean(results['time_update'])) "
   ]
  },
  {
   "attachments": {},
   "cell_type": "markdown",
   "metadata": {},
   "source": [
    "## ppf2_sample5_4"
   ]
  },
  {
   "cell_type": "code",
   "execution_count": 8,
   "metadata": {},
   "outputs": [
    {
     "name": "stdout",
     "output_type": "stream",
     "text": [
      "         V1      V2\n",
      "0      8446    1980\n",
      "1      8446    1983\n",
      "2      8446   20747\n",
      "3      8446   20753\n",
      "4      8446    6259\n",
      "...     ...     ...\n",
      "6509  88787  102603\n",
      "6510  88787  102604\n",
      "6511  88787  102598\n",
      "6512  71049  121090\n",
      "6513  75174  101974\n",
      "\n",
      "[6514 rows x 2 columns]\n"
     ]
    }
   ],
   "source": [
    "sys.path.append('./')\n",
    "configPath = 'config'\n",
    "dataPath = 'ppf2_sample5_1.csv'\n",
    "\n",
    "Data = []\n",
    "data = pd.read_csv(\"ppf2_sample5_4.csv\")\n",
    "print(data)\n",
    "Data = data.values.tolist()\n",
    "\n",
    "Data = Data[1:]"
   ]
  },
  {
   "cell_type": "code",
   "execution_count": 11,
   "metadata": {},
   "outputs": [
    {
     "name": "stdout",
     "output_type": "stream",
     "text": [
      "start time 2022-09-23 13:56:41.093926\n",
      "npmean(resuls[Recall@20]) 0.027777777777777776\n",
      "end time 2022-09-23 14:10:39.070434\n",
      "run time 0:13:57.976508\n",
      "\n",
      "get tuple 4.348054965227298e-06\n",
      "recommend 0.035272601577970714\n",
      "eval_point 3.64681084950765e-05\n",
      "update 0.1282607823422697\n"
     ]
    }
   ],
   "source": [
    "Data_Transpose = np.transpose(Data)\n",
    "stream = ImplicitData(Data_Transpose[0],Data_Transpose[1])\n",
    "\n",
    "\n",
    "reg_array = [0.001,0.01,0.1]\n",
    "\n",
    "num_clusters = 8\n",
    "cl_num_iterations = 20\n",
    "cl_learn_rate =0.001\n",
    "cl_regularization = 0.1\n",
    "num_factors = 90\n",
    "num_iter = 8\n",
    "learn_rate = 0.3\n",
    "regularization = 0.4\n",
    "eps = 0.75\n",
    "MinPts = 20\n",
    "k = 8\n",
    "\n",
    "model = ICE_DBSCAN(ImplicitData([],[]),  eps, MinPts, k, num_clusters, cl_num_iterations, cl_learn_rate, cl_regularization, \n",
    "        num_factors, num_iter, learn_rate, regularization, random_seed = 10)\n",
    "eval = EvalPrequential(model,stream, metrics = [\"Recall@20\"])\n",
    "start_recommend = datetime.now()\n",
    "print('start time', start_recommend)\n",
    "\n",
    "results=eval.EvaluateTime(0,stream.size, 100)\n",
    "\n",
    "print('npmean(resuls[Recall@20])', np.mean(results['Recall@20']))\n",
    "end_recommend = datetime.now()\n",
    "print('end time', end_recommend)\n",
    "\n",
    "tempo = end_recommend - start_recommend\n",
    "\n",
    "print('run time', tempo)\n",
    "print('')\n",
    "print('get tuple',np.mean(results['time_get_tuple']))\n",
    "print('recommend',np.mean(results['time_recommend']))\n",
    "print('eval_point',np.mean(results['time_eval_point']))\n",
    "print('update',np.mean(results['time_update'])) "
   ]
  },
  {
   "attachments": {},
   "cell_type": "markdown",
   "metadata": {},
   "source": [
    "### ppf2_sample5_5"
   ]
  },
  {
   "cell_type": "code",
   "execution_count": 12,
   "metadata": {},
   "outputs": [
    {
     "name": "stdout",
     "output_type": "stream",
     "text": [
      "         V1      V2\n",
      "0      8258   25103\n",
      "1      8258   25104\n",
      "2       566   26029\n",
      "3       566   26031\n",
      "4      1441   26029\n",
      "...     ...     ...\n",
      "5836  77905  107998\n",
      "5837  77905  107884\n",
      "5838  77905  103741\n",
      "5839  77905  103742\n",
      "5840  66305  124259\n",
      "\n",
      "[5841 rows x 2 columns]\n"
     ]
    }
   ],
   "source": [
    "sys.path.append('./')\n",
    "configPath = 'config'\n",
    "dataPath = 'ppf2_sample5_1.csv'\n",
    "\n",
    "Data = []\n",
    "data = pd.read_csv(\"ppf2_sample5_5.csv\")\n",
    "print(data)\n",
    "Data = data.values.tolist()\n",
    "\n",
    "Data = Data[1:]"
   ]
  },
  {
   "cell_type": "code",
   "execution_count": 13,
   "metadata": {},
   "outputs": [
    {
     "name": "stdout",
     "output_type": "stream",
     "text": [
      "start time 2022-09-23 14:12:22.341934\n",
      "npmean(resuls[Recall@20]) 0.10714285714285714\n",
      "end time 2022-09-23 15:51:56.874960\n",
      "run time 1:39:34.533026\n",
      "\n",
      "get tuple 5.698285690725666e-06\n",
      "recommend 0.03396617940493992\n",
      "eval_point 4.028422491891044e-05\n",
      "update 1.022694249879824\n"
     ]
    }
   ],
   "source": [
    "Data_Transpose = np.transpose(Data)\n",
    "stream = ImplicitData(Data_Transpose[0],Data_Transpose[1])\n",
    "\n",
    "\n",
    "reg_array = [0.001,0.01,0.1]\n",
    "\n",
    "num_clusters = 8\n",
    "cl_num_iterations = 20\n",
    "cl_learn_rate =0.001\n",
    "cl_regularization = 0.1\n",
    "num_factors = 90\n",
    "num_iter = 8\n",
    "learn_rate = 0.3\n",
    "regularization = 0.4\n",
    "eps = 0.75\n",
    "MinPts = 20\n",
    "k = 8\n",
    "\n",
    "model = ICE_DBSCAN(ImplicitData([],[]),  eps, MinPts, k, num_clusters, cl_num_iterations, cl_learn_rate, cl_regularization, \n",
    "        num_factors, num_iter, learn_rate, regularization, random_seed = 10)\n",
    "eval = EvalPrequential(model,stream, metrics = [\"Recall@20\"])\n",
    "start_recommend = datetime.now()\n",
    "print('start time', start_recommend)\n",
    "\n",
    "results=eval.EvaluateTime(0,stream.size, 100)\n",
    "\n",
    "print('npmean(resuls[Recall@20])', np.mean(results['Recall@20']))\n",
    "end_recommend = datetime.now()\n",
    "print('end time', end_recommend)\n",
    "\n",
    "tempo = end_recommend - start_recommend\n",
    "\n",
    "print('run time', tempo)\n",
    "print('')\n",
    "print('get tuple',np.mean(results['time_get_tuple']))\n",
    "print('recommend',np.mean(results['time_recommend']))\n",
    "print('eval_point',np.mean(results['time_eval_point']))\n",
    "print('update',np.mean(results['time_update'])) "
   ]
  },
  {
   "cell_type": "code",
   "execution_count": null,
   "metadata": {},
   "outputs": [],
   "source": []
  }
 ],
 "metadata": {
  "kernelspec": {
   "display_name": "myenv",
   "language": "python",
   "name": "myenv"
  },
  "language_info": {
   "codemirror_mode": {
    "name": "ipython",
    "version": 3
   },
   "file_extension": ".py",
   "mimetype": "text/x-python",
   "name": "python",
   "nbconvert_exporter": "python",
   "pygments_lexer": "ipython3",
   "version": "3.9.5"
  }
 },
 "nbformat": 4,
 "nbformat_minor": 4
}
