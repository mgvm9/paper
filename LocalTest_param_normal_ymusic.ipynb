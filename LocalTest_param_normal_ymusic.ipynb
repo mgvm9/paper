{
 "cells": [
  {
   "cell_type": "markdown",
   "metadata": {},
   "source": [
    "# LocalUISGD Test\n"
   ]
  },
  {
   "cell_type": "code",
   "execution_count": 2,
   "metadata": {},
   "outputs": [
    {
     "name": "stdout",
     "output_type": "stream",
     "text": [
      "plz\n"
     ]
    }
   ],
   "source": [
    "#imports\n",
    "import numpy as np \n",
    "import csv\n",
    "import re\n",
    "import sys\n",
    "import math\n",
    "from numpy import linalg as L\n",
    "import pandas as pd\n",
    "import random\n",
    "from sklearn.preprocessing import normalize\n",
    "from numba import njit\n",
    "from collections import defaultdict\n",
    "import random\n",
    "from data import ImplicitData\n",
    "import pandas as pd\n",
    "from BISGD import BISGD\n",
    "from LocalUBISGD_normal import LocalUBISGD_normal\n",
    "from LocalUBISGD_normal_03 import LocalUBISGD_normal_03\n",
    "from LocalUBISGD_normal_05 import LocalUBISGD_normal_05\n",
    "from LocalUBISGD_normal_08 import LocalUBISGD_normal_08\n",
    "from collections import defaultdict\n",
    "from eval_implicit import EvalPrequential\n",
    "from datetime import datetime\n",
    "import getopt\n",
    "print(\"plz\")\n"
   ]
  },
  {
   "cell_type": "markdown",
   "metadata": {},
   "source": [
    "## Functions\n"
   ]
  },
  {
   "cell_type": "code",
   "execution_count": 3,
   "metadata": {},
   "outputs": [],
   "source": [
    "def sigmoid(x):\n",
    "  return 1 / (1 + math.exp(-x))\n",
    "\n",
    "def sumvector(V,x):\n",
    "    result = []\n",
    "    for v in V:\n",
    "        temp = v + x\n",
    "        result.append(temp)\n",
    "    return result    \n",
    "\n",
    "def multvector(x,V):\n",
    "    result = []\n",
    "    for v in V:\n",
    "        temp = v * x\n",
    "        result.append(temp)\n",
    "    return result    \n",
    "\n",
    "def TransformVec(V):\n",
    "  \n",
    "    #new = normalize(V[:,np.newaxis], axis=0).ravel()\n",
    "    for i in range(len(V)):\n",
    "        V[i] = sigmoid(V[i])\n",
    "    D = LA.norm(V)\n",
    "    D=1/D\n",
    "    new = D * V\n",
    "  \n",
    "\n",
    "    return new\n"
   ]
  },
  {
   "cell_type": "markdown",
   "metadata": {},
   "source": [
    "## Get the data"
   ]
  },
  {
   "cell_type": "code",
   "execution_count": 4,
   "metadata": {},
   "outputs": [
    {
     "name": "stderr",
     "output_type": "stream",
     "text": [
      "/home/mmelo/miniconda3/lib/python3.9/site-packages/IPython/core/interactiveshell.py:3444: FutureWarning: In a future version of pandas all arguments of read_csv except for the argument 'filepath_or_buffer' will be keyword-only\n",
      "  exec(code_obj, self.user_global_ns, self.user_ns)\n"
     ]
    },
    {
     "name": "stdout",
     "output_type": "stream",
     "text": [
      "       user_id  item_id\n",
      "0       378723   124036\n",
      "1       378723   608145\n",
      "2       378723    48098\n",
      "3       378723    80338\n",
      "4       378723   334716\n",
      "...        ...      ...\n",
      "45995   295010   506081\n",
      "45996   382938    74722\n",
      "45997   221033   158827\n",
      "45998   221033   603920\n",
      "45999   221033    26129\n",
      "\n",
      "[46000 rows x 2 columns]\n"
     ]
    }
   ],
   "source": [
    "sys.path.append('./')\n",
    "configPath = 'config'\n",
    "dataPath = 'ymusic_gte90_6kusers.tsv'\n",
    "\n",
    "\n",
    "Data = []\n",
    "data = pd.read_csv(\"ymusic_gte90_6kusers.tsv\",\"\\t\")\n",
    "data = data.head(n=46000)\n",
    "print(data)\n",
    "Data = data.values.tolist()\n",
    "\n"
   ]
  },
  {
   "cell_type": "markdown",
   "metadata": {},
   "source": [
    "# Optimal param for BISGD and IBISGD"
   ]
  },
  {
   "cell_type": "markdown",
   "metadata": {},
   "source": [
    "## Iterations"
   ]
  },
  {
   "cell_type": "code",
   "execution_count": 4,
   "metadata": {},
   "outputs": [
    {
     "name": "stdout",
     "output_type": "stream",
     "text": [
      "iter\n",
      "5\n",
      "start time 2022-06-27 22:51:55.907507\n",
      "npmean(resuls[Recall@20]) 0.18207775093345047\n",
      "end time 2022-06-27 23:09:54.640041\n",
      "run time 0:17:58.732534\n",
      "\n",
      "get tuple 3.820782122404679e-06\n",
      "recommend 0.2145510446153419\n",
      "eval_point 2.0975336619007857e-05\n",
      "update 0.0022025212308634883\n",
      "iter\n",
      "10\n",
      "start time 2022-06-27 23:09:54.811331\n",
      "npmean(resuls[Recall@20]) 0.1777583187390543\n",
      "end time 2022-06-27 23:27:35.089242\n",
      "run time 0:17:40.277911\n",
      "\n",
      "get tuple 3.5620046698528786e-06\n",
      "recommend 0.20874895695629553\n",
      "eval_point 2.00798235924983e-05\n",
      "update 0.002307994790699171\n",
      "iter\n",
      "15\n",
      "start time 2022-06-27 23:27:35.279462\n",
      "npmean(resuls[Recall@20]) 0.17482215994826472\n",
      "end time 2022-06-27 23:46:49.744450\n",
      "run time 0:19:14.464988\n",
      "\n",
      "get tuple 3.718194754227348e-06\n",
      "recommend 0.22300790501812662\n",
      "eval_point 2.1616532181223603e-05\n",
      "update 0.0025944882527641627\n",
      "iter\n",
      "20\n",
      "start time 2022-06-27 23:46:49.955250\n",
      "npmean(resuls[Recall@20]) 0.18601126028583803\n",
      "end time 2022-06-28 00:05:11.791685\n",
      "run time 0:18:21.836435\n",
      "\n",
      "get tuple 3.686438436093538e-06\n",
      "recommend 0.21090737433080398\n",
      "eval_point 2.086307125826737e-05\n",
      "update 0.002767280417939891\n",
      "iter\n",
      "25\n",
      "start time 2022-06-28 00:05:11.975314\n",
      "npmean(resuls[Recall@20]) 0.18236046016190882\n",
      "end time 2022-06-28 00:23:28.549135\n",
      "run time 0:18:16.573821\n",
      "\n",
      "get tuple 3.550477649854577e-06\n",
      "recommend 0.20552221724059563\n",
      "eval_point 1.9824652149670165e-05\n",
      "update 0.002854365571685459\n",
      "iter\n",
      "30\n",
      "start time 2022-06-28 00:23:28.720551\n",
      "npmean(resuls[Recall@20]) 0.18904049295774647\n",
      "end time 2022-06-28 00:41:59.551835\n",
      "run time 0:18:30.831284\n",
      "\n",
      "get tuple 3.6916058996449345e-06\n",
      "recommend 0.2128224327215846\n",
      "eval_point 2.034270847347421e-05\n",
      "update 0.0031130602618922357\n"
     ]
    }
   ],
   "source": [
    "Data_Transpose = np.transpose(Data)\n",
    "stream = ImplicitData(Data_Transpose[0],Data_Transpose[1])\n",
    "\n",
    "iterations = [5,10,15,20,25,30]\n",
    "\n",
    "for i in iterations:\n",
    "    print(\"iter\")\n",
    "    print(i)\n",
    "    num_clusters = 8\n",
    "    cl_num_iterations = i\n",
    "    cl_learn_rate = 0.1\n",
    "    cl_regularization = 0.1\n",
    "    num_factors = 200\n",
    "    num_iter = 9\n",
    "    learn_rate = 0.25\n",
    "    regularization = 0.45\n",
    "    model = LocalUBISGD_normal(ImplicitData([],[]), num_clusters, cl_num_iterations, cl_learn_rate, cl_regularization, \n",
    "        num_factors, num_iter, learn_rate, regularization, random_seed = 10)\n",
    "    eval = EvalPrequential(model,stream, metrics = [\"Recall@20\"])\n",
    "    start_recommend = datetime.now()\n",
    "    print('start time', start_recommend)\n",
    "\n",
    "    results=eval.EvaluateTime(0,stream.size, 100)\n",
    "\n",
    "    print('npmean(resuls[Recall@20])', np.mean(results['Recall@20']))\n",
    "    end_recommend = datetime.now()\n",
    "    print('end time', end_recommend)\n",
    "\n",
    "    tempo = end_recommend - start_recommend\n",
    "\n",
    "    print('run time', tempo)\n",
    "    print('')\n",
    "    print('get tuple',np.mean(results['time_get_tuple']))\n",
    "    print('recommend',np.mean(results['time_recommend']))\n",
    "    print('eval_point',np.mean(results['time_eval_point']))\n",
    "    print('update',np.mean(results['time_update']))    \n"
   ]
  },
  {
   "cell_type": "markdown",
   "metadata": {},
   "source": [
    "## Eta"
   ]
  },
  {
   "cell_type": "code",
   "execution_count": 5,
   "metadata": {},
   "outputs": [
    {
     "name": "stdout",
     "output_type": "stream",
     "text": [
      "eta\n",
      "0.0001\n",
      "start time 2022-06-28 00:41:59.924390\n",
      "npmean(resuls[Recall@20]) 0.16236888111888112\n",
      "end time 2022-06-28 01:00:27.886923\n",
      "run time 0:18:27.962533\n",
      "\n",
      "get tuple 3.611129263172979e-06\n",
      "recommend 0.21265821382924394\n",
      "eval_point 2.0450176475764987e-05\n",
      "update 0.002918927011282548\n",
      "eta\n",
      "0.001\n",
      "start time 2022-06-28 01:00:28.079213\n",
      "npmean(resuls[Recall@20]) 0.17484662576687116\n",
      "end time 2022-06-28 01:20:09.274323\n",
      "run time 0:19:41.195110\n",
      "\n",
      "get tuple 3.7648885146431303e-06\n",
      "recommend 0.22893582870832774\n",
      "eval_point 2.0644363868038033e-05\n",
      "update 0.002951113965200341\n",
      "eta\n",
      "0.01\n",
      "start time 2022-06-28 01:20:09.471411\n",
      "npmean(resuls[Recall@20]) 0.18823529411764706\n",
      "end time 2022-06-28 01:38:36.226751\n",
      "run time 0:18:26.755340\n",
      "\n",
      "get tuple 3.6548013272492784e-06\n",
      "recommend 0.21550355936657972\n",
      "eval_point 2.073939976496384e-05\n",
      "update 0.002942079150158426\n",
      "eta\n",
      "0.1\n",
      "start time 2022-06-28 01:38:36.415735\n",
      "npmean(resuls[Recall@20]) 0.18073850140358455\n",
      "end time 2022-06-28 01:55:44.612856\n",
      "run time 0:17:08.197121\n",
      "\n",
      "get tuple 3.3179158749787705e-06\n",
      "recommend 0.19455810186286848\n",
      "eval_point 1.8533015966775787e-05\n",
      "update 0.0027539335022801936\n"
     ]
    }
   ],
   "source": [
    "Data_Transpose = np.transpose(Data)\n",
    "stream = ImplicitData(Data_Transpose[0],Data_Transpose[1])\n",
    "\n",
    "\n",
    "etas = [0.0001, 0.001, 0.01, 0.1]\n",
    "\n",
    "for e in etas:\n",
    "    print(\"eta\")\n",
    "    print(e)\n",
    "    num_clusters = 8\n",
    "    cl_num_iterations = 25\n",
    "    cl_learn_rate = e\n",
    "    cl_regularization = 0.1\n",
    "    num_factors = 200\n",
    "    num_iter = 9\n",
    "    learn_rate = 0.25\n",
    "    regularization = 0.45\n",
    "    model = LocalUBISGD_normal(ImplicitData([],[]), num_clusters, cl_num_iterations, cl_learn_rate, cl_regularization, \n",
    "        num_factors, num_iter, learn_rate, regularization, random_seed = 10)\n",
    "    eval = EvalPrequential(model,stream, metrics = [\"Recall@20\"])\n",
    "    start_recommend = datetime.now()\n",
    "    print('start time', start_recommend)\n",
    "\n",
    "    results=eval.EvaluateTime(0,stream.size, 100)\n",
    "\n",
    "    print('npmean(resuls[Recall@20])', np.mean(results['Recall@20']))\n",
    "    end_recommend = datetime.now()\n",
    "    print('end time', end_recommend)\n",
    "\n",
    "    tempo = end_recommend - start_recommend\n",
    "\n",
    "    print('run time', tempo)\n",
    "    print('')\n",
    "    print('get tuple',np.mean(results['time_get_tuple']))\n",
    "    print('recommend',np.mean(results['time_recommend']))\n",
    "    print('eval_point',np.mean(results['time_eval_point']))\n",
    "    print('update',np.mean(results['time_update'])) "
   ]
  },
  {
   "cell_type": "markdown",
   "metadata": {},
   "source": [
    "## Lambda"
   ]
  },
  {
   "cell_type": "code",
   "execution_count": 6,
   "metadata": {},
   "outputs": [
    {
     "name": "stdout",
     "output_type": "stream",
     "text": [
      "lambda\n",
      "0\n",
      "start time 2022-06-28 01:55:44.931622\n",
      "npmean(resuls[Recall@20]) 0.17493297587131368\n",
      "end time 2022-06-28 02:12:17.676885\n",
      "run time 0:16:32.745263\n",
      "\n",
      "get tuple 3.40388650479524e-06\n",
      "recommend 0.19266471370615204\n",
      "eval_point 1.8459009847223386e-05\n",
      "update 0.002822876531144847\n",
      "lambda\n",
      "0.0001\n",
      "start time 2022-06-28 02:12:17.855301\n",
      "npmean(resuls[Recall@20]) 0.18826827690317016\n",
      "end time 2022-06-28 02:31:22.607535\n",
      "run time 0:19:04.752234\n",
      "\n",
      "get tuple 3.6746108013650645e-06\n",
      "recommend 0.21864296270645664\n",
      "eval_point 1.9669404234484093e-05\n",
      "update 0.0028334592114324154\n",
      "lambda\n",
      "0.001\n",
      "start time 2022-06-28 02:31:22.811522\n",
      "npmean(resuls[Recall@20]) 0.17829623287671234\n",
      "end time 2022-06-28 02:50:45.615605\n",
      "run time 0:19:22.804083\n",
      "\n",
      "get tuple 3.8080267284227454e-06\n",
      "recommend 0.22004159687928956\n",
      "eval_point 2.037269407755708e-05\n",
      "update 0.002917121514030125\n",
      "lambda\n",
      "0.01\n",
      "start time 2022-06-28 02:50:45.829212\n",
      "npmean(resuls[Recall@20]) 0.168637073388356\n",
      "end time 2022-06-28 03:09:21.043903\n",
      "run time 0:18:35.214691\n",
      "\n",
      "get tuple 3.714157187420389e-06\n",
      "recommend 0.21884496994324887\n",
      "eval_point 2.056930630488399e-05\n",
      "update 0.0029036353878352955\n",
      "lambda\n",
      "0.1\n",
      "start time 2022-06-28 03:09:21.243464\n",
      "npmean(resuls[Recall@20]) 0.18449083936940774\n",
      "end time 2022-06-28 03:28:47.615646\n",
      "run time 0:19:26.372182\n",
      "\n",
      "get tuple 3.715955692788829e-06\n",
      "recommend 0.21969437126814684\n",
      "eval_point 2.0464024342625103e-05\n",
      "update 0.0029251651038294255\n"
     ]
    }
   ],
   "source": [
    "Data_Transpose = np.transpose(Data)\n",
    "stream = ImplicitData(Data_Transpose[0],Data_Transpose[1])\n",
    "\n",
    "lambdas = [0,0.0001, 0.001, 0.01, 0.1]   \n",
    "\n",
    "for l in lambdas:\n",
    "    print(\"lambda\")\n",
    "    print(l)\n",
    "    num_clusters = 8\n",
    "    cl_num_iterations = 25\n",
    "    cl_learn_rate = 0.1\n",
    "    cl_regularization = l\n",
    "    num_factors = 200\n",
    "    num_iter = 9\n",
    "    learn_rate = 0.25\n",
    "    regularization = 0.45\n",
    "    model = LocalUBISGD_normal(ImplicitData([],[]), num_clusters, cl_num_iterations, cl_learn_rate, cl_regularization, \n",
    "        num_factors, num_iter, learn_rate, regularization, random_seed = 10)\n",
    "    eval = EvalPrequential(model,stream, metrics = [\"Recall@20\"])\n",
    "    start_recommend = datetime.now()\n",
    "    print('start time', start_recommend)\n",
    "\n",
    "    results=eval.EvaluateTime(0,stream.size, 100)\n",
    "\n",
    "    print('npmean(resuls[Recall@20])', np.mean(results['Recall@20']))\n",
    "    end_recommend = datetime.now()\n",
    "    print('end time', end_recommend)\n",
    "\n",
    "    tempo = end_recommend - start_recommend\n",
    "\n",
    "    print('run time', tempo)\n",
    "    print('')\n",
    "    print('get tuple',np.mean(results['time_get_tuple']))\n",
    "    print('recommend',np.mean(results['time_recommend']))\n",
    "    print('eval_point',np.mean(results['time_eval_point']))\n",
    "    print('update',np.mean(results['time_update'])) "
   ]
  },
  {
   "cell_type": "code",
   "execution_count": 7,
   "metadata": {},
   "outputs": [
    {
     "ename": "SyntaxError",
     "evalue": "invalid syntax (2083253283.py, line 1)",
     "output_type": "error",
     "traceback": [
      "\u001b[0;36m  File \u001b[0;32m\"/tmp/ipykernel_30863/2083253283.py\"\u001b[0;36m, line \u001b[0;32m1\u001b[0m\n\u001b[0;31m    0.0001 shows the best results for lambda\u001b[0m\n\u001b[0m           ^\u001b[0m\n\u001b[0;31mSyntaxError\u001b[0m\u001b[0;31m:\u001b[0m invalid syntax\n"
     ]
    }
   ],
   "source": []
  },
  {
   "cell_type": "markdown",
   "metadata": {},
   "source": [
    "# With variance in the number of models"
   ]
  },
  {
   "cell_type": "code",
   "execution_count": null,
   "metadata": {},
   "outputs": [],
   "source": [
    "Data_Transpose = np.transpose(Data)\n",
    "stream = ImplicitData(Data_Transpose[0],Data_Transpose[1])\n",
    "\n",
    "models = [5,10,15,20,25,30]   \n",
    "\n",
    "for m in models:\n",
    "    print(\"model\")\n",
    "    print(m)\n",
    "    num_clusters = m\n",
    "    cl_num_iterations = 25\n",
    "    cl_learn_rate = 0.01\n",
    "    cl_regularization = 0.0001\n",
    "    num_factors = 200\n",
    "    num_iter = 9\n",
    "    learn_rate = 0.25\n",
    "    regularization = 0.45\n",
    "    model = LocalUBISGD_normal(ImplicitData([],[]), num_clusters, cl_num_iterations, cl_learn_rate, cl_regularization, \n",
    "        num_factors, num_iter, learn_rate, regularization, random_seed = 10)\n",
    "    eval = EvalPrequential(model,stream, metrics = [\"Recall@20\"])\n",
    "    start_recommend = datetime.now()\n",
    "    print('start time', start_recommend)\n",
    "\n",
    "    results=eval.EvaluateTime(0,stream.size, 100)\n",
    "\n",
    "    print('npmean(resuls[Recall@20])', np.mean(results['Recall@20']))\n",
    "    end_recommend = datetime.now()\n",
    "    print('end time', end_recommend)\n",
    "\n",
    "    tempo = end_recommend - start_recommend\n",
    "\n",
    "    print('run time', tempo)\n",
    "    print('')\n",
    "    print('get tuple',np.mean(results['time_get_tuple']))\n",
    "    print('recommend',np.mean(results['time_recommend']))\n",
    "    print('eval_point',np.mean(results['time_eval_point']))\n",
    "    print('update',np.mean(results['time_update'])) "
   ]
  },
  {
   "cell_type": "markdown",
   "metadata": {},
   "source": [
    "## Full data test"
   ]
  },
  {
   "cell_type": "code",
   "execution_count": null,
   "metadata": {},
   "outputs": [],
   "source": [
    "#imports\n",
    "import numpy as np \n",
    "import csv\n",
    "import re\n",
    "import sys\n",
    "import math\n",
    "from numpy import linalg as L\n",
    "import pandas as pd\n",
    "import random\n",
    "from sklearn.preprocessing import normalize\n",
    "from numba import njit\n",
    "from collections import defaultdict\n",
    "import random\n",
    "from data import ImplicitData\n",
    "import pandas as pd\n",
    "from BISGD import BISGD\n",
    "from LocalUBISGD_normal import LocalUBISGD_normal\n",
    "from LocalUBISGD_normal_03 import LocalUBISGD_normal_03\n",
    "from LocalUBISGD_normal_05 import LocalUBISGD_normal_05\n",
    "from LocalUBISGD_normal_08 import LocalUBISGD_normal_08\n",
    "from collections import defaultdict\n",
    "from eval_implicit import EvalPrequential\n",
    "from datetime import datetime\n",
    "import getopt\n",
    "\n",
    "sys.path.append('./')\n",
    "configPath = 'config'\n",
    "dataPath = 'ymusic_gte90_6kusers.tsv'\n",
    "\n",
    "\n",
    "Data = []\n",
    "data = pd.read_csv(\"ymusic_gte90_6kusers.tsv\",\"\\t\")\n",
    "\n",
    "Data = data.values.tolist()\n",
    "\n",
    "Data_Transpose = np.transpose(Data)\n",
    "stream = ImplicitData(Data_Transpose[0],Data_Transpose[1])\n",
    "\n",
    "num_clusters = 8\n",
    "cl_num_iterations = 25\n",
    "cl_learn_rate = 0.01\n",
    "cl_regularization = 0.0001\n",
    "num_factors = 200\n",
    "num_iter = 9\n",
    "learn_rate = 0.25\n",
    "regularization = 0.45\n",
    "model = LocalUBISGD_normal(ImplicitData([],[]), num_clusters, cl_num_iterations, cl_learn_rate, cl_regularization, \n",
    "    num_factors, num_iter, learn_rate, regularization, random_seed = 10)\n",
    "eval = EvalPrequential(model,stream, metrics = [\"Recall@20\"])\n",
    "start_recommend = datetime.now()\n",
    "print('start time', start_recommend)\n",
    "\n",
    "results=eval.EvaluateTime(0,stream.size, 100)\n",
    "\n",
    "print('npmean(resuls[Recall@20])', np.mean(results['Recall@20']))\n",
    "end_recommend = datetime.now()\n",
    "print('end time', end_recommend)\n",
    "\n",
    "tempo = end_recommend - start_recommend\n",
    "\n",
    "print('run time', tempo)\n",
    "print('')\n",
    "print('get tuple',np.mean(results['time_get_tuple']))\n",
    "print('recommend',np.mean(results['time_recommend']))\n",
    "print('eval_point',np.mean(results['time_eval_point']))\n",
    "print('update',np.mean(results['time_update'])) "
   ]
  },
  {
   "cell_type": "markdown",
   "metadata": {},
   "source": [
    "# Variation in overlap_factor"
   ]
  },
  {
   "cell_type": "markdown",
   "metadata": {},
   "source": [
    "## 0.333333"
   ]
  },
  {
   "cell_type": "code",
   "execution_count": null,
   "metadata": {},
   "outputs": [],
   "source": [
    "Data_Transpose = np.transpose(Data)\n",
    "stream = ImplicitData(Data_Transpose[0],Data_Transpose[1])\n",
    "\n",
    "\n",
    "\n",
    "num_clusters = 8\n",
    "cl_num_iterations = 25\n",
    "cl_learn_rate = 0.01\n",
    "cl_regularization = 0.0001\n",
    "num_factors = 200\n",
    "num_iter = 9\n",
    "learn_rate = 0.25\n",
    "regularization = 0.45\n",
    "model = LocalUBISGD_normal_03(ImplicitData([],[]), num_clusters, cl_num_iterations, cl_learn_rate, cl_regularization, \n",
    "    num_factors, num_iter, learn_rate, regularization, random_seed = 10)\n",
    "eval = EvalPrequential(model,stream, metrics = [\"Recall@20\"])\n",
    "start_recommend = datetime.now()\n",
    "print('start time', start_recommend)\n",
    "\n",
    "results=eval.EvaluateTime(0,stream.size, 100)\n",
    "\n",
    "print('npmean(resuls[Recall@20])', np.mean(results['Recall@20']))\n",
    "end_recommend = datetime.now()\n",
    "print('end time', end_recommend)\n",
    "\n",
    "tempo = end_recommend - start_recommend\n",
    "\n",
    "print('run time', tempo)\n",
    "print('')\n",
    "print('get tuple',np.mean(results['time_get_tuple']))\n",
    "print('recommend',np.mean(results['time_recommend']))\n",
    "print('eval_point',np.mean(results['time_eval_point']))\n",
    "print('update',np.mean(results['time_update'])) "
   ]
  },
  {
   "cell_type": "markdown",
   "metadata": {},
   "source": [
    "## 0.5"
   ]
  },
  {
   "cell_type": "code",
   "execution_count": null,
   "metadata": {},
   "outputs": [],
   "source": [
    "Data_Transpose = np.transpose(Data)\n",
    "stream = ImplicitData(Data_Transpose[0],Data_Transpose[1])\n",
    "\n",
    "\n",
    "\n",
    "num_clusters = 8\n",
    "cl_num_iterations = 20\n",
    "cl_learn_rate =0.1\n",
    "cl_regularization = 0.1\n",
    "num_factors = 160\n",
    "num_iter = 8\n",
    "learn_rate = 0.1\n",
    "regularization = 0.4\n",
    "model = LocalUBISGD_normal_05(ImplicitData([],[]), num_clusters, cl_num_iterations, cl_learn_rate, cl_regularization, \n",
    "    num_factors, num_iter, learn_rate, regularization, random_seed = 10)\n",
    "eval = EvalPrequential(model,stream, metrics = [\"Recall@20\"])\n",
    "start_recommend = datetime.now()\n",
    "print('start time', start_recommend)\n",
    "\n",
    "results=eval.EvaluateTime(0,stream.size, 100)\n",
    "\n",
    "print('npmean(resuls[Recall@20])', np.mean(results['Recall@20']))\n",
    "end_recommend = datetime.now()\n",
    "print('end time', end_recommend)\n",
    "\n",
    "tempo = end_recommend - start_recommend\n",
    "\n",
    "print('run time', tempo)\n",
    "print('')\n",
    "print('get tuple',np.mean(results['time_get_tuple']))\n",
    "print('recommend',np.mean(results['time_recommend']))\n",
    "print('eval_point',np.mean(results['time_eval_point']))\n",
    "print('update',np.mean(results['time_update'])) "
   ]
  },
  {
   "cell_type": "markdown",
   "metadata": {},
   "source": [
    "## 0.8"
   ]
  },
  {
   "cell_type": "code",
   "execution_count": null,
   "metadata": {},
   "outputs": [],
   "source": [
    "Data_Transpose = np.transpose(Data)\n",
    "stream = ImplicitData(Data_Transpose[0],Data_Transpose[1])\n",
    "\n",
    "\n",
    "\n",
    "num_clusters = 8\n",
    "cl_num_iterations = 20\n",
    "cl_learn_rate =0.1\n",
    "cl_regularization = 0.1\n",
    "num_factors = 160\n",
    "num_iter = 8\n",
    "learn_rate = 0.1\n",
    "regularization = 0.4\n",
    "model = LocalUBISGD_normal_08(ImplicitData([],[]), num_clusters, cl_num_iterations, cl_learn_rate, cl_regularization, \n",
    "    num_factors, num_iter, learn_rate, regularization, random_seed = 10)\n",
    "eval = EvalPrequential(model,stream, metrics = [\"Recall@20\"])\n",
    "start_recommend = datetime.now()\n",
    "print('start time', start_recommend)\n",
    "\n",
    "results=eval.EvaluateTime(0,stream.size, 100)\n",
    "\n",
    "print('npmean(resuls[Recall@20])', np.mean(results['Recall@20']))\n",
    "end_recommend = datetime.now()\n",
    "print('end time', end_recommend)\n",
    "\n",
    "tempo = end_recommend - start_recommend\n",
    "\n",
    "print('run time', tempo)\n",
    "print('')\n",
    "print('get tuple',np.mean(results['time_get_tuple']))\n",
    "print('recommend',np.mean(results['time_recommend']))\n",
    "print('eval_point',np.mean(results['time_eval_point']))\n",
    "print('update',np.mean(results['time_update'])) "
   ]
  },
  {
   "cell_type": "markdown",
   "metadata": {},
   "source": [
    "### ymusic_sample5_1"
   ]
  },
  {
   "cell_type": "code",
   "execution_count": 16,
   "metadata": {},
   "outputs": [
    {
     "name": "stdout",
     "output_type": "stream",
     "text": [
      "       Unnamed: 0  user_id  item_id\n",
      "0            3873   795245    10843\n",
      "1            3874   795245    56437\n",
      "2            3875   795245    75757\n",
      "3            3876   795245    96467\n",
      "4            3877   795245   111214\n",
      "...           ...      ...      ...\n",
      "22775      476510   555020   475132\n",
      "22776      476511   555020   141032\n",
      "22777      476512   555020   201436\n",
      "22778      476513   555020   125269\n",
      "22779      476514   555020   141393\n",
      "\n",
      "[22780 rows x 3 columns]\n"
     ]
    }
   ],
   "source": [
    "sys.path.append('./')\n",
    "configPath = 'config'\n",
    "dataPath = 'ymusic_gte90_6kusers.tsv'\n",
    "\n",
    "\n",
    "Data = []\n",
    "data = pd.read_csv(\"ymusic_sample5_1.csv\")\n",
    "print(data)\n",
    "Data = data.values.tolist()"
   ]
  },
  {
   "cell_type": "code",
   "execution_count": 17,
   "metadata": {},
   "outputs": [
    {
     "name": "stdout",
     "output_type": "stream",
     "text": [
      "start time 2022-09-20 19:04:19.746378\n",
      "npmean(resuls[Recall@20]) 0.0811965811965812\n",
      "end time 2022-09-20 19:06:00.576296\n",
      "run time 0:01:40.829918\n",
      "\n",
      "get tuple 2.601284850993839e-06\n",
      "recommend 0.15607416324126414\n",
      "eval_point 1.931699932130993e-05\n",
      "update 0.0028170883707878775\n"
     ]
    }
   ],
   "source": [
    "\n",
    "Data_Transpose = np.transpose(Data)\n",
    "stream = ImplicitData(Data_Transpose[1],Data_Transpose[2])\n",
    "\n",
    "num_clusters = 8\n",
    "cl_num_iterations = 25\n",
    "cl_learn_rate = 0.01\n",
    "cl_regularization = 0.0001\n",
    "num_factors = 200\n",
    "num_iter = 9\n",
    "learn_rate = 0.25\n",
    "regularization = 0.45\n",
    "model = LocalUBISGD_normal(ImplicitData([],[]), num_clusters, cl_num_iterations, cl_learn_rate, cl_regularization, \n",
    "    num_factors, num_iter, learn_rate, regularization, random_seed = 10)\n",
    "eval = EvalPrequential(model,stream, metrics = [\"Recall@20\"])\n",
    "start_recommend = datetime.now()\n",
    "print('start time', start_recommend)\n",
    "\n",
    "results=eval.EvaluateTime(0,stream.size, 100)\n",
    "\n",
    "print('npmean(resuls[Recall@20])', np.mean(results['Recall@20']))\n",
    "end_recommend = datetime.now()\n",
    "print('end time', end_recommend)\n",
    "\n",
    "tempo = end_recommend - start_recommend\n",
    "\n",
    "print('run time', tempo)\n",
    "print('')\n",
    "print('get tuple',np.mean(results['time_get_tuple']))\n",
    "print('recommend',np.mean(results['time_recommend']))\n",
    "print('eval_point',np.mean(results['time_eval_point']))\n",
    "print('update',np.mean(results['time_update'])) "
   ]
  },
  {
   "cell_type": "markdown",
   "metadata": {},
   "source": [
    "### ymusic_sample5_2"
   ]
  },
  {
   "cell_type": "code",
   "execution_count": 18,
   "metadata": {},
   "outputs": [
    {
     "name": "stdout",
     "output_type": "stream",
     "text": [
      "       Unnamed: 0  user_id  item_id\n",
      "0             785   218332    67176\n",
      "1             786   218332    74262\n",
      "2             787   218332   196852\n",
      "3             788   218332   290893\n",
      "4             789   218332   366723\n",
      "...           ...      ...      ...\n",
      "27915      476256   986546    53049\n",
      "27916      476257   986546   381024\n",
      "27917      476258   986546   392726\n",
      "27918      476686   836553   309703\n",
      "27919      476687   836553   219502\n",
      "\n",
      "[27920 rows x 3 columns]\n"
     ]
    }
   ],
   "source": [
    "sys.path.append('./')\n",
    "configPath = 'config'\n",
    "dataPath = 'ymusic_gte90_6kusers.tsv'\n",
    "\n",
    "\n",
    "Data = []\n",
    "data = pd.read_csv(\"ymusic_sample5_2.csv\")\n",
    "print(data)\n",
    "Data = data.values.tolist()"
   ]
  },
  {
   "cell_type": "code",
   "execution_count": 19,
   "metadata": {},
   "outputs": [
    {
     "name": "stdout",
     "output_type": "stream",
     "text": [
      "start time 2022-09-20 19:06:01.138333\n",
      "npmean(resuls[Recall@20]) 0.08461538461538462\n",
      "end time 2022-09-20 19:08:04.342010\n",
      "run time 0:02:03.203677\n",
      "\n",
      "get tuple 2.4811159232284415e-06\n",
      "recommend 0.17938678356317372\n",
      "eval_point 1.7482500809889574e-05\n",
      "update 0.0027367414922632254\n"
     ]
    }
   ],
   "source": [
    "Data_Transpose = np.transpose(Data)\n",
    "stream = ImplicitData(Data_Transpose[1],Data_Transpose[2])\n",
    "\n",
    "num_clusters = 8\n",
    "cl_num_iterations = 25\n",
    "cl_learn_rate = 0.01\n",
    "cl_regularization = 0.0001\n",
    "num_factors = 200\n",
    "num_iter = 9\n",
    "learn_rate = 0.25\n",
    "regularization = 0.45\n",
    "model = LocalUBISGD_normal(ImplicitData([],[]), num_clusters, cl_num_iterations, cl_learn_rate, cl_regularization, \n",
    "    num_factors, num_iter, learn_rate, regularization, random_seed = 10)\n",
    "eval = EvalPrequential(model,stream, metrics = [\"Recall@20\"])\n",
    "start_recommend = datetime.now()\n",
    "print('start time', start_recommend)\n",
    "\n",
    "results=eval.EvaluateTime(0,stream.size, 100)\n",
    "\n",
    "print('npmean(resuls[Recall@20])', np.mean(results['Recall@20']))\n",
    "end_recommend = datetime.now()\n",
    "print('end time', end_recommend)\n",
    "\n",
    "tempo = end_recommend - start_recommend\n",
    "\n",
    "print('run time', tempo)\n",
    "print('')\n",
    "print('get tuple',np.mean(results['time_get_tuple']))\n",
    "print('recommend',np.mean(results['time_recommend']))\n",
    "print('eval_point',np.mean(results['time_eval_point']))\n",
    "print('update',np.mean(results['time_update'])) "
   ]
  },
  {
   "cell_type": "markdown",
   "metadata": {},
   "source": [
    "### ymusic_sample5_3"
   ]
  },
  {
   "cell_type": "code",
   "execution_count": 20,
   "metadata": {},
   "outputs": [
    {
     "name": "stdout",
     "output_type": "stream",
     "text": [
      "       Unnamed: 0  user_id  item_id\n",
      "0            1792   292189    40476\n",
      "1            1793   292189   110821\n",
      "2            1794   292189   337957\n",
      "3            1795   292189   392167\n",
      "4            1796   292189   567378\n",
      "...           ...      ...      ...\n",
      "23055      476483   214741   137608\n",
      "23056      476485   214741   551893\n",
      "23057      476690   315275   385015\n",
      "23058      476760   736333    59141\n",
      "23059      476761   736333   343375\n",
      "\n",
      "[23060 rows x 3 columns]\n"
     ]
    }
   ],
   "source": [
    "sys.path.append('./')\n",
    "configPath = 'config'\n",
    "dataPath = 'ymusic_gte90_6kusers.tsv'\n",
    "\n",
    "\n",
    "Data = []\n",
    "data = pd.read_csv(\"ymusic_sample5_3.csv\")\n",
    "print(data)\n",
    "Data = data.values.tolist()"
   ]
  },
  {
   "cell_type": "code",
   "execution_count": 21,
   "metadata": {},
   "outputs": [
    {
     "name": "stdout",
     "output_type": "stream",
     "text": [
      "start time 2022-09-20 19:08:04.787556\n",
      "npmean(resuls[Recall@20]) 0.1087866108786611\n",
      "end time 2022-09-20 19:09:40.482302\n",
      "run time 0:01:35.694746\n",
      "\n",
      "get tuple 2.4513586231241614e-06\n",
      "recommend 0.13790085425436746\n",
      "eval_point 1.7526259482156283e-05\n",
      "update 0.0027150409901958907\n"
     ]
    }
   ],
   "source": [
    "Data_Transpose = np.transpose(Data)\n",
    "stream = ImplicitData(Data_Transpose[1],Data_Transpose[2])\n",
    "\n",
    "num_clusters = 8\n",
    "cl_num_iterations = 25\n",
    "cl_learn_rate = 0.01\n",
    "cl_regularization = 0.0001\n",
    "num_factors = 200\n",
    "num_iter = 9\n",
    "learn_rate = 0.25\n",
    "regularization = 0.45\n",
    "model = LocalUBISGD_normal(ImplicitData([],[]), num_clusters, cl_num_iterations, cl_learn_rate, cl_regularization, \n",
    "    num_factors, num_iter, learn_rate, regularization, random_seed = 10)\n",
    "eval = EvalPrequential(model,stream, metrics = [\"Recall@20\"])\n",
    "start_recommend = datetime.now()\n",
    "print('start time', start_recommend)\n",
    "\n",
    "results=eval.EvaluateTime(0,stream.size, 100)\n",
    "\n",
    "print('npmean(resuls[Recall@20])', np.mean(results['Recall@20']))\n",
    "end_recommend = datetime.now()\n",
    "print('end time', end_recommend)\n",
    "\n",
    "tempo = end_recommend - start_recommend\n",
    "\n",
    "print('run time', tempo)\n",
    "print('')\n",
    "print('get tuple',np.mean(results['time_get_tuple']))\n",
    "print('recommend',np.mean(results['time_recommend']))\n",
    "print('eval_point',np.mean(results['time_eval_point']))\n",
    "print('update',np.mean(results['time_update'])) "
   ]
  },
  {
   "cell_type": "markdown",
   "metadata": {},
   "source": [
    "### ymusic_sample5_4"
   ]
  },
  {
   "cell_type": "code",
   "execution_count": 22,
   "metadata": {},
   "outputs": [
    {
     "name": "stdout",
     "output_type": "stream",
     "text": [
      "       Unnamed: 0  user_id  item_id\n",
      "0             461   762863   388288\n",
      "1             462   762863   556804\n",
      "2             463   762863   539820\n",
      "3             464   762863   369332\n",
      "4             465   762863   384847\n",
      "...           ...      ...      ...\n",
      "29563      476878   791728    97526\n",
      "29564      476879   791728   594258\n",
      "29565      476880   791728   278513\n",
      "29566      476881   791728   525766\n",
      "29567      476882   791728   544937\n",
      "\n",
      "[29568 rows x 3 columns]\n"
     ]
    }
   ],
   "source": [
    "sys.path.append('./')\n",
    "configPath = 'config'\n",
    "dataPath = 'ymusic_gte90_6kusers.tsv'\n",
    "\n",
    "\n",
    "Data = []\n",
    "data = pd.read_csv(\"ymusic_sample5_4.csv\")\n",
    "print(data)\n",
    "Data = data.values.tolist()"
   ]
  },
  {
   "cell_type": "code",
   "execution_count": 23,
   "metadata": {},
   "outputs": [
    {
     "name": "stdout",
     "output_type": "stream",
     "text": [
      "start time 2022-09-20 19:09:41.171029\n",
      "npmean(resuls[Recall@20]) 0.06134969325153374\n",
      "end time 2022-09-20 19:12:04.324824\n",
      "run time 0:02:23.153795\n",
      "\n",
      "get tuple 2.4985731680155835e-06\n",
      "recommend 0.18988314216122307\n",
      "eval_point 1.6977450598968318e-05\n",
      "update 0.0027424137136249833\n"
     ]
    }
   ],
   "source": [
    "Data_Transpose = np.transpose(Data)\n",
    "stream = ImplicitData(Data_Transpose[1],Data_Transpose[2])\n",
    "\n",
    "num_clusters = 8\n",
    "cl_num_iterations = 25\n",
    "cl_learn_rate = 0.01\n",
    "cl_regularization = 0.0001\n",
    "num_factors = 200\n",
    "num_iter = 9\n",
    "learn_rate = 0.25\n",
    "regularization = 0.45\n",
    "model = LocalUBISGD_normal(ImplicitData([],[]), num_clusters, cl_num_iterations, cl_learn_rate, cl_regularization, \n",
    "    num_factors, num_iter, learn_rate, regularization, random_seed = 10)\n",
    "eval = EvalPrequential(model,stream, metrics = [\"Recall@20\"])\n",
    "start_recommend = datetime.now()\n",
    "print('start time', start_recommend)\n",
    "\n",
    "results=eval.EvaluateTime(0,stream.size, 100)\n",
    "\n",
    "print('npmean(resuls[Recall@20])', np.mean(results['Recall@20']))\n",
    "end_recommend = datetime.now()\n",
    "print('end time', end_recommend)\n",
    "\n",
    "tempo = end_recommend - start_recommend\n",
    "\n",
    "print('run time', tempo)\n",
    "print('')\n",
    "print('get tuple',np.mean(results['time_get_tuple']))\n",
    "print('recommend',np.mean(results['time_recommend']))\n",
    "print('eval_point',np.mean(results['time_eval_point']))\n",
    "print('update',np.mean(results['time_update'])) "
   ]
  },
  {
   "cell_type": "markdown",
   "metadata": {},
   "source": [
    "### ymusic_sample5_5"
   ]
  },
  {
   "cell_type": "code",
   "execution_count": 24,
   "metadata": {},
   "outputs": [
    {
     "name": "stdout",
     "output_type": "stream",
     "text": [
      "       Unnamed: 0  user_id  item_id\n",
      "0            1080   540444   196323\n",
      "1            1081   540444   504528\n",
      "2            1082   540444   314333\n",
      "3            1083   540444   258823\n",
      "4            1446   540444   196852\n",
      "...           ...      ...      ...\n",
      "27883      476395   214741   436267\n",
      "27884      476481   214741    80180\n",
      "27885      476482   214741    22329\n",
      "27886      476483   214741   137608\n",
      "27887      476485   214741   551893\n",
      "\n",
      "[27888 rows x 3 columns]\n"
     ]
    }
   ],
   "source": [
    "sys.path.append('./')\n",
    "configPath = 'config'\n",
    "dataPath = 'ymusic_gte90_6kusers.tsv'\n",
    "\n",
    "\n",
    "Data = []\n",
    "data = pd.read_csv(\"ymusic_sample5_5.csv\")\n",
    "print(data)\n",
    "Data = data.values.tolist()"
   ]
  },
  {
   "cell_type": "code",
   "execution_count": 25,
   "metadata": {},
   "outputs": [
    {
     "name": "stdout",
     "output_type": "stream",
     "text": [
      "start time 2022-09-20 19:12:05.119693\n",
      "npmean(resuls[Recall@20]) 0.11971830985915492\n",
      "end time 2022-09-20 19:14:25.016221\n",
      "run time 0:02:19.896528\n",
      "\n",
      "get tuple 2.535796343288542e-06\n",
      "recommend 0.2256010502157077\n",
      "eval_point 1.8652056304501816e-05\n",
      "update 0.0027133378740432134\n"
     ]
    }
   ],
   "source": [
    "Data_Transpose = np.transpose(Data)\n",
    "stream = ImplicitData(Data_Transpose[1],Data_Transpose[2])\n",
    "\n",
    "num_clusters = 8\n",
    "cl_num_iterations = 25\n",
    "cl_learn_rate = 0.01\n",
    "cl_regularization = 0.0001\n",
    "num_factors = 200\n",
    "num_iter = 9\n",
    "learn_rate = 0.25\n",
    "regularization = 0.45\n",
    "model = LocalUBISGD_normal(ImplicitData([],[]), num_clusters, cl_num_iterations, cl_learn_rate, cl_regularization, \n",
    "    num_factors, num_iter, learn_rate, regularization, random_seed = 10)\n",
    "eval = EvalPrequential(model,stream, metrics = [\"Recall@20\"])\n",
    "start_recommend = datetime.now()\n",
    "print('start time', start_recommend)\n",
    "\n",
    "results=eval.EvaluateTime(0,stream.size, 100)\n",
    "\n",
    "print('npmean(resuls[Recall@20])', np.mean(results['Recall@20']))\n",
    "end_recommend = datetime.now()\n",
    "print('end time', end_recommend)\n",
    "\n",
    "tempo = end_recommend - start_recommend\n",
    "\n",
    "print('run time', tempo)\n",
    "print('')\n",
    "print('get tuple',np.mean(results['time_get_tuple']))\n",
    "print('recommend',np.mean(results['time_recommend']))\n",
    "print('eval_point',np.mean(results['time_eval_point']))\n",
    "print('update',np.mean(results['time_update']))"
   ]
  },
  {
   "cell_type": "code",
   "execution_count": null,
   "metadata": {},
   "outputs": [],
   "source": []
  }
 ],
 "metadata": {
  "kernelspec": {
   "display_name": "myenv",
   "language": "python",
   "name": "myenv"
  },
  "language_info": {
   "codemirror_mode": {
    "name": "ipython",
    "version": 3
   },
   "file_extension": ".py",
   "mimetype": "text/x-python",
   "name": "python",
   "nbconvert_exporter": "python",
   "pygments_lexer": "ipython3",
   "version": "3.9.5"
  }
 },
 "nbformat": 4,
 "nbformat_minor": 4
}
