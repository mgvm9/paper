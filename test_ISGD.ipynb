{
 "cells": [
  {
   "cell_type": "code",
   "execution_count": 2,
   "metadata": {},
   "outputs": [
    {
     "name": "stdout",
     "output_type": "stream",
     "text": [
      "start time 2022-04-12 21:52:07.951872\n",
      "npmean(resuls[Recall@20]) 0.23300970873786409\n",
      "end time 2022-04-12 21:53:23.918589\n",
      "run time 0:01:15.966717\n",
      "\n",
      "get tuple 3.1897893524210815e-06\n",
      "recommend 0.024673272105096615\n",
      "eval_point 2.9251413437926654e-05\n",
      "update 0.0006477354091291177\n"
     ]
    }
   ],
   "source": [
    "from data import ImplicitData\n",
    "#from param_tuning import PatternSearchISGD\n",
    "from pprint import pprint\n",
    "import pandas as pd\n",
    "from operator import itemgetter\n",
    "import numpy as np\n",
    "from recommenders_implicit import ISGD\n",
    "from eval_implicit import EvalPrequential\n",
    "from datetime import datetime\n",
    "import sys\n",
    "import csv\n",
    "\n",
    "sys.path.append('./')\n",
    "configPath = 'config'\n",
    "dataPath = 'ppf2.csv'\n",
    "\n",
    "Data = []\n",
    "with open(dataPath, 'r') as f:\n",
    "    reader = csv.reader(f)\n",
    "    for row in reader:\n",
    "        Data.append([float(row[0]),float(row[1])])\n",
    "\n",
    "Data_Transpose = np.transpose(Data)\n",
    "stream = ImplicitData(Data_Transpose[0],Data_Transpose[1])\n",
    "\n",
    "num_factors = 160\n",
    "num_iterations = 8\n",
    "learn_rate = 0.1\n",
    "u_regularization = 0.4\n",
    "i_regularization = 0.4\n",
    "random_seed = 10\n",
    "\n",
    "model = ISGD(ImplicitData([],[]),num_factors, num_iterations,learn_rate,u_regularization,i_regularization,random_seed)\n",
    "\n",
    "\n",
    "eval = EvalPrequential(model,stream, metrics = [\"Recall@20\"])\n",
    "start_recommend = datetime.now()\n",
    "print('start time', start_recommend)\n",
    "\n",
    "results=eval.EvaluateTime(0,stream.size, 1000)\n",
    "\n",
    "print('npmean(resuls[Recall@20])', np.mean(results['Recall@20']))\n",
    "end_recommend = datetime.now()\n",
    "print('end time', end_recommend)\n",
    "\n",
    "tempo = end_recommend - start_recommend\n",
    "\n",
    "print('run time', tempo)\n",
    "print('')\n",
    "print('get tuple',np.mean(results['time_get_tuple']))\n",
    "print('recommend',np.mean(results['time_recommend']))\n",
    "print('eval_point',np.mean(results['time_eval_point']))\n",
    "print('update',np.mean(results['time_update']))"
   ]
  },
  {
   "cell_type": "code",
   "execution_count": null,
   "metadata": {},
   "outputs": [],
   "source": []
  }
 ],
 "metadata": {
  "kernelspec": {
   "display_name": "myenv",
   "language": "python",
   "name": "myenv"
  },
  "language_info": {
   "codemirror_mode": {
    "name": "ipython",
    "version": 3
   },
   "file_extension": ".py",
   "mimetype": "text/x-python",
   "name": "python",
   "nbconvert_exporter": "python",
   "pygments_lexer": "ipython3",
   "version": "3.9.5"
  }
 },
 "nbformat": 4,
 "nbformat_minor": 4
}
