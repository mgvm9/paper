{
 "cells": [
  {
   "cell_type": "markdown",
   "metadata": {},
   "source": [
    "# LocalUISGD Test\n"
   ]
  },
  {
   "cell_type": "code",
   "execution_count": 1,
   "metadata": {},
   "outputs": [
    {
     "name": "stdout",
     "output_type": "stream",
     "text": [
      "plz\n"
     ]
    }
   ],
   "source": [
    "#imports\n",
    "import numpy as np \n",
    "import csv\n",
    "import re\n",
    "import sys\n",
    "import math\n",
    "import matplotlib.pyplot as plt\n",
    "from numpy import linalg as L\n",
    "import pandas as pd\n",
    "import random\n",
    "from sklearn.preprocessing import normalize\n",
    "from numba import njit\n",
    "from collections import defaultdict\n",
    "import random\n",
    "from data import ImplicitData\n",
    "import pandas as pd\n",
    "from BISGD import BISGD\n",
    "from LocalUBISGD_normal import LocalUBISGD_normal\n",
    "from LocalUBISGD_normal_03 import LocalUBISGD_normal_03\n",
    "from LocalUBISGD_normal_05 import LocalUBISGD_normal_05\n",
    "from LocalUBISGD_normal_08 import LocalUBISGD_normal_08\n",
    "from collections import defaultdict\n",
    "from eval_implicit import EvalPrequential\n",
    "from datetime import datetime\n",
    "import getopt\n",
    "print(\"plz\")\n"
   ]
  },
  {
   "cell_type": "markdown",
   "metadata": {},
   "source": [
    "## Functions\n"
   ]
  },
  {
   "cell_type": "code",
   "execution_count": 2,
   "metadata": {},
   "outputs": [],
   "source": [
    "def sigmoid(x):\n",
    "  return 1 / (1 + math.exp(-x))\n",
    "\n",
    "def sumvector(V,x):\n",
    "    result = []\n",
    "    for v in V:\n",
    "        temp = v + x\n",
    "        result.append(temp)\n",
    "    return result    \n",
    "\n",
    "def multvector(x,V):\n",
    "    result = []\n",
    "    for v in V:\n",
    "        temp = v * x\n",
    "        result.append(temp)\n",
    "    return result    \n",
    "\n",
    "def TransformVec(V):\n",
    "  \n",
    "    #new = normalize(V[:,np.newaxis], axis=0).ravel()\n",
    "    for i in range(len(V)):\n",
    "        V[i] = sigmoid(V[i])\n",
    "    D = LA.norm(V)\n",
    "    D=1/D\n",
    "    new = D * V\n",
    "  \n",
    "\n",
    "    return new\n"
   ]
  },
  {
   "cell_type": "markdown",
   "metadata": {},
   "source": [
    "## Get the data"
   ]
  },
  {
   "cell_type": "code",
   "execution_count": 3,
   "metadata": {},
   "outputs": [
    {
     "name": "stdout",
     "output_type": "stream",
     "text": [
      "        UserID  ItemID   Timestamp\n",
      "0         6040     593   956703954\n",
      "1         6040    2019   956703977\n",
      "2         6040     213   956704056\n",
      "3         6040    3111   956704056\n",
      "4         6040     912   956704191\n",
      "...        ...     ...         ...\n",
      "226305    5950    3363  1046367948\n",
      "226306    5950     111  1046368241\n",
      "226307    5950    3196  1046368462\n",
      "226308    5948    1180  1046437879\n",
      "226309    4958    1407  1046454443\n",
      "\n",
      "[226310 rows x 3 columns]\n"
     ]
    },
    {
     "name": "stderr",
     "output_type": "stream",
     "text": [
      "/home/mmelo/miniconda3/lib/python3.9/site-packages/IPython/core/interactiveshell.py:3444: FutureWarning: In a future version of pandas all arguments of read_csv except for the argument 'filepath_or_buffer' will be keyword-only\n",
      "  exec(code_obj, self.user_global_ns, self.user_ns)\n"
     ]
    }
   ],
   "source": [
    "sys.path.append('./')\n",
    "configPath = 'config'\n",
    "dataPath = 'ml1m_gte5.csv'\n",
    "\n",
    "\n",
    "Data = []\n",
    "data = pd.read_csv(\"ml1m_gte5.csv\",\"\\t\")\n",
    "print(data)\n",
    "Data = data.values.tolist()\n",
    "\n"
   ]
  },
  {
   "cell_type": "markdown",
   "metadata": {},
   "source": [
    "## Iterations"
   ]
  },
  {
   "cell_type": "code",
   "execution_count": 4,
   "metadata": {},
   "outputs": [
    {
     "name": "stdout",
     "output_type": "stream",
     "text": [
      "iter\n",
      "5\n",
      "start time 2022-06-27 22:53:16.612846\n",
      "npmean(resuls[Recall@20]) 0.0643911032812156\n",
      "end time 2022-06-27 23:22:51.744895\n",
      "run time 0:29:35.132049\n",
      "\n",
      "get tuple 4.333213164610309e-06\n",
      "recommend 0.054136796219184574\n",
      "eval_point 2.0534985392557265e-05\n",
      "update 0.0023985005853600786\n",
      "iter\n",
      "10\n",
      "start time 2022-06-27 23:22:51.967141\n",
      "npmean(resuls[Recall@20]) 0.06874944449382277\n",
      "end time 2022-06-27 23:53:21.461241\n",
      "run time 0:30:29.494100\n",
      "\n",
      "get tuple 4.4642880741355536e-06\n",
      "recommend 0.0547273977206936\n",
      "eval_point 2.013984314336447e-05\n",
      "update 0.0026279762469580727\n",
      "iter\n",
      "15\n",
      "start time 2022-06-27 23:53:21.736142\n",
      "npmean(resuls[Recall@20]) 0.06698522642584719\n",
      "end time 2022-06-28 00:25:34.208852\n",
      "run time 0:32:12.472710\n",
      "\n",
      "get tuple 4.619526160410715e-06\n",
      "recommend 0.05638839220113304\n",
      "eval_point 2.082424440585006e-05\n",
      "update 0.0028405380303805666\n",
      "iter\n",
      "20\n",
      "start time 2022-06-28 00:25:34.483141\n",
      "npmean(resuls[Recall@20]) 0.06578947368421052\n",
      "end time 2022-06-28 00:56:46.946313\n",
      "run time 0:31:12.463172\n",
      "\n",
      "get tuple 4.415078883954678e-06\n",
      "recommend 0.053242259130143285\n",
      "eval_point 1.9873244720592834e-05\n",
      "update 0.002895638844847948\n",
      "iter\n",
      "25\n",
      "start time 2022-06-28 00:56:47.209766\n",
      "npmean(resuls[Recall@20]) 0.0657613535173642\n",
      "end time 2022-06-28 01:28:08.810275\n",
      "run time 0:31:21.600509\n",
      "\n",
      "get tuple 4.269700545290368e-06\n",
      "recommend 0.0532492156551018\n",
      "eval_point 2.008911126018738e-05\n",
      "update 0.0030156824329718905\n",
      "iter\n",
      "30\n",
      "start time 2022-06-28 01:28:09.116678\n",
      "npmean(resuls[Recall@20]) 0.0654887482419128\n",
      "end time 2022-06-28 02:03:38.793800\n",
      "run time 0:35:29.677122\n",
      "\n",
      "get tuple 5.198986235006674e-06\n",
      "recommend 0.05842161624994962\n",
      "eval_point 2.0872848697855503e-05\n",
      "update 0.003520312067380528\n"
     ]
    }
   ],
   "source": [
    "Data_Transpose = np.transpose(Data)\n",
    "stream = ImplicitData(Data_Transpose[0],Data_Transpose[1])\n",
    "\n",
    "iterations = [5,10,15,20,25,30]\n",
    "\n",
    "for i in iterations:\n",
    "    print(\"iter\")\n",
    "    print(i)\n",
    "    num_clusters = 8\n",
    "    cl_num_iterations = i\n",
    "    cl_learn_rate = 0.1\n",
    "    cl_regularization = 0.1\n",
    "    num_factors = 160\n",
    "    num_iter = 8\n",
    "    learn_rate = 0.1\n",
    "    regularization = 0.4\n",
    "    model = LocalUBISGD_normal(ImplicitData([],[]), num_clusters, cl_num_iterations, cl_learn_rate, cl_regularization, \n",
    "        num_factors, num_iter, learn_rate, regularization, random_seed = 10)\n",
    "    eval = EvalPrequential(model,stream, metrics = [\"Recall@20\"])\n",
    "    start_recommend = datetime.now()\n",
    "    print('start time', start_recommend)\n",
    "\n",
    "    results=eval.EvaluateTime(0,stream.size, 10)\n",
    "\n",
    "    print('npmean(resuls[Recall@20])', np.mean(results['Recall@20']))\n",
    "    end_recommend = datetime.now()\n",
    "    print('end time', end_recommend)\n",
    "\n",
    "    tempo = end_recommend - start_recommend\n",
    "\n",
    "    print('run time', tempo)\n",
    "    print('')\n",
    "    print('get tuple',np.mean(results['time_get_tuple']))\n",
    "    print('recommend',np.mean(results['time_recommend']))\n",
    "    print('eval_point',np.mean(results['time_eval_point']))\n",
    "    print('update',np.mean(results['time_update']))    \n"
   ]
  },
  {
   "cell_type": "markdown",
   "metadata": {},
   "source": [
    "## Eta"
   ]
  },
  {
   "cell_type": "code",
   "execution_count": 5,
   "metadata": {},
   "outputs": [
    {
     "name": "stdout",
     "output_type": "stream",
     "text": [
      "eta\n",
      "0.0001\n",
      "start time 2022-06-28 02:03:39.774407\n",
      "npmean(resuls[Recall@20]) 0.06558325912733749\n",
      "end time 2022-06-28 02:35:11.513112\n",
      "run time 0:31:31.738705\n",
      "\n",
      "get tuple 4.541180199242203e-06\n",
      "recommend 0.05695690783876876\n",
      "eval_point 2.114435231590101e-05\n",
      "update 0.002691718331123282\n",
      "eta\n",
      "0.001\n",
      "start time 2022-06-28 02:35:11.787881\n",
      "npmean(resuls[Recall@20]) 0.06414774501494401\n",
      "end time 2022-06-28 03:06:32.821343\n",
      "run time 0:31:21.033462\n",
      "\n",
      "get tuple 4.550699664934226e-06\n",
      "recommend 0.056699762103144605\n",
      "eval_point 2.0957564235547207e-05\n",
      "update 0.0026806023132363325\n",
      "eta\n",
      "0.01\n",
      "start time 2022-06-28 03:06:33.109944\n",
      "npmean(resuls[Recall@20]) 0.06810543074473731\n",
      "end time 2022-06-28 03:34:14.251938\n",
      "run time 0:27:41.141994\n",
      "\n",
      "get tuple 3.892342646372397e-06\n",
      "recommend 0.049423325068124434\n",
      "eval_point 1.9326560922835582e-05\n",
      "update 0.0023891655208629283\n",
      "eta\n",
      "0.1\n",
      "start time 2022-06-28 03:34:14.494218\n",
      "npmean(resuls[Recall@20]) 0.06872195815379148\n",
      "end time 2022-06-28 04:00:03.603316\n",
      "run time 0:25:49.109098\n",
      "\n",
      "get tuple 3.684249191213384e-06\n",
      "recommend 0.04576063976946191\n",
      "eval_point 1.796705508548794e-05\n",
      "update 0.002281432827933553\n"
     ]
    }
   ],
   "source": [
    "Data_Transpose = np.transpose(Data)\n",
    "stream = ImplicitData(Data_Transpose[0],Data_Transpose[1])\n",
    "\n",
    "\n",
    "etas = [0.0001, 0.001, 0.01, 0.1]\n",
    "\n",
    "for e in etas:\n",
    "    print(\"eta\")\n",
    "    print(e)\n",
    "    num_clusters = 8\n",
    "    cl_num_iterations = 10\n",
    "    cl_learn_rate = e\n",
    "    cl_regularization = 0.1\n",
    "    num_factors = 160\n",
    "    num_iter = 8\n",
    "    learn_rate = 0.1\n",
    "    regularization = 0.4\n",
    "    model = LocalUBISGD_normal(ImplicitData([],[]), num_clusters, cl_num_iterations, cl_learn_rate, cl_regularization, \n",
    "        num_factors, num_iter, learn_rate, regularization, random_seed = 10)\n",
    "    eval = EvalPrequential(model,stream, metrics = [\"Recall@20\"])\n",
    "    start_recommend = datetime.now()\n",
    "    print('start time', start_recommend)\n",
    "\n",
    "    results=eval.EvaluateTime(0,stream.size, 10)\n",
    "\n",
    "    print('npmean(resuls[Recall@20])', np.mean(results['Recall@20']))\n",
    "    end_recommend = datetime.now()\n",
    "    print('end time', end_recommend)\n",
    "\n",
    "    tempo = end_recommend - start_recommend\n",
    "\n",
    "    print('run time', tempo)\n",
    "    print('')\n",
    "    print('get tuple',np.mean(results['time_get_tuple']))\n",
    "    print('recommend',np.mean(results['time_recommend']))\n",
    "    print('eval_point',np.mean(results['time_eval_point']))\n",
    "    print('update',np.mean(results['time_update'])) "
   ]
  },
  {
   "cell_type": "markdown",
   "metadata": {},
   "source": [
    "## Lambda"
   ]
  },
  {
   "cell_type": "code",
   "execution_count": null,
   "metadata": {},
   "outputs": [],
   "source": [
    "Data_Transpose = np.transpose(Data)\n",
    "stream = ImplicitData(Data_Transpose[0],Data_Transpose[1])\n",
    "\n",
    "lambdas = [0,0.0001, 0.001, 0.01, 0.1]   \n",
    "\n",
    "for l in lambdas:\n",
    "    print(\"lambda\")\n",
    "    print(l)\n",
    "    num_clusters = 8\n",
    "    cl_num_iterations = 5\n",
    "    cl_learn_rate = 0.1\n",
    "    cl_regularization = l\n",
    "    num_factors = 160\n",
    "    num_iter = 8\n",
    "    learn_rate = 0.1\n",
    "    regularization = 0.4\n",
    "    model = LocalUBISGD_normal(ImplicitData([],[]), num_clusters, cl_num_iterations, cl_learn_rate, cl_regularization, \n",
    "        num_factors, num_iter, learn_rate, regularization, random_seed = 10)\n",
    "    eval = EvalPrequential(model,stream, metrics = [\"Recall@20\"])\n",
    "    start_recommend = datetime.now()\n",
    "    print('start time', start_recommend)\n",
    "\n",
    "    results=eval.EvaluateTime(0,stream.size, 10)\n",
    "\n",
    "    print('npmean(resuls[Recall@20])', np.mean(results['Recall@20']))\n",
    "    end_recommend = datetime.now()\n",
    "    print('end time', end_recommend)\n",
    "\n",
    "    tempo = end_recommend - start_recommend\n",
    "\n",
    "    print('run time', tempo)\n",
    "    print('')\n",
    "    print('get tuple',np.mean(results['time_get_tuple']))\n",
    "    print('recommend',np.mean(results['time_recommend']))\n",
    "    print('eval_point',np.mean(results['time_eval_point']))\n",
    "    print('update',np.mean(results['time_update'])) "
   ]
  },
  {
   "cell_type": "code",
   "execution_count": null,
   "metadata": {},
   "outputs": [],
   "source": []
  },
  {
   "cell_type": "markdown",
   "metadata": {},
   "source": [
    "# With variance in the number of models"
   ]
  },
  {
   "cell_type": "code",
   "execution_count": null,
   "metadata": {},
   "outputs": [],
   "source": [
    "Data_Transpose = np.transpose(Data)\n",
    "stream = ImplicitData(Data_Transpose[0],Data_Transpose[1])\n",
    "\n",
    "models = [5,10,15,20,25,30]   \n",
    "\n",
    "for m in models:\n",
    "    print(\"model\")\n",
    "    print(m)\n",
    "    num_clusters = m\n",
    "    cl_num_iterations = 10\n",
    "    cl_learn_rate = 0.1\n",
    "    cl_regularization = 0\n",
    "    num_factors = 160\n",
    "    num_iter = 8\n",
    "    learn_rate = 0.1\n",
    "    regularization = 0.4\n",
    "    model = LocalUBISGD_normal(ImplicitData([],[]), num_clusters, cl_num_iterations, cl_learn_rate, cl_regularization, \n",
    "        num_factors, num_iter, learn_rate, regularization, random_seed = 10)\n",
    "    eval = EvalPrequential(model,stream, metrics = [\"Recall@20\"])\n",
    "    start_recommend = datetime.now()\n",
    "    print('start time', start_recommend)\n",
    "\n",
    "    results=eval.EvaluateTime(0,stream.size, 10)\n",
    "\n",
    "    print('npmean(resuls[Recall@20])', np.mean(results['Recall@20']))\n",
    "    end_recommend = datetime.now()\n",
    "    print('end time', end_recommend)\n",
    "\n",
    "    tempo = end_recommend - start_recommend\n",
    "\n",
    "    print('run time', tempo)\n",
    "    print('')\n",
    "    print('get tuple',np.mean(results['time_get_tuple']))\n",
    "    print('recommend',np.mean(results['time_recommend']))\n",
    "    print('eval_point',np.mean(results['time_eval_point']))\n",
    "    print('update',np.mean(results['time_update'])) "
   ]
  },
  {
   "cell_type": "code",
   "execution_count": null,
   "metadata": {},
   "outputs": [],
   "source": []
  },
  {
   "cell_type": "markdown",
   "metadata": {},
   "source": [
    "# Optimal param for BISGD"
   ]
  },
  {
   "cell_type": "markdown",
   "metadata": {},
   "source": [
    "## Iterations"
   ]
  },
  {
   "cell_type": "code",
   "execution_count": null,
   "metadata": {},
   "outputs": [],
   "source": [
    "Data_Transpose = np.transpose(Data)\n",
    "stream = ImplicitData(Data_Transpose[0],Data_Transpose[1])\n",
    "\n",
    "iterations = [5,10,15,20,25,30]\n",
    "\n",
    "for i in iterations:\n",
    "    print(\"iter\")\n",
    "    print(i)\n",
    "    num_clusters = 8\n",
    "    cl_num_iterations = i\n",
    "    cl_learn_rate = 0.1\n",
    "    cl_regularization = 0.1\n",
    "    num_factors = 160\n",
    "    num_iter = 8\n",
    "    learn_rate = 0.1\n",
    "    regularization = 0.4\n",
    "    model = LocalUBISGD_normal(ImplicitData([],[]), num_clusters, cl_num_iterations, cl_learn_rate, cl_regularization, \n",
    "        num_factors, num_iter, learn_rate, regularization, random_seed = 10)\n",
    "    eval = EvalPrequential(model,stream, metrics = [\"Recall@20\"])\n",
    "    start_recommend = datetime.now()\n",
    "    print('start time', start_recommend)\n",
    "\n",
    "    results=eval.EvaluateTime(0,stream.size, 10)\n",
    "\n",
    "    print('npmean(resuls[Recall@20])', np.mean(results['Recall@20']))\n",
    "    end_recommend = datetime.now()\n",
    "    print('end time', end_recommend)\n",
    "\n",
    "    tempo = end_recommend - start_recommend\n",
    "\n",
    "    print('run time', tempo)\n",
    "    print('')\n",
    "    print('get tuple',np.mean(results['time_get_tuple']))\n",
    "    print('recommend',np.mean(results['time_recommend']))\n",
    "    print('eval_point',np.mean(results['time_eval_point']))\n",
    "    print('update',np.mean(results['time_update']))    \n"
   ]
  },
  {
   "cell_type": "markdown",
   "metadata": {},
   "source": [
    "## Eta"
   ]
  },
  {
   "cell_type": "code",
   "execution_count": null,
   "metadata": {},
   "outputs": [],
   "source": [
    "Data_Transpose = np.transpose(Data)\n",
    "stream = ImplicitData(Data_Transpose[0],Data_Transpose[1])\n",
    "\n",
    "\n",
    "etas = [0.0001, 0.001, 0.01, 0.1]\n",
    "\n",
    "for e in etas:\n",
    "    print(\"eta\")\n",
    "    print(e)\n",
    "    num_clusters = 8\n",
    "    cl_num_iterations = 20\n",
    "    cl_learn_rate = e\n",
    "    cl_regularization = 0.1\n",
    "    num_factors = 160\n",
    "    num_iter = 8\n",
    "    learn_rate = 0.1\n",
    "    regularization = 0.4\n",
    "    model = LocalUBISGD_normal(ImplicitData([],[]), num_clusters, cl_num_iterations, cl_learn_rate, cl_regularization, \n",
    "        num_factors, num_iter, learn_rate, regularization, random_seed = 10)\n",
    "    eval = EvalPrequential(model,stream, metrics = [\"Recall@20\"])\n",
    "    start_recommend = datetime.now()\n",
    "    print('start time', start_recommend)\n",
    "\n",
    "    results=eval.EvaluateTime(0,stream.size, 10)\n",
    "\n",
    "    print('npmean(resuls[Recall@20])', np.mean(results['Recall@20']))\n",
    "    end_recommend = datetime.now()\n",
    "    print('end time', end_recommend)\n",
    "\n",
    "    tempo = end_recommend - start_recommend\n",
    "\n",
    "    print('run time', tempo)\n",
    "    print('')\n",
    "    print('get tuple',np.mean(results['time_get_tuple']))\n",
    "    print('recommend',np.mean(results['time_recommend']))\n",
    "    print('eval_point',np.mean(results['time_eval_point']))\n",
    "    print('update',np.mean(results['time_update'])) "
   ]
  },
  {
   "cell_type": "markdown",
   "metadata": {},
   "source": [
    "## Lambda"
   ]
  },
  {
   "cell_type": "code",
   "execution_count": null,
   "metadata": {},
   "outputs": [],
   "source": [
    "Data_Transpose = np.transpose(Data)\n",
    "stream = ImplicitData(Data_Transpose[0],Data_Transpose[1])\n",
    "\n",
    "lambdas = [0,0.0001, 0.001, 0.01, 0.1]   \n",
    "\n",
    "for l in lambdas:\n",
    "    print(\"lambda\")\n",
    "    print(l)\n",
    "    num_clusters = 8\n",
    "    cl_num_iterations = 20\n",
    "    cl_learn_rate =0.01\n",
    "    cl_regularization = l\n",
    "    num_factors = 160\n",
    "    num_iter = 8\n",
    "    learn_rate = 0.1\n",
    "    regularization = 0.4\n",
    "    model = LocalUBISGD_normal(ImplicitData([],[]), num_clusters, cl_num_iterations, cl_learn_rate, cl_regularization, \n",
    "        num_factors, num_iter, learn_rate, regularization, random_seed = 10)\n",
    "    eval = EvalPrequential(model,stream, metrics = [\"Recall@20\"])\n",
    "    start_recommend = datetime.now()\n",
    "    print('start time', start_recommend)\n",
    "\n",
    "    results=eval.EvaluateTime(0,stream.size, 10)\n",
    "\n",
    "    print('npmean(resuls[Recall@20])', np.mean(results['Recall@20']))\n",
    "    end_recommend = datetime.now()\n",
    "    print('end time', end_recommend)\n",
    "\n",
    "    tempo = end_recommend - start_recommend\n",
    "\n",
    "    print('run time', tempo)\n",
    "    print('')\n",
    "    print('get tuple',np.mean(results['time_get_tuple']))\n",
    "    print('recommend',np.mean(results['time_recommend']))\n",
    "    print('eval_point',np.mean(results['time_eval_point']))\n",
    "    print('update',np.mean(results['time_update'])) "
   ]
  },
  {
   "cell_type": "markdown",
   "metadata": {},
   "source": [
    "# Variation in overlap_factor"
   ]
  },
  {
   "cell_type": "markdown",
   "metadata": {},
   "source": [
    "## 0.333333"
   ]
  },
  {
   "cell_type": "code",
   "execution_count": 7,
   "metadata": {},
   "outputs": [
    {
     "name": "stdout",
     "output_type": "stream",
     "text": [
      "start time 2022-09-25 13:26:43.348030\n",
      "npmean(resuls[Recall@20]) 0.047975077881619935\n",
      "end time 2022-09-25 13:49:38.883495\n",
      "run time 0:22:55.535465\n",
      "\n",
      "get tuple 3.011798390886628e-06\n",
      "recommend 0.03974965592729393\n",
      "eval_point 1.5949852794448586e-05\n",
      "update 0.002122839739980997\n"
     ]
    }
   ],
   "source": [
    "Data_Transpose = np.transpose(Data)\n",
    "stream = ImplicitData(Data_Transpose[0],Data_Transpose[1])\n",
    "\n",
    "\n",
    "\n",
    "num_clusters = 8\n",
    "cl_num_iterations = 20\n",
    "cl_learn_rate =0.01\n",
    "cl_regularization = 0.1\n",
    "num_factors = 160\n",
    "num_iter = 8\n",
    "learn_rate = 0.1\n",
    "regularization = 0.4\n",
    "model = LocalUBISGD_normal_03(ImplicitData([],[]), num_clusters, cl_num_iterations, cl_learn_rate, cl_regularization, \n",
    "    num_factors, num_iter, learn_rate, regularization, random_seed = 10)\n",
    "eval = EvalPrequential(model,stream, metrics = [\"Recall@20\"])\n",
    "start_recommend = datetime.now()\n",
    "print('start time', start_recommend)\n",
    "\n",
    "results=eval.EvaluateTime(0,stream.size, 10)\n",
    "\n",
    "print('npmean(resuls[Recall@20])', np.mean(results['Recall@20']))\n",
    "end_recommend = datetime.now()\n",
    "print('end time', end_recommend)\n",
    "\n",
    "tempo = end_recommend - start_recommend\n",
    "\n",
    "print('run time', tempo)\n",
    "print('')\n",
    "print('get tuple',np.mean(results['time_get_tuple']))\n",
    "print('recommend',np.mean(results['time_recommend']))\n",
    "print('eval_point',np.mean(results['time_eval_point']))\n",
    "print('update',np.mean(results['time_update'])) "
   ]
  },
  {
   "cell_type": "markdown",
   "metadata": {},
   "source": [
    "## 0.5"
   ]
  },
  {
   "cell_type": "code",
   "execution_count": null,
   "metadata": {},
   "outputs": [],
   "source": [
    "Data_Transpose = np.transpose(Data)\n",
    "stream = ImplicitData(Data_Transpose[0],Data_Transpose[1])\n",
    "\n",
    "\n",
    "\n",
    "num_clusters = 8\n",
    "cl_num_iterations = 20\n",
    "cl_learn_rate =0.1\n",
    "cl_regularization = 0.1\n",
    "num_factors = 160\n",
    "num_iter = 8\n",
    "learn_rate = 0.1\n",
    "regularization = 0.4\n",
    "model = LocalUBISGD_normal_05(ImplicitData([],[]), num_clusters, cl_num_iterations, cl_learn_rate, cl_regularization, \n",
    "    num_factors, num_iter, learn_rate, regularization, random_seed = 10)\n",
    "eval = EvalPrequential(model,stream, metrics = [\"Recall@20\"])\n",
    "start_recommend = datetime.now()\n",
    "print('start time', start_recommend)\n",
    "\n",
    "results=eval.EvaluateTime(0,stream.size, 10)\n",
    "\n",
    "print('npmean(resuls[Recall@20])', np.mean(results['Recall@20']))\n",
    "end_recommend = datetime.now()\n",
    "print('end time', end_recommend)\n",
    "\n",
    "tempo = end_recommend - start_recommend\n",
    "\n",
    "print('run time', tempo)\n",
    "print('')\n",
    "print('get tuple',np.mean(results['time_get_tuple']))\n",
    "print('recommend',np.mean(results['time_recommend']))\n",
    "print('eval_point',np.mean(results['time_eval_point']))\n",
    "print('update',np.mean(results['time_update'])) "
   ]
  },
  {
   "cell_type": "markdown",
   "metadata": {},
   "source": [
    "## 0.8"
   ]
  },
  {
   "cell_type": "code",
   "execution_count": null,
   "metadata": {},
   "outputs": [],
   "source": [
    "Data_Transpose = np.transpose(Data)\n",
    "stream = ImplicitData(Data_Transpose[0],Data_Transpose[1])\n",
    "\n",
    "\n",
    "\n",
    "num_clusters = 8\n",
    "cl_num_iterations = 20\n",
    "cl_learn_rate =0.1\n",
    "cl_regularization = 0.1\n",
    "num_factors = 160\n",
    "num_iter = 8\n",
    "learn_rate = 0.1\n",
    "regularization = 0.4\n",
    "model = LocalUBISGD_normal_08(ImplicitData([],[]), num_clusters, cl_num_iterations, cl_learn_rate, cl_regularization, \n",
    "    num_factors, num_iter, learn_rate, regularization, random_seed = 10)\n",
    "eval = EvalPrequential(model,stream, metrics = [\"Recall@20\"])\n",
    "start_recommend = datetime.now()\n",
    "print('start time', start_recommend)\n",
    "\n",
    "results=eval.EvaluateTime(0,stream.size, 10)\n",
    "\n",
    "print('npmean(resuls[Recall@20])', np.mean(results['Recall@20']))\n",
    "end_recommend = datetime.now()\n",
    "print('end time', end_recommend)\n",
    "\n",
    "tempo = end_recommend - start_recommend\n",
    "\n",
    "print('run time', tempo)\n",
    "print('')\n",
    "print('get tuple',np.mean(results['time_get_tuple']))\n",
    "print('recommend',np.mean(results['time_recommend']))\n",
    "print('eval_point',np.mean(results['time_eval_point']))\n",
    "print('update',np.mean(results['time_update'])) "
   ]
  },
  {
   "cell_type": "markdown",
   "metadata": {},
   "source": [
    "### ml1m_sample5_1"
   ]
  },
  {
   "cell_type": "code",
   "execution_count": 4,
   "metadata": {},
   "outputs": [
    {
     "name": "stdout",
     "output_type": "stream",
     "text": [
      "       Unnamed: 0  UserID  ItemID   Timestamp\n",
      "0             365    6029     899   956721639\n",
      "1             366    6029    3548   956721700\n",
      "2             367    6029    3545   956721732\n",
      "3             368    6029    3543   956721759\n",
      "4             369    6029    3549   956721780\n",
      "...           ...     ...     ...         ...\n",
      "11252      225903     937    2300  1042909231\n",
      "11253      225935     195    3746  1043562457\n",
      "11254      226240    4312     750  1045841700\n",
      "11255      226241    4312    1267  1045841716\n",
      "11256      226267     911    2409  1046066544\n",
      "\n",
      "[11257 rows x 4 columns]\n"
     ]
    }
   ],
   "source": [
    "sys.path.append('./')\n",
    "configPath = 'config'\n",
    "\n",
    "Data = []\n",
    "data = pd.read_csv(\"ml1m_sample5_1.csv\")\n",
    "print(data)\n",
    "Data = data.values.tolist()\n",
    "\n",
    "Data = Data[1:]\n",
    " "
   ]
  },
  {
   "cell_type": "code",
   "execution_count": 6,
   "metadata": {},
   "outputs": [
    {
     "name": "stdout",
     "output_type": "stream",
     "text": [
      "start time 2022-09-19 23:54:08.876029\n",
      "npmean(resuls[Recall@20]) 0.08955223880597014\n",
      "end time 2022-09-19 23:54:58.153788\n",
      "run time 0:00:49.277759\n",
      "\n",
      "get tuple 2.5253390791404306e-06\n",
      "recommend 0.020040606908153503\n",
      "eval_point 1.707445434355966e-05\n",
      "update 0.002342325050778311\n"
     ]
    }
   ],
   "source": [
    "Data_Transpose = np.transpose(Data)\n",
    "stream = ImplicitData(Data_Transpose[1],Data_Transpose[2])\n",
    "\n",
    "\n",
    "\n",
    "num_clusters = 8\n",
    "cl_num_iterations = 20\n",
    "cl_learn_rate =0.1\n",
    "cl_regularization = 0.1\n",
    "num_factors = 160\n",
    "num_iter = 8\n",
    "learn_rate = 0.1\n",
    "regularization = 0.4\n",
    "model = LocalUBISGD_normal(ImplicitData([],[]), num_clusters, cl_num_iterations, cl_learn_rate, cl_regularization, \n",
    "    num_factors, num_iter, learn_rate, regularization, random_seed = 10)\n",
    "eval = EvalPrequential(model,stream, metrics = [\"Recall@20\"])\n",
    "start_recommend = datetime.now()\n",
    "print('start time', start_recommend)\n",
    "\n",
    "results=eval.EvaluateTime(0,stream.size, 10)\n",
    "\n",
    "print('npmean(resuls[Recall@20])', np.mean(results['Recall@20']))\n",
    "end_recommend = datetime.now()\n",
    "print('end time', end_recommend)\n",
    "\n",
    "tempo = end_recommend - start_recommend\n",
    "\n",
    "print('run time', tempo)\n",
    "print('')\n",
    "print('get tuple',np.mean(results['time_get_tuple']))\n",
    "print('recommend',np.mean(results['time_recommend']))\n",
    "print('eval_point',np.mean(results['time_eval_point']))\n",
    "print('update',np.mean(results['time_update'])) "
   ]
  },
  {
   "cell_type": "markdown",
   "metadata": {},
   "source": [
    "### ml1m_sample5_2"
   ]
  },
  {
   "cell_type": "code",
   "execution_count": 7,
   "metadata": {},
   "outputs": [
    {
     "name": "stdout",
     "output_type": "stream",
     "text": [
      "       Unnamed: 0  UserID  ItemID   Timestamp\n",
      "0             206    6033    1193   956713500\n",
      "1             207    6033    1214   956713838\n",
      "2             208    6033    2028   956713838\n",
      "3             209    6033     110   956713865\n",
      "4             210    6033    1036   956713898\n",
      "...           ...     ...     ...         ...\n",
      "11037      226258    5329    1212  1045895993\n",
      "11038      226259    5329    2692  1045896006\n",
      "11039      226260    5329     942  1045896053\n",
      "11040      226261    5329    2019  1045896053\n",
      "11041      226262    5329    3035  1045896063\n",
      "\n",
      "[11042 rows x 4 columns]\n"
     ]
    }
   ],
   "source": [
    "sys.path.append('./')\n",
    "configPath = 'config'\n",
    "\n",
    "Data = []\n",
    "data = pd.read_csv(\"ml1m_sample5_2.csv\")\n",
    "print(data)\n",
    "Data = data.values.tolist()\n",
    "\n",
    "Data = Data[1:]\n",
    " "
   ]
  },
  {
   "cell_type": "code",
   "execution_count": 8,
   "metadata": {},
   "outputs": [
    {
     "name": "stdout",
     "output_type": "stream",
     "text": [
      "start time 2022-09-20 00:00:59.102854\n",
      "npmean(resuls[Recall@20]) 0.08310749774164408\n",
      "end time 2022-09-20 00:01:49.000006\n",
      "run time 0:00:49.897152\n",
      "\n",
      "get tuple 2.5987862655298293e-06\n",
      "recommend 0.02167174163549573\n",
      "eval_point 1.8516099442203733e-05\n",
      "update 0.002338107713440732\n"
     ]
    }
   ],
   "source": [
    "Data_Transpose = np.transpose(Data)\n",
    "stream = ImplicitData(Data_Transpose[1],Data_Transpose[2])\n",
    "\n",
    "\n",
    "\n",
    "num_clusters = 8\n",
    "cl_num_iterations = 20\n",
    "cl_learn_rate =0.1\n",
    "cl_regularization = 0.1\n",
    "num_factors = 160\n",
    "num_iter = 8\n",
    "learn_rate = 0.1\n",
    "regularization = 0.4\n",
    "model = LocalUBISGD_normal(ImplicitData([],[]), num_clusters, cl_num_iterations, cl_learn_rate, cl_regularization, \n",
    "    num_factors, num_iter, learn_rate, regularization, random_seed = 10)\n",
    "eval = EvalPrequential(model,stream, metrics = [\"Recall@20\"])\n",
    "start_recommend = datetime.now()\n",
    "print('start time', start_recommend)\n",
    "\n",
    "results=eval.EvaluateTime(0,stream.size, 10)\n",
    "\n",
    "print('npmean(resuls[Recall@20])', np.mean(results['Recall@20']))\n",
    "end_recommend = datetime.now()\n",
    "print('end time', end_recommend)\n",
    "\n",
    "tempo = end_recommend - start_recommend\n",
    "\n",
    "print('run time', tempo)\n",
    "print('')\n",
    "print('get tuple',np.mean(results['time_get_tuple']))\n",
    "print('recommend',np.mean(results['time_recommend']))\n",
    "print('eval_point',np.mean(results['time_eval_point']))\n",
    "print('update',np.mean(results['time_update'])) "
   ]
  },
  {
   "cell_type": "markdown",
   "metadata": {},
   "source": [
    "### ml1m_sample5_3"
   ]
  },
  {
   "cell_type": "code",
   "execution_count": 9,
   "metadata": {},
   "outputs": [
    {
     "name": "stdout",
     "output_type": "stream",
     "text": [
      "       Unnamed: 0  UserID  ItemID   Timestamp\n",
      "0             110    6035    1193   956710879\n",
      "1             120    6035    2628   956711024\n",
      "2             123    6035    3175   956711064\n",
      "3             124    6035    2571   956711064\n",
      "4             129    6035    1527   956711121\n",
      "...           ...     ...     ...         ...\n",
      "11544      226173    5654    1500  1045160087\n",
      "11545      226174    5654      39  1045160173\n",
      "11546      226175    5654    3358  1045160206\n",
      "11547      226176    5654    3526  1045162240\n",
      "11548      226203    5654    2022  1045669508\n",
      "\n",
      "[11549 rows x 4 columns]\n"
     ]
    }
   ],
   "source": [
    "sys.path.append('./')\n",
    "configPath = 'config'\n",
    "\n",
    "Data = []\n",
    "data = pd.read_csv(\"ml1m_sample5_3.csv\")\n",
    "print(data)\n",
    "Data = data.values.tolist()\n",
    "\n",
    "Data = Data[1:]"
   ]
  },
  {
   "cell_type": "code",
   "execution_count": 10,
   "metadata": {},
   "outputs": [
    {
     "name": "stdout",
     "output_type": "stream",
     "text": [
      "start time 2022-09-20 00:02:59.329939\n",
      "npmean(resuls[Recall@20]) 0.08608695652173913\n",
      "end time 2022-09-20 00:03:50.716054\n",
      "run time 0:00:51.386115\n",
      "\n",
      "get tuple 2.5845333742855904e-06\n",
      "recommend 0.021488810000212296\n",
      "eval_point 1.7172357310419497e-05\n",
      "update 0.002302042910249166\n"
     ]
    }
   ],
   "source": [
    "Data_Transpose = np.transpose(Data)\n",
    "stream = ImplicitData(Data_Transpose[1],Data_Transpose[2])\n",
    "\n",
    "\n",
    "\n",
    "num_clusters = 8\n",
    "cl_num_iterations = 20\n",
    "cl_learn_rate =0.1\n",
    "cl_regularization = 0.1\n",
    "num_factors = 160\n",
    "num_iter = 8\n",
    "learn_rate = 0.1\n",
    "regularization = 0.4\n",
    "model = LocalUBISGD_normal(ImplicitData([],[]), num_clusters, cl_num_iterations, cl_learn_rate, cl_regularization, \n",
    "    num_factors, num_iter, learn_rate, regularization, random_seed = 10)\n",
    "eval = EvalPrequential(model,stream, metrics = [\"Recall@20\"])\n",
    "start_recommend = datetime.now()\n",
    "print('start time', start_recommend)\n",
    "\n",
    "results=eval.EvaluateTime(0,stream.size, 10)\n",
    "\n",
    "print('npmean(resuls[Recall@20])', np.mean(results['Recall@20']))\n",
    "end_recommend = datetime.now()\n",
    "print('end time', end_recommend)\n",
    "\n",
    "tempo = end_recommend - start_recommend\n",
    "\n",
    "print('run time', tempo)\n",
    "print('')\n",
    "print('get tuple',np.mean(results['time_get_tuple']))\n",
    "print('recommend',np.mean(results['time_recommend']))\n",
    "print('eval_point',np.mean(results['time_eval_point']))\n",
    "print('update',np.mean(results['time_update'])) "
   ]
  },
  {
   "cell_type": "markdown",
   "metadata": {},
   "source": [
    "### ml1m_sample5_4"
   ]
  },
  {
   "cell_type": "code",
   "execution_count": 11,
   "metadata": {},
   "outputs": [
    {
     "name": "stdout",
     "output_type": "stream",
     "text": [
      "       Unnamed: 0  UserID  ItemID   Timestamp\n",
      "0              42    6038    1079   956707547\n",
      "1              43    6038    1148   956707604\n",
      "2              44    6038    3088   956707640\n",
      "3              45    6038    1223   956707734\n",
      "4             206    6033    1193   956713500\n",
      "...           ...     ...     ...         ...\n",
      "11461      226168    4958    2087  1045000073\n",
      "11462      226242     839     909  1045857499\n",
      "11463      226243     839     750  1045857818\n",
      "11464      226244     839     954  1045859395\n",
      "11465      226310    4958    1407  1046454443\n",
      "\n",
      "[11466 rows x 4 columns]\n"
     ]
    }
   ],
   "source": [
    "sys.path.append('./')\n",
    "configPath = 'config'\n",
    "\n",
    "Data = []\n",
    "data = pd.read_csv(\"ml1m_sample5_4.csv\")\n",
    "print(data)\n",
    "Data = data.values.tolist()\n",
    "\n",
    "Data = Data[1:]"
   ]
  },
  {
   "cell_type": "code",
   "execution_count": 12,
   "metadata": {},
   "outputs": [
    {
     "name": "stdout",
     "output_type": "stream",
     "text": [
      "start time 2022-09-20 00:05:35.472921\n",
      "npmean(resuls[Recall@20]) 0.09075043630017451\n",
      "end time 2022-09-20 00:06:23.909959\n",
      "run time 0:00:48.437038\n",
      "\n",
      "get tuple 2.4059793078842197e-06\n",
      "recommend 0.019503940462441968\n",
      "eval_point 1.6742975924027528e-05\n",
      "update 0.0022677946236265628\n"
     ]
    }
   ],
   "source": [
    "Data_Transpose = np.transpose(Data)\n",
    "stream = ImplicitData(Data_Transpose[1],Data_Transpose[2])\n",
    "\n",
    "\n",
    "\n",
    "num_clusters = 8\n",
    "cl_num_iterations = 20\n",
    "cl_learn_rate =0.1\n",
    "cl_regularization = 0.1\n",
    "num_factors = 160\n",
    "num_iter = 8\n",
    "learn_rate = 0.1\n",
    "regularization = 0.4\n",
    "model = LocalUBISGD_normal(ImplicitData([],[]), num_clusters, cl_num_iterations, cl_learn_rate, cl_regularization, \n",
    "    num_factors, num_iter, learn_rate, regularization, random_seed = 10)\n",
    "eval = EvalPrequential(model,stream, metrics = [\"Recall@20\"])\n",
    "start_recommend = datetime.now()\n",
    "print('start time', start_recommend)\n",
    "\n",
    "results=eval.EvaluateTime(0,stream.size, 10)\n",
    "\n",
    "print('npmean(resuls[Recall@20])', np.mean(results['Recall@20']))\n",
    "end_recommend = datetime.now()\n",
    "print('end time', end_recommend)\n",
    "\n",
    "tempo = end_recommend - start_recommend\n",
    "\n",
    "print('run time', tempo)\n",
    "print('')\n",
    "print('get tuple',np.mean(results['time_get_tuple']))\n",
    "print('recommend',np.mean(results['time_recommend']))\n",
    "print('eval_point',np.mean(results['time_eval_point']))\n",
    "print('update',np.mean(results['time_update'])) "
   ]
  },
  {
   "cell_type": "markdown",
   "metadata": {},
   "source": [
    "### ml1m_sample5_5"
   ]
  },
  {
   "cell_type": "code",
   "execution_count": 13,
   "metadata": {},
   "outputs": [
    {
     "name": "stdout",
     "output_type": "stream",
     "text": [
      "       Unnamed: 0  UserID  ItemID   Timestamp\n",
      "0               1    6040     593   956703954\n",
      "1               2    6040    2019   956703977\n",
      "2               3    6040     213   956704056\n",
      "3               4    6040    3111   956704056\n",
      "4               5    6040     912   956704191\n",
      "...           ...     ...     ...         ...\n",
      "11050      226029     424    1935  1043844911\n",
      "11051      226054     424    1939  1044296801\n",
      "11052      226201     424    3739  1045581875\n",
      "11053      226239     424    2494  1045837566\n",
      "11054      226279     424    3535  1046112575\n",
      "\n",
      "[11055 rows x 4 columns]\n"
     ]
    }
   ],
   "source": [
    "sys.path.append('./')\n",
    "configPath = 'config'\n",
    "\n",
    "Data = []\n",
    "data = pd.read_csv(\"ml1m_sample5_5.csv\")\n",
    "print(data)\n",
    "Data = data.values.tolist()\n",
    "\n",
    "Data = Data[1:]"
   ]
  },
  {
   "cell_type": "code",
   "execution_count": 14,
   "metadata": {},
   "outputs": [
    {
     "name": "stdout",
     "output_type": "stream",
     "text": [
      "start time 2022-09-20 00:08:02.496520\n",
      "npmean(resuls[Recall@20]) 0.09202453987730061\n",
      "end time 2022-09-20 00:08:49.424471\n",
      "run time 0:00:46.927951\n",
      "\n",
      "get tuple 2.475377554399143e-06\n",
      "recommend 0.01944007443086188\n",
      "eval_point 1.6784375430616134e-05\n",
      "update 0.0022310630223063895\n"
     ]
    }
   ],
   "source": [
    "Data_Transpose = np.transpose(Data)\n",
    "stream = ImplicitData(Data_Transpose[1],Data_Transpose[2])\n",
    "\n",
    "\n",
    "\n",
    "num_clusters = 8\n",
    "cl_num_iterations = 20\n",
    "cl_learn_rate =0.1\n",
    "cl_regularization = 0.1\n",
    "num_factors = 160\n",
    "num_iter = 8\n",
    "learn_rate = 0.1\n",
    "regularization = 0.4\n",
    "model = LocalUBISGD_normal(ImplicitData([],[]), num_clusters, cl_num_iterations, cl_learn_rate, cl_regularization, \n",
    "    num_factors, num_iter, learn_rate, regularization, random_seed = 10)\n",
    "eval = EvalPrequential(model,stream, metrics = [\"Recall@20\"])\n",
    "start_recommend = datetime.now()\n",
    "print('start time', start_recommend)\n",
    "\n",
    "results=eval.EvaluateTime(0,stream.size, 10)\n",
    "\n",
    "print('npmean(resuls[Recall@20])', np.mean(results['Recall@20']))\n",
    "end_recommend = datetime.now()\n",
    "print('end time', end_recommend)\n",
    "\n",
    "tempo = end_recommend - start_recommend\n",
    "\n",
    "print('run time', tempo)\n",
    "print('')\n",
    "print('get tuple',np.mean(results['time_get_tuple']))\n",
    "print('recommend',np.mean(results['time_recommend']))\n",
    "print('eval_point',np.mean(results['time_eval_point']))\n",
    "print('update',np.mean(results['time_update'])) "
   ]
  },
  {
   "cell_type": "code",
   "execution_count": null,
   "metadata": {},
   "outputs": [],
   "source": []
  }
 ],
 "metadata": {
  "kernelspec": {
   "display_name": "myenv",
   "language": "python",
   "name": "myenv"
  },
  "language_info": {
   "codemirror_mode": {
    "name": "ipython",
    "version": 3
   },
   "file_extension": ".py",
   "mimetype": "text/x-python",
   "name": "python",
   "nbconvert_exporter": "python",
   "pygments_lexer": "ipython3",
   "version": "3.9.5"
  }
 },
 "nbformat": 4,
 "nbformat_minor": 4
}
