{
 "cells": [
  {
   "cell_type": "code",
   "execution_count": 1,
   "metadata": {},
   "outputs": [
    {
     "name": "stderr",
     "output_type": "stream",
     "text": [
      "/home/mmelo/miniconda3/lib/python3.9/site-packages/IPython/core/interactiveshell.py:3444: FutureWarning: In a future version of pandas all arguments of read_csv except for the argument 'filepath_or_buffer' will be keyword-only\n",
      "  exec(code_obj, self.user_global_ns, self.user_ns)\n"
     ]
    },
    {
     "name": "stdout",
     "output_type": "stream",
     "text": [
      "        user_id  item_id\n",
      "0        378723   124036\n",
      "1        378723   608145\n",
      "2        378723    48098\n",
      "3        378723    80338\n",
      "4        378723   334716\n",
      "...         ...      ...\n",
      "476881   791728   544937\n",
      "476882   311543    51032\n",
      "476883   311543   254517\n",
      "476884   311543    19252\n",
      "476885   311543    59298\n",
      "\n",
      "[476886 rows x 2 columns]\n",
      "start time 2022-09-26 21:32:59.333041\n",
      "npmean(resuls[Recall@20]) 0.10981059799957438\n",
      "end time 2022-09-27 00:51:10.649460\n",
      "run time 3:18:11.316419\n",
      "\n",
      "get tuple 5.478476346943199e-06\n",
      "recommend 2.141154793735057\n",
      "eval_point 1.937233404698182e-05\n",
      "update 0.003824970124889668\n"
     ]
    }
   ],
   "source": [
    "from data import ImplicitData\n",
    "#from param_tuning import PatternSearchISGD\n",
    "from pprint import pprint\n",
    "import pandas as pd\n",
    "from operator import itemgetter\n",
    "import numpy as np\n",
    "from BISGD import BISGD\n",
    "from eval_implicit import EvalPrequential\n",
    "from datetime import datetime\n",
    "import sys\n",
    "import csv\n",
    "sys.path.append('./')\n",
    "configPath = 'config'\n",
    "dataPath = 'ymusic_gte90_6kusers.tsv'\n",
    "\n",
    "\n",
    "Data = []\n",
    "data = pd.read_csv(\"ymusic_gte90_6kusers.tsv\",\"\\t\")\n",
    "print(data)\n",
    "Data = data.values.tolist()\n",
    "\n",
    "Data_Transpose = np.transpose(Data)\n",
    "stream = ImplicitData(Data_Transpose[0],Data_Transpose[1])\n",
    "\n",
    "num_factors = 200\n",
    "num_iterations = 9\n",
    "learn_rate = 0.25\n",
    "u_regularization = 0.45\n",
    "i_regularization = 0.45\n",
    "random_seed = 10\n",
    "num_nodes = 8\n",
    "\n",
    "model = BISGD(ImplicitData([],[]),num_factors, num_iterations,num_nodes,learn_rate,u_regularization,i_regularization,random_seed)\n",
    "\n",
    "\n",
    "eval = EvalPrequential(model,stream, metrics = [\"Recall@20\"])\n",
    "start_recommend = datetime.now()\n",
    "print('start time', start_recommend)\n",
    "\n",
    "results=eval.EvaluateTime(0,stream.size, 100)\n",
    "\n",
    "print('npmean(resuls[Recall@20])', np.mean(results['Recall@20']))\n",
    "end_recommend = datetime.now()\n",
    "print('end time', end_recommend)\n",
    "\n",
    "tempo = end_recommend - start_recommend\n",
    "\n",
    "print('run time', tempo)\n",
    "print('')\n",
    "print('get tuple',np.mean(results['time_get_tuple']))\n",
    "print('recommend',np.mean(results['time_recommend']))\n",
    "print('eval_point',np.mean(results['time_eval_point']))\n",
    "print('update',np.mean(results['time_update']))"
   ]
  },
  {
   "cell_type": "markdown",
   "metadata": {},
   "source": [
    "## Import"
   ]
  },
  {
   "cell_type": "code",
   "execution_count": 2,
   "metadata": {},
   "outputs": [],
   "source": [
    "from data import ImplicitData\n",
    "#from param_tuning import PatternSearchISGD\n",
    "from pprint import pprint\n",
    "import pandas as pd\n",
    "from operator import itemgetter\n",
    "import numpy as np\n",
    "from BISGD import BISGD\n",
    "from eval_implicit import EvalPrequential\n",
    "from datetime import datetime\n",
    "import sys\n",
    "import csv"
   ]
  },
  {
   "cell_type": "markdown",
   "metadata": {},
   "source": [
    "### ymusic_sample5_1"
   ]
  },
  {
   "cell_type": "code",
   "execution_count": 3,
   "metadata": {},
   "outputs": [
    {
     "name": "stdout",
     "output_type": "stream",
     "text": [
      "       Unnamed: 0  user_id  item_id\n",
      "0            3873   795245    10843\n",
      "1            3874   795245    56437\n",
      "2            3875   795245    75757\n",
      "3            3876   795245    96467\n",
      "4            3877   795245   111214\n",
      "...           ...      ...      ...\n",
      "22775      476510   555020   475132\n",
      "22776      476511   555020   141032\n",
      "22777      476512   555020   201436\n",
      "22778      476513   555020   125269\n",
      "22779      476514   555020   141393\n",
      "\n",
      "[22780 rows x 3 columns]\n"
     ]
    }
   ],
   "source": [
    "sys.path.append('./')\n",
    "configPath = 'config'\n",
    "dataPath = 'ymusic_gte90_6kusers.tsv'\n",
    "\n",
    "\n",
    "Data = []\n",
    "data = pd.read_csv(\"ymusic_sample5_1.csv\")\n",
    "print(data)\n",
    "Data = data.values.tolist()"
   ]
  },
  {
   "cell_type": "code",
   "execution_count": 4,
   "metadata": {},
   "outputs": [
    {
     "name": "stdout",
     "output_type": "stream",
     "text": [
      "start time 2022-09-21 20:47:08.055833\n",
      "npmean(resuls[Recall@20]) 0.06796116504854369\n",
      "end time 2022-09-21 20:48:13.491610\n",
      "run time 0:01:05.435777\n",
      "\n",
      "get tuple 2.630129521933431e-06\n",
      "recommend 0.12209008851097626\n",
      "eval_point 1.6544629069207942e-05\n",
      "update 0.0017628502594576895\n"
     ]
    }
   ],
   "source": [
    "Data_Transpose = np.transpose(Data)\n",
    "stream = ImplicitData(Data_Transpose[1],Data_Transpose[2])\n",
    "\n",
    "num_factors = 200\n",
    "num_iterations = 9\n",
    "learn_rate = 0.25\n",
    "u_regularization = 0.4\n",
    "i_regularization = 0.4\n",
    "random_seed = 10\n",
    "num_nodes = 8\n",
    "\n",
    "\n",
    "model = BISGD(ImplicitData([],[]),num_factors, num_iterations,num_nodes,learn_rate,u_regularization,i_regularization,random_seed)\n",
    "\n",
    "eval = EvalPrequential(model,stream, metrics = [\"Recall@20\"])\n",
    "start_recommend = datetime.now()\n",
    "print('start time', start_recommend)\n",
    "\n",
    "results=eval.EvaluateTime(0,stream.size, 100)\n",
    "\n",
    "print('npmean(resuls[Recall@20])', np.mean(results['Recall@20']))\n",
    "end_recommend = datetime.now()\n",
    "print('end time', end_recommend)\n",
    "\n",
    "tempo = end_recommend - start_recommend\n",
    "\n",
    "print('run time', tempo)\n",
    "print('')\n",
    "print('get tuple',np.mean(results['time_get_tuple']))\n",
    "print('recommend',np.mean(results['time_recommend']))\n",
    "print('eval_point',np.mean(results['time_eval_point']))\n",
    "print('update',np.mean(results['time_update']))"
   ]
  },
  {
   "cell_type": "markdown",
   "metadata": {},
   "source": [
    "### ymusic_sample5_2"
   ]
  },
  {
   "cell_type": "code",
   "execution_count": 5,
   "metadata": {},
   "outputs": [
    {
     "name": "stdout",
     "output_type": "stream",
     "text": [
      "       Unnamed: 0  user_id  item_id\n",
      "0             785   218332    67176\n",
      "1             786   218332    74262\n",
      "2             787   218332   196852\n",
      "3             788   218332   290893\n",
      "4             789   218332   366723\n",
      "...           ...      ...      ...\n",
      "27915      476256   986546    53049\n",
      "27916      476257   986546   381024\n",
      "27917      476258   986546   392726\n",
      "27918      476686   836553   309703\n",
      "27919      476687   836553   219502\n",
      "\n",
      "[27920 rows x 3 columns]\n"
     ]
    }
   ],
   "source": [
    "sys.path.append('./')\n",
    "configPath = 'config'\n",
    "dataPath = 'ymusic_gte90_6kusers.tsv'\n",
    "\n",
    "\n",
    "Data = []\n",
    "data = pd.read_csv(\"ymusic_sample5_2.csv\")\n",
    "print(data)\n",
    "Data = data.values.tolist()"
   ]
  },
  {
   "cell_type": "code",
   "execution_count": 6,
   "metadata": {},
   "outputs": [
    {
     "name": "stdout",
     "output_type": "stream",
     "text": [
      "start time 2022-09-21 20:48:14.345374\n",
      "npmean(resuls[Recall@20]) 0.09\n",
      "end time 2022-09-21 20:49:54.248971\n",
      "run time 0:01:39.903597\n",
      "\n",
      "get tuple 2.3923921038564774e-06\n",
      "recommend 0.16894421100616455\n",
      "eval_point 1.64031982421875e-05\n",
      "update 0.0017577419308331772\n"
     ]
    }
   ],
   "source": [
    "Data_Transpose = np.transpose(Data)\n",
    "stream = ImplicitData(Data_Transpose[1],Data_Transpose[2])\n",
    "\n",
    "num_factors = 200\n",
    "num_iterations = 9\n",
    "learn_rate = 0.25\n",
    "u_regularization = 0.4\n",
    "i_regularization = 0.4\n",
    "random_seed = 10\n",
    "num_nodes = 8\n",
    "\n",
    "\n",
    "model = BISGD(ImplicitData([],[]),num_factors, num_iterations,num_nodes,learn_rate,u_regularization,i_regularization,random_seed)\n",
    "\n",
    "eval = EvalPrequential(model,stream, metrics = [\"Recall@20\"])\n",
    "start_recommend = datetime.now()\n",
    "print('start time', start_recommend)\n",
    "\n",
    "results=eval.EvaluateTime(0,stream.size, 100)\n",
    "\n",
    "print('npmean(resuls[Recall@20])', np.mean(results['Recall@20']))\n",
    "end_recommend = datetime.now()\n",
    "print('end time', end_recommend)\n",
    "\n",
    "tempo = end_recommend - start_recommend\n",
    "\n",
    "print('run time', tempo)\n",
    "print('')\n",
    "print('get tuple',np.mean(results['time_get_tuple']))\n",
    "print('recommend',np.mean(results['time_recommend']))\n",
    "print('eval_point',np.mean(results['time_eval_point']))\n",
    "print('update',np.mean(results['time_update']))"
   ]
  },
  {
   "cell_type": "markdown",
   "metadata": {},
   "source": [
    "### ymusic_sample5_3"
   ]
  },
  {
   "cell_type": "code",
   "execution_count": 7,
   "metadata": {},
   "outputs": [
    {
     "name": "stdout",
     "output_type": "stream",
     "text": [
      "       Unnamed: 0  user_id  item_id\n",
      "0            1792   292189    40476\n",
      "1            1793   292189   110821\n",
      "2            1794   292189   337957\n",
      "3            1795   292189   392167\n",
      "4            1796   292189   567378\n",
      "...           ...      ...      ...\n",
      "23055      476483   214741   137608\n",
      "23056      476485   214741   551893\n",
      "23057      476690   315275   385015\n",
      "23058      476760   736333    59141\n",
      "23059      476761   736333   343375\n",
      "\n",
      "[23060 rows x 3 columns]\n"
     ]
    }
   ],
   "source": [
    "sys.path.append('./')\n",
    "configPath = 'config'\n",
    "dataPath = 'ymusic_gte90_6kusers.tsv'\n",
    "\n",
    "\n",
    "Data = []\n",
    "data = pd.read_csv(\"ymusic_sample5_3.csv\")\n",
    "print(data)\n",
    "Data = data.values.tolist()"
   ]
  },
  {
   "cell_type": "code",
   "execution_count": 8,
   "metadata": {},
   "outputs": [
    {
     "name": "stdout",
     "output_type": "stream",
     "text": [
      "start time 2022-09-21 20:49:54.790173\n",
      "npmean(resuls[Recall@20]) 0.091324200913242\n",
      "end time 2022-09-21 20:51:06.886958\n",
      "run time 0:01:12.096785\n",
      "\n",
      "get tuple 2.4190284020985505e-06\n",
      "recommend 0.14585414869055902\n",
      "eval_point 1.772680239046001e-05\n",
      "update 0.00173592180763238\n"
     ]
    }
   ],
   "source": [
    "Data_Transpose = np.transpose(Data)\n",
    "stream = ImplicitData(Data_Transpose[1],Data_Transpose[2])\n",
    "\n",
    "num_factors = 200\n",
    "num_iterations = 9\n",
    "learn_rate = 0.25\n",
    "u_regularization = 0.4\n",
    "i_regularization = 0.4\n",
    "random_seed = 10\n",
    "num_nodes = 8\n",
    "\n",
    "\n",
    "model = BISGD(ImplicitData([],[]),num_factors, num_iterations,num_nodes,learn_rate,u_regularization,i_regularization,random_seed)\n",
    "\n",
    "eval = EvalPrequential(model,stream, metrics = [\"Recall@20\"])\n",
    "start_recommend = datetime.now()\n",
    "print('start time', start_recommend)\n",
    "\n",
    "results=eval.EvaluateTime(0,stream.size, 100)\n",
    "\n",
    "print('npmean(resuls[Recall@20])', np.mean(results['Recall@20']))\n",
    "end_recommend = datetime.now()\n",
    "print('end time', end_recommend)\n",
    "\n",
    "tempo = end_recommend - start_recommend\n",
    "\n",
    "print('run time', tempo)\n",
    "print('')\n",
    "print('get tuple',np.mean(results['time_get_tuple']))\n",
    "print('recommend',np.mean(results['time_recommend']))\n",
    "print('eval_point',np.mean(results['time_eval_point']))\n",
    "print('update',np.mean(results['time_update']))"
   ]
  },
  {
   "cell_type": "markdown",
   "metadata": {},
   "source": [
    "### ymusic_sample5_4"
   ]
  },
  {
   "cell_type": "code",
   "execution_count": 9,
   "metadata": {},
   "outputs": [
    {
     "name": "stdout",
     "output_type": "stream",
     "text": [
      "       Unnamed: 0  user_id  item_id\n",
      "0             461   762863   388288\n",
      "1             462   762863   556804\n",
      "2             463   762863   539820\n",
      "3             464   762863   369332\n",
      "4             465   762863   384847\n",
      "...           ...      ...      ...\n",
      "29563      476878   791728    97526\n",
      "29564      476879   791728   594258\n",
      "29565      476880   791728   278513\n",
      "29566      476881   791728   525766\n",
      "29567      476882   791728   544937\n",
      "\n",
      "[29568 rows x 3 columns]\n"
     ]
    }
   ],
   "source": [
    "sys.path.append('./')\n",
    "configPath = 'config'\n",
    "dataPath = 'ymusic_gte90_6kusers.tsv'\n",
    "\n",
    "\n",
    "Data = []\n",
    "data = pd.read_csv(\"ymusic_sample5_4.csv\")\n",
    "print(data)\n",
    "Data = data.values.tolist()"
   ]
  },
  {
   "cell_type": "code",
   "execution_count": 10,
   "metadata": {},
   "outputs": [
    {
     "name": "stdout",
     "output_type": "stream",
     "text": [
      "start time 2022-09-21 20:51:07.837920\n",
      "npmean(resuls[Recall@20]) 0.0738255033557047\n",
      "end time 2022-09-21 20:52:55.663934\n",
      "run time 0:01:47.826014\n",
      "\n",
      "get tuple 2.6981745447431294e-06\n",
      "recommend 0.1649492795035343\n",
      "eval_point 1.8355830403782378e-05\n",
      "update 0.001978359189190906\n"
     ]
    }
   ],
   "source": [
    "Data_Transpose = np.transpose(Data)\n",
    "stream = ImplicitData(Data_Transpose[1],Data_Transpose[2])\n",
    "\n",
    "num_factors = 200\n",
    "num_iterations = 9\n",
    "learn_rate = 0.25\n",
    "u_regularization = 0.4\n",
    "i_regularization = 0.4\n",
    "random_seed = 10\n",
    "num_nodes = 8\n",
    "\n",
    "\n",
    "model = BISGD(ImplicitData([],[]),num_factors, num_iterations,num_nodes,learn_rate,u_regularization,i_regularization,random_seed)\n",
    "\n",
    "eval = EvalPrequential(model,stream, metrics = [\"Recall@20\"])\n",
    "start_recommend = datetime.now()\n",
    "print('start time', start_recommend)\n",
    "\n",
    "results=eval.EvaluateTime(0,stream.size, 100)\n",
    "\n",
    "print('npmean(resuls[Recall@20])', np.mean(results['Recall@20']))\n",
    "end_recommend = datetime.now()\n",
    "print('end time', end_recommend)\n",
    "\n",
    "tempo = end_recommend - start_recommend\n",
    "\n",
    "print('run time', tempo)\n",
    "print('')\n",
    "print('get tuple',np.mean(results['time_get_tuple']))\n",
    "print('recommend',np.mean(results['time_recommend']))\n",
    "print('eval_point',np.mean(results['time_eval_point']))\n",
    "print('update',np.mean(results['time_update']))"
   ]
  },
  {
   "cell_type": "markdown",
   "metadata": {},
   "source": [
    "### ymusic_sample5_5"
   ]
  },
  {
   "cell_type": "code",
   "execution_count": 11,
   "metadata": {},
   "outputs": [
    {
     "name": "stdout",
     "output_type": "stream",
     "text": [
      "       Unnamed: 0  user_id  item_id\n",
      "0            1080   540444   196323\n",
      "1            1081   540444   504528\n",
      "2            1082   540444   314333\n",
      "3            1083   540444   258823\n",
      "4            1446   540444   196852\n",
      "...           ...      ...      ...\n",
      "27883      476395   214741   436267\n",
      "27884      476481   214741    80180\n",
      "27885      476482   214741    22329\n",
      "27886      476483   214741   137608\n",
      "27887      476485   214741   551893\n",
      "\n",
      "[27888 rows x 3 columns]\n"
     ]
    }
   ],
   "source": [
    "sys.path.append('./')\n",
    "configPath = 'config'\n",
    "dataPath = 'ymusic_gte90_6kusers.tsv'\n",
    "\n",
    "\n",
    "Data = []\n",
    "data = pd.read_csv(\"ymusic_sample5_5.csv\")\n",
    "print(data)\n",
    "Data = data.values.tolist()"
   ]
  },
  {
   "cell_type": "code",
   "execution_count": 12,
   "metadata": {},
   "outputs": [
    {
     "name": "stdout",
     "output_type": "stream",
     "text": [
      "start time 2022-09-21 20:52:56.515067\n",
      "npmean(resuls[Recall@20]) 0.0703125\n",
      "end time 2022-09-21 20:54:36.251566\n",
      "run time 0:01:39.736499\n",
      "\n",
      "get tuple 2.551603713941109e-06\n",
      "recommend 0.18797352444380522\n",
      "eval_point 1.8584541976451874e-05\n",
      "update 0.0018451889817631252\n"
     ]
    }
   ],
   "source": [
    "Data_Transpose = np.transpose(Data)\n",
    "stream = ImplicitData(Data_Transpose[1],Data_Transpose[2])\n",
    "\n",
    "num_factors = 200\n",
    "num_iterations = 9\n",
    "learn_rate = 0.25\n",
    "u_regularization = 0.4\n",
    "i_regularization = 0.4\n",
    "random_seed = 10\n",
    "num_nodes = 8\n",
    "\n",
    "\n",
    "model = BISGD(ImplicitData([],[]),num_factors, num_iterations,num_nodes,learn_rate,u_regularization,i_regularization,random_seed)\n",
    "\n",
    "eval = EvalPrequential(model,stream, metrics = [\"Recall@20\"])\n",
    "start_recommend = datetime.now()\n",
    "print('start time', start_recommend)\n",
    "\n",
    "results=eval.EvaluateTime(0,stream.size, 100)\n",
    "\n",
    "print('npmean(resuls[Recall@20])', np.mean(results['Recall@20']))\n",
    "end_recommend = datetime.now()\n",
    "print('end time', end_recommend)\n",
    "\n",
    "tempo = end_recommend - start_recommend\n",
    "\n",
    "print('run time', tempo)\n",
    "print('')\n",
    "print('get tuple',np.mean(results['time_get_tuple']))\n",
    "print('recommend',np.mean(results['time_recommend']))\n",
    "print('eval_point',np.mean(results['time_eval_point']))\n",
    "print('update',np.mean(results['time_update']))"
   ]
  },
  {
   "cell_type": "code",
   "execution_count": null,
   "metadata": {},
   "outputs": [],
   "source": []
  }
 ],
 "metadata": {
  "kernelspec": {
   "display_name": "myenv",
   "language": "python",
   "name": "myenv"
  },
  "language_info": {
   "codemirror_mode": {
    "name": "ipython",
    "version": 3
   },
   "file_extension": ".py",
   "mimetype": "text/x-python",
   "name": "python",
   "nbconvert_exporter": "python",
   "pygments_lexer": "ipython3",
   "version": "3.9.5"
  }
 },
 "nbformat": 4,
 "nbformat_minor": 4
}
