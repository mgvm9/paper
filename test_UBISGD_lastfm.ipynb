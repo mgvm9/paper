{
 "cells": [
  {
   "cell_type": "markdown",
   "metadata": {},
   "source": [
    "# Teste UBISGD"
   ]
  },
  {
   "cell_type": "code",
   "execution_count": 1,
   "metadata": {},
   "outputs": [
    {
     "name": "stderr",
     "output_type": "stream",
     "text": [
      "/home/mmelo/miniconda3/lib/python3.9/site-packages/IPython/core/interactiveshell.py:3444: FutureWarning: In a future version of pandas all arguments of read_csv except for the argument 'filepath_or_buffer' will be keyword-only\n",
      "  exec(code_obj, self.user_global_ns, self.user_ns)\n"
     ]
    },
    {
     "name": "stdout",
     "output_type": "stream",
     "text": [
      "            user_id                               item_id  \\\n",
      "0       user_000709  1d0f1ea5-0a92-4578-a7e7-3f2a7129da61   \n",
      "1       user_000709  166284c3-560e-4caa-ba19-4009a14acd71   \n",
      "2       user_000709  60572fab-c835-4733-aa5a-2864c318c9c8   \n",
      "3       user_000709  657bc98f-9fbe-48b0-866a-25df4d9fb8fa   \n",
      "4       user_000709  c9adb837-71e8-4f13-bd2d-dd24165a027d   \n",
      "...             ...                                   ...   \n",
      "112147  user_000262  dc73c65b-1a69-43f8-be5a-619d8f29d413   \n",
      "112148  user_000262  6d9c5b91-b275-42ad-8659-59a2f66d0ed2   \n",
      "112149  user_000019  997ac02f-e857-4e40-b30e-adbc158c8f70   \n",
      "112150  user_000019  8639a180-d8de-4210-95a9-eb97f7705807   \n",
      "112151  user_000957  b366f829-202b-429c-9e9c-7d2787b30549   \n",
      "\n",
      "                   timestamp  \n",
      "0       2005-02-14T00:01:44Z  \n",
      "1       2005-02-14T00:05:44Z  \n",
      "2       2005-02-14T00:10:04Z  \n",
      "3       2005-02-14T00:14:14Z  \n",
      "4       2005-02-14T00:18:34Z  \n",
      "...                      ...  \n",
      "112147  2006-01-21T18:39:21Z  \n",
      "112148  2006-01-21T18:41:52Z  \n",
      "112149  2006-01-21T18:42:10Z  \n",
      "112150  2006-01-21T18:42:51Z  \n",
      "112151  2006-01-21T18:43:09Z  \n",
      "\n",
      "[112152 rows x 3 columns]\n",
      "start time 2022-06-06 00:25:49.567783\n"
     ]
    },
    {
     "name": "stderr",
     "output_type": "stream",
     "text": [
      "/home/mmelo/NMF|BISGD/data/implicit_data.py:56: FutureWarning: elementwise comparison failed; returning scalar instead, but in the future will perform elementwise comparison\n",
      "  if user not in self.userset:\n",
      "/home/mmelo/NMF|BISGD/data/implicit_data.py:62: FutureWarning: elementwise comparison failed; returning scalar instead, but in the future will perform elementwise comparison\n",
      "  if item not in self.itemset:\n"
     ]
    },
    {
     "name": "stdout",
     "output_type": "stream",
     "text": [
      "npmean(resuls[Recall@20]) 0.0\n",
      "end time 2022-06-06 00:30:21.572049\n",
      "run time 0:04:32.004266\n",
      "\n",
      "get tuple 8.572110079419674e-06\n",
      "recommend 0.5603859985575956\n",
      "eval_point 3.14832735462349e-05\n",
      "update 0.0018156005517503948\n"
     ]
    }
   ],
   "source": [
    "from data import ImplicitData\n",
    "#from param_tuning import PatternSearchISGD\n",
    "from pprint import pprint\n",
    "import pandas as pd\n",
    "from operator import itemgetter\n",
    "import numpy as np\n",
    "from UBISGD import UBISGD\n",
    "from eval_implicit import EvalPrequential\n",
    "from datetime import datetime\n",
    "import sys\n",
    "import csv\n",
    "\n",
    "sys.path.append('./')\n",
    "configPath = 'config'\n",
    "dataPath = 'lastfm_50u.tsv'\n",
    "\n",
    "\n",
    "Data = []\n",
    "data = pd.read_csv(\"lastfm_50u.tsv\",\"\\t\")\n",
    "data = data.head(n=112152)\n",
    "print(data)\n",
    "Data = data.values.tolist()\n",
    "\n",
    "\n",
    "Data_Transpose = np.transpose(Data)\n",
    "stream = ImplicitData(Data_Transpose[0],Data_Transpose[1])\n",
    "\n",
    "num_factors = 160\n",
    "num_iterations = 4\n",
    "learn_rate = 0.5\n",
    "u_regularization = 0.4\n",
    "i_regularization = 0.4\n",
    "random_seed = 10\n",
    "num_nodes = 8\n",
    "\n",
    "model = UBISGD(ImplicitData([],[]),num_factors, num_iterations,num_nodes,learn_rate,u_regularization,i_regularization,random_seed)\n",
    "\n",
    "\n",
    "eval = EvalPrequential(model,stream, metrics = [\"Recall@20\"])\n",
    "start_recommend = datetime.now()\n",
    "print('start time', start_recommend)\n",
    "\n",
    "results=eval.EvaluateTime(0,stream.size, 1000)\n",
    "\n",
    "print('npmean(resuls[Recall@20])', np.mean(results['Recall@20']))\n",
    "end_recommend = datetime.now()\n",
    "print('end time', end_recommend)\n",
    "\n",
    "tempo = end_recommend - start_recommend\n",
    "\n",
    "print('run time', tempo)\n",
    "print('')\n",
    "print('get tuple',np.mean(results['time_get_tuple']))\n",
    "print('recommend',np.mean(results['time_recommend']))\n",
    "print('eval_point',np.mean(results['time_eval_point']))\n",
    "print('update',np.mean(results['time_update']))\n",
    "\n"
   ]
  },
  {
   "cell_type": "code",
   "execution_count": null,
   "metadata": {},
   "outputs": [],
   "source": []
  }
 ],
 "metadata": {
  "kernelspec": {
   "display_name": "myenv",
   "language": "python",
   "name": "myenv"
  },
  "language_info": {
   "codemirror_mode": {
    "name": "ipython",
    "version": 3
   },
   "file_extension": ".py",
   "mimetype": "text/x-python",
   "name": "python",
   "nbconvert_exporter": "python",
   "pygments_lexer": "ipython3",
   "version": "3.9.5"
  }
 },
 "nbformat": 4,
 "nbformat_minor": 4
}
