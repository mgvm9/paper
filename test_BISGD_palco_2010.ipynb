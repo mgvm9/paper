{
 "cells": [
  {
   "cell_type": "code",
   "execution_count": 2,
   "metadata": {},
   "outputs": [
    {
     "name": "stderr",
     "output_type": "stream",
     "text": [
      "/home/mmelo/miniconda3/lib/python3.9/site-packages/IPython/core/interactiveshell.py:3444: FutureWarning: In a future version of pandas all arguments of read_csv except for the argument 'filepath_or_buffer' will be keyword-only\n",
      "  exec(code_obj, self.user_global_ns, self.user_ns)\n"
     ]
    },
    {
     "name": "stdout",
     "output_type": "stream",
     "text": [
      "        user_id  track_id            timestamp\n",
      "0          4220     31313  2010-01-01 00:10:36\n",
      "1          4220     29567  2010-01-01 00:13:07\n",
      "2          4220     31313  2010-01-01 00:13:18\n",
      "3          3970     34925  2010-01-01 00:39:21\n",
      "4          6258     18106  2010-01-01 00:46:25\n",
      "...         ...       ...                  ...\n",
      "588846    51303     37059  2010-12-31 23:43:41\n",
      "588847    56256     66353  2010-12-31 23:44:15\n",
      "588848    51303     12801  2010-12-31 23:46:58\n",
      "588849    51303     12800  2010-12-31 23:51:12\n",
      "588850    51303      4126  2010-12-31 23:57:07\n",
      "\n",
      "[588851 rows x 3 columns]\n",
      "start time 2022-09-26 21:28:57.591004\n"
     ]
    },
    {
     "name": "stderr",
     "output_type": "stream",
     "text": [
      "/home/mmelo/NMF|BISGD/data/implicit_data.py:56: FutureWarning: elementwise comparison failed; returning scalar instead, but in the future will perform elementwise comparison\n",
      "  if user not in self.userset:\n",
      "/home/mmelo/NMF|BISGD/data/implicit_data.py:62: FutureWarning: elementwise comparison failed; returning scalar instead, but in the future will perform elementwise comparison\n",
      "  if item not in self.itemset:\n"
     ]
    },
    {
     "name": "stdout",
     "output_type": "stream",
     "text": [
      "npmean(resuls[Recall@20]) 0.16851252342818196\n",
      "end time 2022-09-26 23:17:40.230187\n",
      "run time 1:48:42.639183\n",
      "\n",
      "get tuple 1.1228749392386904e-05\n",
      "recommend 0.7012797605648096\n",
      "eval_point 3.1185995112653284e-05\n",
      "update 0.0040682280959909\n"
     ]
    }
   ],
   "source": [
    "from data import ImplicitData\n",
    "#from param_tuning import PatternSearchISGD\n",
    "from pprint import pprint\n",
    "import pandas as pd\n",
    "from operator import itemgetter\n",
    "import numpy as np\n",
    "from BISGD import BISGD\n",
    "from eval_implicit import EvalPrequential\n",
    "from datetime import datetime\n",
    "import sys\n",
    "import csv\n",
    "sys.path.append('./')\n",
    "configPath = 'config'\n",
    "dataPath = 'palco_2010.tsv'\n",
    "\n",
    "\n",
    "Data = []\n",
    "data = pd.read_csv(\"palco_2010.tsv\",\"\\t\")\n",
    "print(data)\n",
    "Data = data.values.tolist()\n",
    "\n",
    "Data_Transpose = np.transpose(Data)\n",
    "stream = ImplicitData(Data_Transpose[0],Data_Transpose[1])\n",
    "\n",
    "num_factors = 160\n",
    "num_iterations = 4\n",
    "learn_rate = 0.5\n",
    "u_regularization = 0.4\n",
    "i_regularization = 0.4\n",
    "random_seed = 10\n",
    "num_nodes = 8\n",
    "\n",
    "model = BISGD(ImplicitData([],[]),num_factors, num_iterations,num_nodes,learn_rate,u_regularization,i_regularization,random_seed)\n",
    "\n",
    "\n",
    "eval = EvalPrequential(model,stream, metrics = [\"Recall@20\"])\n",
    "start_recommend = datetime.now()\n",
    "print('start time', start_recommend)\n",
    "\n",
    "results=eval.EvaluateTime(0,stream.size, 100)\n",
    "\n",
    "print('npmean(resuls[Recall@20])', np.mean(results['Recall@20']))\n",
    "end_recommend = datetime.now()\n",
    "print('end time', end_recommend)\n",
    "\n",
    "tempo = end_recommend - start_recommend\n",
    "\n",
    "print('run time', tempo)\n",
    "print('')\n",
    "print('get tuple',np.mean(results['time_get_tuple']))\n",
    "print('recommend',np.mean(results['time_recommend']))\n",
    "print('eval_point',np.mean(results['time_eval_point']))\n",
    "print('update',np.mean(results['time_update']))"
   ]
  },
  {
   "cell_type": "markdown",
   "metadata": {},
   "source": [
    "## import"
   ]
  },
  {
   "cell_type": "code",
   "execution_count": 3,
   "metadata": {},
   "outputs": [],
   "source": [
    "from data import ImplicitData\n",
    "#from param_tuning import PatternSearchISGD\n",
    "from pprint import pprint\n",
    "import pandas as pd\n",
    "from operator import itemgetter\n",
    "import numpy as np\n",
    "from BISGD import BISGD\n",
    "from eval_implicit import EvalPrequential\n",
    "from datetime import datetime\n",
    "import sys\n",
    "import csv\n"
   ]
  },
  {
   "cell_type": "markdown",
   "metadata": {},
   "source": [
    "### palco_sample5_1"
   ]
  },
  {
   "cell_type": "code",
   "execution_count": 4,
   "metadata": {},
   "outputs": [
    {
     "name": "stdout",
     "output_type": "stream",
     "text": [
      "       Unnamed: 0  user_id  track_id            timestamp\n",
      "0              87     4110     39059  2010-01-01 10:13:30\n",
      "1              88     4110     36931  2010-01-01 10:14:19\n",
      "2              89     4110     36360  2010-01-01 10:14:28\n",
      "3              90     4110     38603  2010-01-01 10:14:31\n",
      "4              91     4110     39062  2010-01-01 10:18:30\n",
      "...           ...      ...       ...                  ...\n",
      "32570      588644    66046     60491  2010-12-31 18:54:15\n",
      "32571      588649    47201     51413  2010-12-31 18:56:51\n",
      "32572      588650    66046     57049  2010-12-31 18:58:39\n",
      "32573      588652    47201     74940  2010-12-31 19:01:51\n",
      "32574      588658    47201     74798  2010-12-31 19:05:27\n",
      "\n",
      "[32575 rows x 4 columns]\n"
     ]
    }
   ],
   "source": [
    "sys.path.append('./')\n",
    "configPath = 'config'\n",
    "\n",
    "Data = []\n",
    "data = pd.read_csv(\"palco_sample5_1.csv\")\n",
    "print(data)\n",
    "Data = data.values.tolist()\n",
    "\n",
    "Data = Data[1:]\n",
    " "
   ]
  },
  {
   "cell_type": "code",
   "execution_count": 5,
   "metadata": {},
   "outputs": [
    {
     "name": "stdout",
     "output_type": "stream",
     "text": [
      "start time 2022-09-26 23:17:42.786473\n"
     ]
    },
    {
     "name": "stderr",
     "output_type": "stream",
     "text": [
      "/home/mmelo/NMF|BISGD/data/implicit_data.py:56: FutureWarning: elementwise comparison failed; returning scalar instead, but in the future will perform elementwise comparison\n",
      "  if user not in self.userset:\n",
      "/home/mmelo/NMF|BISGD/data/implicit_data.py:62: FutureWarning: elementwise comparison failed; returning scalar instead, but in the future will perform elementwise comparison\n",
      "  if item not in self.itemset:\n"
     ]
    },
    {
     "name": "stdout",
     "output_type": "stream",
     "text": [
      "npmean(resuls[Recall@20]) 0.1729106628242075\n",
      "end time 2022-09-26 23:19:24.760516\n",
      "run time 0:01:41.974043\n",
      "\n",
      "get tuple 5.683970947602898e-06\n",
      "recommend 0.1743646169602012\n",
      "eval_point 3.160866948987977e-05\n",
      "update 0.0012612694014046098\n"
     ]
    }
   ],
   "source": [
    "Data_Transpose = np.transpose(Data)\n",
    "stream = ImplicitData(Data_Transpose[1],Data_Transpose[2])\n",
    "\n",
    "num_factors = 160\n",
    "num_iterations = 4\n",
    "learn_rate = 0.5\n",
    "u_regularization = 0.4\n",
    "i_regularization = 0.4\n",
    "random_seed = 10\n",
    "num_nodes = 8\n",
    "\n",
    "\n",
    "model = BISGD(ImplicitData([],[]),num_factors, num_iterations,num_nodes,learn_rate,u_regularization,i_regularization,random_seed)\n",
    "\n",
    "eval = EvalPrequential(model,stream, metrics = [\"Recall@20\"])\n",
    "start_recommend = datetime.now()\n",
    "print('start time', start_recommend)\n",
    "\n",
    "results=eval.EvaluateTime(0,stream.size, 100)\n",
    "\n",
    "print('npmean(resuls[Recall@20])', np.mean(results['Recall@20']))\n",
    "end_recommend = datetime.now()\n",
    "print('end time', end_recommend)\n",
    "\n",
    "tempo = end_recommend - start_recommend\n",
    "\n",
    "print('run time', tempo)\n",
    "print('')\n",
    "print('get tuple',np.mean(results['time_get_tuple']))\n",
    "print('recommend',np.mean(results['time_recommend']))\n",
    "print('eval_point',np.mean(results['time_eval_point']))\n",
    "print('update',np.mean(results['time_update']))"
   ]
  },
  {
   "cell_type": "markdown",
   "metadata": {},
   "source": [
    "### palco_sample5_2"
   ]
  },
  {
   "cell_type": "code",
   "execution_count": 6,
   "metadata": {},
   "outputs": [
    {
     "name": "stdout",
     "output_type": "stream",
     "text": [
      "       Unnamed: 0  user_id  track_id            timestamp\n",
      "0               9    40958      8826  2010-01-01 01:22:39\n",
      "1              10    40958      8825  2010-01-01 01:22:50\n",
      "2              11    40958      8836  2010-01-01 01:22:58\n",
      "3              12    40958     19882  2010-01-01 01:23:26\n",
      "4              13    40958     27698  2010-01-01 01:23:28\n",
      "...           ...      ...       ...                  ...\n",
      "27471      588433       66     28216  2010-12-31 17:44:54\n",
      "27472      588439       66     28217  2010-12-31 17:48:38\n",
      "27473      588443       66     28218  2010-12-31 17:51:16\n",
      "27474      588448       66     28216  2010-12-31 17:55:11\n",
      "27475      588450       66     28217  2010-12-31 17:58:54\n",
      "\n",
      "[27476 rows x 4 columns]\n"
     ]
    }
   ],
   "source": [
    "sys.path.append('./')\n",
    "configPath = 'config'\n",
    "\n",
    "Data = []\n",
    "data = pd.read_csv(\"palco_sample5_2.csv\")\n",
    "print(data)\n",
    "Data = data.values.tolist()\n",
    "\n",
    "Data = Data[1:]"
   ]
  },
  {
   "cell_type": "code",
   "execution_count": 7,
   "metadata": {},
   "outputs": [
    {
     "name": "stdout",
     "output_type": "stream",
     "text": [
      "start time 2022-09-26 23:19:25.899051\n"
     ]
    },
    {
     "name": "stderr",
     "output_type": "stream",
     "text": [
      "/home/mmelo/NMF|BISGD/data/implicit_data.py:56: FutureWarning: elementwise comparison failed; returning scalar instead, but in the future will perform elementwise comparison\n",
      "  if user not in self.userset:\n",
      "/home/mmelo/NMF|BISGD/data/implicit_data.py:62: FutureWarning: elementwise comparison failed; returning scalar instead, but in the future will perform elementwise comparison\n",
      "  if item not in self.itemset:\n"
     ]
    },
    {
     "name": "stdout",
     "output_type": "stream",
     "text": [
      "npmean(resuls[Recall@20]) 0.09407665505226481\n",
      "end time 2022-09-26 23:20:47.432939\n",
      "run time 0:01:21.533888\n",
      "\n",
      "get tuple 5.616004950789781e-06\n",
      "recommend 0.16476922001988215\n",
      "eval_point 3.195722759393034e-05\n",
      "update 0.0012371852812276742\n"
     ]
    }
   ],
   "source": [
    "Data_Transpose = np.transpose(Data)\n",
    "stream = ImplicitData(Data_Transpose[1],Data_Transpose[2])\n",
    "\n",
    "num_factors = 160\n",
    "num_iterations = 4\n",
    "learn_rate = 0.5\n",
    "u_regularization = 0.4\n",
    "i_regularization = 0.4\n",
    "random_seed = 10\n",
    "num_nodes = 8\n",
    "\n",
    "\n",
    "model = BISGD(ImplicitData([],[]),num_factors, num_iterations,num_nodes,learn_rate,u_regularization,i_regularization,random_seed)\n",
    "\n",
    "eval = EvalPrequential(model,stream, metrics = [\"Recall@20\"])\n",
    "start_recommend = datetime.now()\n",
    "print('start time', start_recommend)\n",
    "\n",
    "results=eval.EvaluateTime(0,stream.size, 100)\n",
    "\n",
    "print('npmean(resuls[Recall@20])', np.mean(results['Recall@20']))\n",
    "end_recommend = datetime.now()\n",
    "print('end time', end_recommend)\n",
    "\n",
    "tempo = end_recommend - start_recommend\n",
    "\n",
    "print('run time', tempo)\n",
    "print('')\n",
    "print('get tuple',np.mean(results['time_get_tuple']))\n",
    "print('recommend',np.mean(results['time_recommend']))\n",
    "print('eval_point',np.mean(results['time_eval_point']))\n",
    "print('update',np.mean(results['time_update']))"
   ]
  },
  {
   "cell_type": "markdown",
   "metadata": {},
   "source": [
    "### palco_sample5_3"
   ]
  },
  {
   "cell_type": "code",
   "execution_count": 8,
   "metadata": {},
   "outputs": [
    {
     "name": "stdout",
     "output_type": "stream",
     "text": [
      "       Unnamed: 0  user_id  track_id            timestamp\n",
      "0            1908     4401      9058  2010-01-02 02:23:45\n",
      "1            1912     4401      9058  2010-01-02 02:23:54\n",
      "2            1914     4401      9058  2010-01-02 02:24:00\n",
      "3            1917     4401      9061  2010-01-02 02:25:13\n",
      "4            1938     4401      9060  2010-01-02 02:35:41\n",
      "...           ...      ...       ...                  ...\n",
      "30796      588678    68503     74879  2010-12-31 19:37:09\n",
      "30797      588679    68503     74512  2010-12-31 19:39:50\n",
      "30798      588680    68503     73508  2010-12-31 19:39:51\n",
      "30799      588681    68503     70401  2010-12-31 19:39:55\n",
      "30800      588787    54903      3390  2010-12-31 21:35:26\n",
      "\n",
      "[30801 rows x 4 columns]\n"
     ]
    }
   ],
   "source": [
    "sys.path.append('./')\n",
    "configPath = 'config'\n",
    "\n",
    "Data = []\n",
    "data = pd.read_csv(\"palco_sample5_3.csv\")\n",
    "print(data)\n",
    "Data = data.values.tolist()\n",
    "\n",
    "Data = Data[1:]"
   ]
  },
  {
   "cell_type": "code",
   "execution_count": 9,
   "metadata": {},
   "outputs": [
    {
     "name": "stdout",
     "output_type": "stream",
     "text": [
      "start time 2022-09-26 23:20:48.092783\n"
     ]
    },
    {
     "name": "stderr",
     "output_type": "stream",
     "text": [
      "/home/mmelo/NMF|BISGD/data/implicit_data.py:56: FutureWarning: elementwise comparison failed; returning scalar instead, but in the future will perform elementwise comparison\n",
      "  if user not in self.userset:\n",
      "/home/mmelo/NMF|BISGD/data/implicit_data.py:62: FutureWarning: elementwise comparison failed; returning scalar instead, but in the future will perform elementwise comparison\n",
      "  if item not in self.itemset:\n"
     ]
    },
    {
     "name": "stdout",
     "output_type": "stream",
     "text": [
      "npmean(resuls[Recall@20]) 0.11419753086419752\n",
      "end time 2022-09-26 23:22:34.720201\n",
      "run time 0:01:46.627418\n",
      "\n",
      "get tuple 6.047951710688604e-06\n",
      "recommend 0.2011025224202945\n",
      "eval_point 3.338154451346692e-05\n",
      "update 0.0013368006805320838\n"
     ]
    }
   ],
   "source": [
    "Data_Transpose = np.transpose(Data)\n",
    "stream = ImplicitData(Data_Transpose[1],Data_Transpose[2])\n",
    "\n",
    "num_factors = 160\n",
    "num_iterations = 4\n",
    "learn_rate = 0.5\n",
    "u_regularization = 0.4\n",
    "i_regularization = 0.4\n",
    "random_seed = 10\n",
    "num_nodes = 8\n",
    "\n",
    "\n",
    "model = BISGD(ImplicitData([],[]),num_factors, num_iterations,num_nodes,learn_rate,u_regularization,i_regularization,random_seed)\n",
    "\n",
    "eval = EvalPrequential(model,stream, metrics = [\"Recall@20\"])\n",
    "start_recommend = datetime.now()\n",
    "print('start time', start_recommend)\n",
    "\n",
    "results=eval.EvaluateTime(0,stream.size, 100)\n",
    "\n",
    "print('npmean(resuls[Recall@20])', np.mean(results['Recall@20']))\n",
    "end_recommend = datetime.now()\n",
    "print('end time', end_recommend)\n",
    "\n",
    "tempo = end_recommend - start_recommend\n",
    "\n",
    "print('run time', tempo)\n",
    "print('')\n",
    "print('get tuple',np.mean(results['time_get_tuple']))\n",
    "print('recommend',np.mean(results['time_recommend']))\n",
    "print('eval_point',np.mean(results['time_eval_point']))\n",
    "print('update',np.mean(results['time_update']))"
   ]
  },
  {
   "cell_type": "markdown",
   "metadata": {},
   "source": [
    "### palco_sample5_4"
   ]
  },
  {
   "cell_type": "code",
   "execution_count": 10,
   "metadata": {},
   "outputs": [
    {
     "name": "stdout",
     "output_type": "stream",
     "text": [
      "       Unnamed: 0  user_id  track_id            timestamp\n",
      "0               5     6258     18106  2010-01-01 00:46:25\n",
      "1             254    46286     32670  2010-01-01 13:07:15\n",
      "2             257    46286     36970  2010-01-01 13:08:05\n",
      "3             323      927     27213  2010-01-01 13:52:23\n",
      "4             325      927      1123  2010-01-01 13:53:08\n",
      "...           ...      ...       ...                  ...\n",
      "31457      588391    67485     66079  2010-12-31 17:20:40\n",
      "31458      588392    67485     66080  2010-12-31 17:22:07\n",
      "31459      588396    67485     66081  2010-12-31 17:24:42\n",
      "31460      588398    67485     66082  2010-12-31 17:27:11\n",
      "31461      588401    67485     65764  2010-12-31 17:28:08\n",
      "\n",
      "[31462 rows x 4 columns]\n"
     ]
    }
   ],
   "source": [
    "sys.path.append('./')\n",
    "configPath = 'config'\n",
    "\n",
    "Data = []\n",
    "data = pd.read_csv(\"palco_sample5_4.csv\")\n",
    "print(data)\n",
    "Data = data.values.tolist()\n",
    "\n",
    "Data = Data[1:]"
   ]
  },
  {
   "cell_type": "code",
   "execution_count": 11,
   "metadata": {},
   "outputs": [
    {
     "name": "stdout",
     "output_type": "stream",
     "text": [
      "start time 2022-09-26 23:22:35.950769\n"
     ]
    },
    {
     "name": "stderr",
     "output_type": "stream",
     "text": [
      "/home/mmelo/NMF|BISGD/data/implicit_data.py:56: FutureWarning: elementwise comparison failed; returning scalar instead, but in the future will perform elementwise comparison\n",
      "  if user not in self.userset:\n",
      "/home/mmelo/NMF|BISGD/data/implicit_data.py:62: FutureWarning: elementwise comparison failed; returning scalar instead, but in the future will perform elementwise comparison\n",
      "  if item not in self.itemset:\n"
     ]
    },
    {
     "name": "stdout",
     "output_type": "stream",
     "text": [
      "npmean(resuls[Recall@20]) 0.11149825783972125\n",
      "end time 2022-09-26 23:24:01.061775\n",
      "run time 0:01:25.111006\n",
      "\n",
      "get tuple 5.610767222758807e-06\n",
      "recommend 0.15859379004102966\n",
      "eval_point 3.161829107729816e-05\n",
      "update 0.001249573742349469\n"
     ]
    }
   ],
   "source": [
    "Data_Transpose = np.transpose(Data)\n",
    "stream = ImplicitData(Data_Transpose[1],Data_Transpose[2])\n",
    "\n",
    "num_factors = 160\n",
    "num_iterations = 4\n",
    "learn_rate = 0.5\n",
    "u_regularization = 0.4\n",
    "i_regularization = 0.4\n",
    "random_seed = 10\n",
    "num_nodes = 8\n",
    "\n",
    "\n",
    "model = BISGD(ImplicitData([],[]),num_factors, num_iterations,num_nodes,learn_rate,u_regularization,i_regularization,random_seed)\n",
    "\n",
    "eval = EvalPrequential(model,stream, metrics = [\"Recall@20\"])\n",
    "start_recommend = datetime.now()\n",
    "print('start time', start_recommend)\n",
    "\n",
    "results=eval.EvaluateTime(0,stream.size, 100)\n",
    "\n",
    "print('npmean(resuls[Recall@20])', np.mean(results['Recall@20']))\n",
    "end_recommend = datetime.now()\n",
    "print('end time', end_recommend)\n",
    "\n",
    "tempo = end_recommend - start_recommend\n",
    "\n",
    "print('run time', tempo)\n",
    "print('')\n",
    "print('get tuple',np.mean(results['time_get_tuple']))\n",
    "print('recommend',np.mean(results['time_recommend']))\n",
    "print('eval_point',np.mean(results['time_eval_point']))\n",
    "print('update',np.mean(results['time_update']))"
   ]
  },
  {
   "cell_type": "markdown",
   "metadata": {},
   "source": [
    "### palco_sample5_5"
   ]
  },
  {
   "cell_type": "code",
   "execution_count": 12,
   "metadata": {},
   "outputs": [
    {
     "name": "stdout",
     "output_type": "stream",
     "text": [
      "       Unnamed: 0  user_id  track_id            timestamp\n",
      "0              54     3898     35623  2010-01-01 03:33:50\n",
      "1              55     3898       543  2010-01-01 03:33:57\n",
      "2              56     3898       545  2010-01-01 03:34:25\n",
      "3              59     3898       681  2010-01-01 03:35:46\n",
      "4              73     3898       550  2010-01-01 03:40:30\n",
      "...           ...      ...       ...                  ...\n",
      "28204      588645     2704     74092  2010-12-31 18:54:19\n",
      "28205      588646     2704     74095  2010-12-31 18:54:30\n",
      "28206      588654     2704     70876  2010-12-31 19:03:19\n",
      "28207      588805    38854     26042  2010-12-31 21:49:17\n",
      "28208      588810    38854     24985  2010-12-31 21:57:49\n",
      "\n",
      "[28209 rows x 4 columns]\n"
     ]
    }
   ],
   "source": [
    "sys.path.append('./')\n",
    "configPath = 'config'\n",
    "\n",
    "Data = []\n",
    "data = pd.read_csv(\"palco_sample5_5.csv\")\n",
    "print(data)\n",
    "Data = data.values.tolist()\n",
    "\n",
    "Data = Data[1:]"
   ]
  },
  {
   "cell_type": "code",
   "execution_count": 13,
   "metadata": {},
   "outputs": [
    {
     "name": "stdout",
     "output_type": "stream",
     "text": [
      "start time 2022-09-26 23:24:02.124487\n"
     ]
    },
    {
     "name": "stderr",
     "output_type": "stream",
     "text": [
      "/home/mmelo/NMF|BISGD/data/implicit_data.py:56: FutureWarning: elementwise comparison failed; returning scalar instead, but in the future will perform elementwise comparison\n",
      "  if user not in self.userset:\n",
      "/home/mmelo/NMF|BISGD/data/implicit_data.py:62: FutureWarning: elementwise comparison failed; returning scalar instead, but in the future will perform elementwise comparison\n",
      "  if item not in self.itemset:\n"
     ]
    },
    {
     "name": "stdout",
     "output_type": "stream",
     "text": [
      "npmean(resuls[Recall@20]) 0.08680555555555555\n",
      "end time 2022-09-26 23:25:26.874110\n",
      "run time 0:01:24.749623\n",
      "\n",
      "get tuple 5.870448954728808e-06\n",
      "recommend 0.16838503215048048\n",
      "eval_point 3.094971179962158e-05\n",
      "update 0.001275936751222313\n"
     ]
    }
   ],
   "source": [
    "Data_Transpose = np.transpose(Data)\n",
    "stream = ImplicitData(Data_Transpose[1],Data_Transpose[2])\n",
    "\n",
    "num_factors = 160\n",
    "num_iterations = 4\n",
    "learn_rate = 0.5\n",
    "u_regularization = 0.4\n",
    "i_regularization = 0.4\n",
    "random_seed = 10\n",
    "num_nodes = 8\n",
    "\n",
    "model = BISGD(ImplicitData([],[]),num_factors, num_iterations,num_nodes,learn_rate,u_regularization,i_regularization,random_seed)\n",
    "\n",
    "eval = EvalPrequential(model,stream, metrics = [\"Recall@20\"])\n",
    "start_recommend = datetime.now()\n",
    "print('start time', start_recommend)\n",
    "\n",
    "results=eval.EvaluateTime(0,stream.size, 100)\n",
    "\n",
    "print('npmean(resuls[Recall@20])', np.mean(results['Recall@20']))\n",
    "end_recommend = datetime.now()\n",
    "print('end time', end_recommend)\n",
    "\n",
    "tempo = end_recommend - start_recommend\n",
    "\n",
    "print('run time', tempo)\n",
    "print('')\n",
    "print('get tuple',np.mean(results['time_get_tuple']))\n",
    "print('recommend',np.mean(results['time_recommend']))\n",
    "print('eval_point',np.mean(results['time_eval_point']))\n",
    "print('update',np.mean(results['time_update']))"
   ]
  },
  {
   "cell_type": "code",
   "execution_count": null,
   "metadata": {},
   "outputs": [],
   "source": []
  }
 ],
 "metadata": {
  "kernelspec": {
   "display_name": "myenv",
   "language": "python",
   "name": "myenv"
  },
  "language_info": {
   "codemirror_mode": {
    "name": "ipython",
    "version": 3
   },
   "file_extension": ".py",
   "mimetype": "text/x-python",
   "name": "python",
   "nbconvert_exporter": "python",
   "pygments_lexer": "ipython3",
   "version": "3.9.5"
  }
 },
 "nbformat": 4,
 "nbformat_minor": 4
}
