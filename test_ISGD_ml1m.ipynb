{
 "cells": [
  {
   "cell_type": "code",
   "execution_count": 1,
   "metadata": {},
   "outputs": [
    {
     "name": "stderr",
     "output_type": "stream",
     "text": [
      "/home/mmelo/miniconda3/lib/python3.9/site-packages/IPython/core/interactiveshell.py:3444: FutureWarning: In a future version of pandas all arguments of read_csv except for the argument 'filepath_or_buffer' will be keyword-only\n",
      "  exec(code_obj, self.user_global_ns, self.user_ns)\n"
     ]
    },
    {
     "name": "stdout",
     "output_type": "stream",
     "text": [
      "        UserID  ItemID   Timestamp\n",
      "0         6040     593   956703954\n",
      "1         6040    2019   956703977\n",
      "2         6040     213   956704056\n",
      "3         6040    3111   956704056\n",
      "4         6040     912   956704191\n",
      "...        ...     ...         ...\n",
      "226305    5950    3363  1046367948\n",
      "226306    5950     111  1046368241\n",
      "226307    5950    3196  1046368462\n",
      "226308    5948    1180  1046437879\n",
      "226309    4958    1407  1046454443\n",
      "\n",
      "[226310 rows x 3 columns]\n",
      "start time 2022-05-01 20:43:32.712183\n",
      "npmean(resuls[Recall@20]) 0.06072874493927125\n",
      "end time 2022-05-01 20:46:56.576732\n",
      "run time 0:03:23.864549\n",
      "\n",
      "get tuple 3.71733133615151e-06\n",
      "recommend 0.00847579400066422\n",
      "eval_point 3.823963736715587e-05\n",
      "update 0.0008822979789475314\n"
     ]
    }
   ],
   "source": [
    "from data import ImplicitData\n",
    "#from param_tuning import PatternSearchISGD\n",
    "from pprint import pprint\n",
    "import pandas as pd\n",
    "from operator import itemgetter\n",
    "import numpy as np\n",
    "from recommenders_implicit import ISGD\n",
    "from eval_implicit import EvalPrequential\n",
    "from datetime import datetime\n",
    "import sys\n",
    "import csv\n",
    "\n",
    "sys.path.append('./')\n",
    "configPath = 'config'\n",
    "dataPath = 'ml1m_gte5.csv'\n",
    "\n",
    "\n",
    "Data = []\n",
    "data = pd.read_csv(\"ml1m_gte5.csv\",\"\\t\")\n",
    "print(data)\n",
    "Data = data.values.tolist()\n",
    "\n",
    "\n",
    "Data_Transpose = np.transpose(Data)\n",
    "stream = ImplicitData(Data_Transpose[0],Data_Transpose[1])\n",
    "\n",
    "num_factors = 160\n",
    "num_iterations = 8\n",
    "learn_rate = 0.1\n",
    "u_regularization = 0.4\n",
    "i_regularization = 0.4\n",
    "random_seed = 10\n",
    "\n",
    "model = ISGD(ImplicitData([],[]),num_factors, num_iterations,learn_rate,u_regularization,i_regularization,random_seed)\n",
    "\n",
    "\n",
    "eval = EvalPrequential(model,stream, metrics = [\"Recall@20\"])\n",
    "start_recommend = datetime.now()\n",
    "print('start time', start_recommend)\n",
    "\n",
    "results=eval.EvaluateTime(0,stream.size, 1000)\n",
    "\n",
    "print('npmean(resuls[Recall@20])', np.mean(results['Recall@20']))\n",
    "end_recommend = datetime.now()\n",
    "print('end time', end_recommend)\n",
    "\n",
    "tempo = end_recommend - start_recommend\n",
    "\n",
    "print('run time', tempo)\n",
    "print('')\n",
    "print('get tuple',np.mean(results['time_get_tuple']))\n",
    "print('recommend',np.mean(results['time_recommend']))\n",
    "print('eval_point',np.mean(results['time_eval_point']))\n",
    "print('update',np.mean(results['time_update']))"
   ]
  },
  {
   "cell_type": "code",
   "execution_count": null,
   "metadata": {},
   "outputs": [],
   "source": []
  }
 ],
 "metadata": {
  "kernelspec": {
   "display_name": "myenv",
   "language": "python",
   "name": "myenv"
  },
  "language_info": {
   "codemirror_mode": {
    "name": "ipython",
    "version": 3
   },
   "file_extension": ".py",
   "mimetype": "text/x-python",
   "name": "python",
   "nbconvert_exporter": "python",
   "pygments_lexer": "ipython3",
   "version": "3.9.5"
  }
 },
 "nbformat": 4,
 "nbformat_minor": 4
}
