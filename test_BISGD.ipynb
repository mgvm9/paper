{
 "cells": [
  {
   "cell_type": "code",
   "execution_count": 14,
   "metadata": {},
   "outputs": [
    {
     "name": "stdout",
     "output_type": "stream",
     "text": [
      "start time 2022-09-26 20:03:34.377785\n",
      "npmean(resuls[Recall@20]) 0.2628475147430497\n",
      "end time 2022-09-26 20:10:31.943686\n",
      "run time 0:06:57.565901\n",
      "\n",
      "get tuple 3.06207987036709e-06\n",
      "recommend 0.19931014586418944\n",
      "eval_point 1.607025583551627e-05\n",
      "update 0.0016105110590642487\n"
     ]
    }
   ],
   "source": [
    "from data import ImplicitData\n",
    "#from param_tuning import PatternSearchISGD\n",
    "from pprint import pprint\n",
    "import pandas as pd\n",
    "from operator import itemgetter\n",
    "import numpy as np\n",
    "from BISGD import BISGD\n",
    "from eval_implicit import EvalPrequential\n",
    "from datetime import datetime\n",
    "import sys\n",
    "import csv\n",
    "\n",
    "sys.path.append('./')\n",
    "configPath = 'config'\n",
    "dataPath = 'ppf2.csv'\n",
    "\n",
    "Data = []\n",
    "with open(dataPath, 'r') as f:\n",
    "    reader = csv.reader(f)\n",
    "    for row in reader:\n",
    "        Data.append([float(row[0]),float(row[1])])\n",
    "\n",
    "Data_Transpose = np.transpose(Data)\n",
    "stream = ImplicitData(Data_Transpose[0],Data_Transpose[1])\n",
    "\n",
    "num_factors = 90\n",
    "num_iterations = 8\n",
    "learn_rate = 0.3\n",
    "u_regularization = 0.4\n",
    "i_regularization = 0.4\n",
    "random_seed = 10\n",
    "num_nodes = 8\n",
    "\n",
    "model = BISGD(ImplicitData([],[]),num_factors, num_iterations,num_nodes,learn_rate,u_regularization,i_regularization,random_seed)\n",
    "\n",
    "\n",
    "eval = EvalPrequential(model,stream, metrics = [\"Recall@20\"])\n",
    "start_recommend = datetime.now()\n",
    "print('start time', start_recommend)\n",
    "\n",
    "results=eval.EvaluateTime(0,stream.size, 100)\n",
    "\n",
    "print('npmean(resuls[Recall@20])', np.mean(results['Recall@20']))\n",
    "end_recommend = datetime.now()\n",
    "print('end time', end_recommend)\n",
    "\n",
    "tempo = end_recommend - start_recommend\n",
    "\n",
    "print('run time', tempo)\n",
    "print('')\n",
    "print('get tuple',np.mean(results['time_get_tuple']))\n",
    "print('recommend',np.mean(results['time_recommend']))\n",
    "print('eval_point',np.mean(results['time_eval_point']))\n",
    "print('update',np.mean(results['time_update']))"
   ]
  },
  {
   "cell_type": "markdown",
   "metadata": {},
   "source": [
    "## Import"
   ]
  },
  {
   "cell_type": "code",
   "execution_count": 1,
   "metadata": {},
   "outputs": [],
   "source": [
    "from data import ImplicitData\n",
    "#from param_tuning import PatternSearchISGD\n",
    "from pprint import pprint\n",
    "import pandas as pd\n",
    "from operator import itemgetter\n",
    "import numpy as np\n",
    "from BISGD import BISGD\n",
    "from eval_implicit import EvalPrequential\n",
    "from datetime import datetime\n",
    "import sys\n",
    "import csv\n"
   ]
  },
  {
   "cell_type": "markdown",
   "metadata": {},
   "source": [
    "### ppf2_sample5_1"
   ]
  },
  {
   "cell_type": "code",
   "execution_count": 2,
   "metadata": {},
   "outputs": [
    {
     "name": "stdout",
     "output_type": "stream",
     "text": [
      "      Unnamed: 0     V1      V2\n",
      "0             56    472   15116\n",
      "1             57    472    4109\n",
      "2             58    472    1697\n",
      "3             59    472    6271\n",
      "4            240    472   19237\n",
      "...          ...    ...     ...\n",
      "5889      111401  77607  107867\n",
      "5890      111402  77607  103739\n",
      "5891      111403  77607  103741\n",
      "5892      111451  68410  103205\n",
      "5893      111942  88921  104352\n",
      "\n",
      "[5894 rows x 3 columns]\n"
     ]
    }
   ],
   "source": [
    "sys.path.append('./')\n",
    "configPath = 'config'\n",
    "dataPath = 'ppf2_sample5_1.csv'\n",
    "\n",
    "Data = []\n",
    "data = pd.read_csv(\"ppf2_sample5_1.csv\")\n",
    "print(data)\n",
    "Data = data.values.tolist()\n",
    "\n",
    "Data = Data[1:]"
   ]
  },
  {
   "cell_type": "code",
   "execution_count": 3,
   "metadata": {},
   "outputs": [
    {
     "name": "stdout",
     "output_type": "stream",
     "text": [
      "start time 2022-09-25 21:19:39.820670\n",
      "npmean(resuls[Recall@20]) 0.2\n",
      "end time 2022-09-25 21:19:50.047480\n",
      "run time 0:00:10.226810\n",
      "\n",
      "get tuple 2.7759803812106923e-06\n",
      "recommend 0.026536412672563032\n",
      "eval_point 1.7920407381924714e-05\n",
      "update 0.0014821525423550635\n"
     ]
    }
   ],
   "source": [
    "Data_Transpose = np.transpose(Data)\n",
    "stream = ImplicitData(Data_Transpose[1],Data_Transpose[2])\n",
    "\n",
    "\n",
    "num_factors = 90\n",
    "num_iterations = 8\n",
    "learn_rate = 0.3\n",
    "u_regularization = 0.4\n",
    "i_regularization = 0.4\n",
    "random_seed = 10\n",
    "num_nodes = 8\n",
    "\n",
    "\n",
    "model = BISGD(ImplicitData([],[]),num_factors, num_iterations,num_nodes,learn_rate,u_regularization,i_regularization,random_seed)\n",
    "\n",
    "eval = EvalPrequential(model,stream, metrics = [\"Recall@20\"])\n",
    "start_recommend = datetime.now()\n",
    "print('start time', start_recommend)\n",
    "\n",
    "results=eval.EvaluateTime(0,stream.size, 100)\n",
    "\n",
    "print('npmean(resuls[Recall@20])', np.mean(results['Recall@20']))\n",
    "end_recommend = datetime.now()\n",
    "print('end time', end_recommend)\n",
    "\n",
    "tempo = end_recommend - start_recommend\n",
    "\n",
    "print('run time', tempo)\n",
    "print('')\n",
    "print('get tuple',np.mean(results['time_get_tuple']))\n",
    "print('recommend',np.mean(results['time_recommend']))\n",
    "print('eval_point',np.mean(results['time_eval_point']))\n",
    "print('update',np.mean(results['time_update']))"
   ]
  },
  {
   "cell_type": "markdown",
   "metadata": {},
   "source": [
    "### ppf2_sample5_2"
   ]
  },
  {
   "cell_type": "code",
   "execution_count": 4,
   "metadata": {},
   "outputs": [
    {
     "name": "stdout",
     "output_type": "stream",
     "text": [
      "      Unnamed: 0     V1      V2\n",
      "0              3   8426   21676\n",
      "1              4   8426   21416\n",
      "2              8   8446    1980\n",
      "3              9   8446    1983\n",
      "4             10   8446   20747\n",
      "...          ...    ...     ...\n",
      "5268      110931  80093  124395\n",
      "5269      111436  88465   65893\n",
      "5270      111640  66305  124259\n",
      "5271      111786  88061  111043\n",
      "5272      111793  88790   66663\n",
      "\n",
      "[5273 rows x 3 columns]\n"
     ]
    }
   ],
   "source": [
    "sys.path.append('./')\n",
    "configPath = 'config'\n",
    "dataPath = 'ppf2_sample5_1.csv'\n",
    "\n",
    "Data = []\n",
    "data = pd.read_csv(\"ppf2_sample5_2.csv\")\n",
    "print(data)\n",
    "Data = data.values.tolist()\n",
    "\n",
    "Data = Data[1:]"
   ]
  },
  {
   "cell_type": "code",
   "execution_count": 5,
   "metadata": {},
   "outputs": [
    {
     "name": "stdout",
     "output_type": "stream",
     "text": [
      "start time 2022-09-25 21:19:50.543703\n",
      "npmean(resuls[Recall@20]) 0.07894736842105263\n",
      "end time 2022-09-25 21:19:59.243946\n",
      "run time 0:00:08.700243\n",
      "\n",
      "get tuple 2.315445988239757e-06\n",
      "recommend 0.021171707856027705\n",
      "eval_point 1.3872196799830386e-05\n",
      "update 0.0014924417406727583\n"
     ]
    }
   ],
   "source": [
    "Data_Transpose = np.transpose(Data)\n",
    "stream = ImplicitData(Data_Transpose[1],Data_Transpose[2])\n",
    "\n",
    "\n",
    "num_factors = 90\n",
    "num_iterations = 8\n",
    "learn_rate = 0.3\n",
    "u_regularization = 0.4\n",
    "i_regularization = 0.4\n",
    "random_seed = 10\n",
    "num_nodes = 8\n",
    "\n",
    "\n",
    "model = BISGD(ImplicitData([],[]),num_factors, num_iterations,num_nodes,learn_rate,u_regularization,i_regularization,random_seed)\n",
    "\n",
    "eval = EvalPrequential(model,stream, metrics = [\"Recall@20\"])\n",
    "start_recommend = datetime.now()\n",
    "print('start time', start_recommend)\n",
    "\n",
    "results=eval.EvaluateTime(0,stream.size, 100)\n",
    "\n",
    "print('npmean(resuls[Recall@20])', np.mean(results['Recall@20']))\n",
    "end_recommend = datetime.now()\n",
    "print('end time', end_recommend)\n",
    "\n",
    "tempo = end_recommend - start_recommend\n",
    "\n",
    "print('run time', tempo)\n",
    "print('')\n",
    "print('get tuple',np.mean(results['time_get_tuple']))\n",
    "print('recommend',np.mean(results['time_recommend']))\n",
    "print('eval_point',np.mean(results['time_eval_point']))\n",
    "print('update',np.mean(results['time_update']))"
   ]
  },
  {
   "cell_type": "markdown",
   "metadata": {},
   "source": [
    "### ppf2_sample5_3"
   ]
  },
  {
   "cell_type": "code",
   "execution_count": 6,
   "metadata": {},
   "outputs": [
    {
     "name": "stdout",
     "output_type": "stream",
     "text": [
      "      Unnamed: 0     V1      V2\n",
      "0             21    385     322\n",
      "1            103    770   14147\n",
      "2            104    770    8876\n",
      "3            105    770   13597\n",
      "4            106    770    8404\n",
      "...          ...    ...     ...\n",
      "4995      110987  88064  124941\n",
      "4996      111311  62022  119481\n",
      "4997      111312  62022   98014\n",
      "4998      111313  77381   83225\n",
      "4999      111618  30920  124201\n",
      "\n",
      "[5000 rows x 3 columns]\n"
     ]
    }
   ],
   "source": [
    "sys.path.append('./')\n",
    "configPath = 'config'\n",
    "dataPath = 'ppf2_sample5_1.csv'\n",
    "\n",
    "Data = []\n",
    "data = pd.read_csv(\"ppf2_sample5_3.csv\")\n",
    "print(data)\n",
    "Data = data.values.tolist()\n",
    "\n",
    "Data = Data[1:]"
   ]
  },
  {
   "cell_type": "code",
   "execution_count": 7,
   "metadata": {},
   "outputs": [
    {
     "name": "stdout",
     "output_type": "stream",
     "text": [
      "start time 2022-09-25 21:19:59.634263\n",
      "npmean(resuls[Recall@20]) 0.0784313725490196\n",
      "end time 2022-09-25 21:20:08.486204\n",
      "run time 0:00:08.851941\n",
      "\n",
      "get tuple 2.2408198680751774e-06\n",
      "recommend 0.028582264395321116\n",
      "eval_point 1.6679950788909312e-05\n",
      "update 0.0014739656095434175\n"
     ]
    }
   ],
   "source": [
    "Data_Transpose = np.transpose(Data)\n",
    "stream = ImplicitData(Data_Transpose[1],Data_Transpose[2])\n",
    "\n",
    "\n",
    "num_factors = 90\n",
    "num_iterations = 8\n",
    "learn_rate = 0.3\n",
    "u_regularization = 0.4\n",
    "i_regularization = 0.4\n",
    "random_seed = 10\n",
    "num_nodes = 8\n",
    "\n",
    "\n",
    "model = BISGD(ImplicitData([],[]),num_factors, num_iterations,num_nodes,learn_rate,u_regularization,i_regularization,random_seed)\n",
    "\n",
    "eval = EvalPrequential(model,stream, metrics = [\"Recall@20\"])\n",
    "start_recommend = datetime.now()\n",
    "print('start time', start_recommend)\n",
    "\n",
    "results=eval.EvaluateTime(0,stream.size, 100)\n",
    "\n",
    "print('npmean(resuls[Recall@20])', np.mean(results['Recall@20']))\n",
    "end_recommend = datetime.now()\n",
    "print('end time', end_recommend)\n",
    "\n",
    "tempo = end_recommend - start_recommend\n",
    "\n",
    "print('run time', tempo)\n",
    "print('')\n",
    "print('get tuple',np.mean(results['time_get_tuple']))\n",
    "print('recommend',np.mean(results['time_recommend']))\n",
    "print('eval_point',np.mean(results['time_eval_point']))\n",
    "print('update',np.mean(results['time_update']))"
   ]
  },
  {
   "cell_type": "markdown",
   "metadata": {},
   "source": [
    "### ppf2_sample5_4"
   ]
  },
  {
   "cell_type": "code",
   "execution_count": 8,
   "metadata": {},
   "outputs": [
    {
     "name": "stdout",
     "output_type": "stream",
     "text": [
      "      Unnamed: 0     V1      V2\n",
      "0             19   8521   22806\n",
      "1             20   8521   22800\n",
      "2            125   8346   25979\n",
      "3            645    144   16642\n",
      "4            699   8626   25104\n",
      "...          ...    ...     ...\n",
      "4593      111660  88622  119213\n",
      "4594      111661  88622  119214\n",
      "4595      111763  88717    1475\n",
      "4596      111764  88717   19250\n",
      "4597      111776  74650  125991\n",
      "\n",
      "[4598 rows x 3 columns]\n"
     ]
    }
   ],
   "source": [
    "sys.path.append('./')\n",
    "configPath = 'config'\n",
    "dataPath = 'ppf2_sample5_1.csv'\n",
    "\n",
    "Data = []\n",
    "data = pd.read_csv(\"ppf2_sample5_4.csv\")\n",
    "print(data)\n",
    "Data = data.values.tolist()\n",
    "\n",
    "Data = Data[1:]"
   ]
  },
  {
   "cell_type": "code",
   "execution_count": 9,
   "metadata": {},
   "outputs": [
    {
     "name": "stdout",
     "output_type": "stream",
     "text": [
      "start time 2022-09-25 21:20:08.719921\n",
      "npmean(resuls[Recall@20]) 0.038461538461538464\n",
      "end time 2022-09-25 21:20:16.999024\n",
      "run time 0:00:08.279103\n",
      "\n",
      "get tuple 2.4076282965091873e-06\n",
      "recommend 0.022538597767169658\n",
      "eval_point 1.541926310612605e-05\n",
      "update 0.00154046372327956\n"
     ]
    }
   ],
   "source": [
    "Data_Transpose = np.transpose(Data)\n",
    "stream = ImplicitData(Data_Transpose[1],Data_Transpose[2])\n",
    "\n",
    "\n",
    "num_factors = 90\n",
    "num_iterations = 8\n",
    "learn_rate = 0.3\n",
    "u_regularization = 0.4\n",
    "i_regularization = 0.4\n",
    "random_seed = 10\n",
    "num_nodes = 8\n",
    "\n",
    "\n",
    "model = BISGD(ImplicitData([],[]),num_factors, num_iterations,num_nodes,learn_rate,u_regularization,i_regularization,random_seed)\n",
    "\n",
    "eval = EvalPrequential(model,stream, metrics = [\"Recall@20\"])\n",
    "start_recommend = datetime.now()\n",
    "print('start time', start_recommend)\n",
    "\n",
    "results=eval.EvaluateTime(0,stream.size, 100)\n",
    "\n",
    "print('npmean(resuls[Recall@20])', np.mean(results['Recall@20']))\n",
    "end_recommend = datetime.now()\n",
    "print('end time', end_recommend)\n",
    "\n",
    "tempo = end_recommend - start_recommend\n",
    "\n",
    "print('run time', tempo)\n",
    "print('')\n",
    "print('get tuple',np.mean(results['time_get_tuple']))\n",
    "print('recommend',np.mean(results['time_recommend']))\n",
    "print('eval_point',np.mean(results['time_eval_point']))\n",
    "print('update',np.mean(results['time_update']))"
   ]
  },
  {
   "cell_type": "markdown",
   "metadata": {},
   "source": [
    "### ppf2_sample5_5"
   ]
  },
  {
   "cell_type": "code",
   "execution_count": 10,
   "metadata": {},
   "outputs": [
    {
     "name": "stdout",
     "output_type": "stream",
     "text": [
      "      Unnamed: 0     V1      V2\n",
      "0            386   8294   19054\n",
      "1            522    727   26782\n",
      "2            523    727   26807\n",
      "3            524    727   26808\n",
      "4            784   7771   25113\n",
      "...          ...    ...     ...\n",
      "6153      111838  88578   13748\n",
      "6154      111839  88578   16453\n",
      "6155      111840  88578   90526\n",
      "6156      111889  88884   91169\n",
      "6157      111941  88578  123756\n",
      "\n",
      "[6158 rows x 3 columns]\n"
     ]
    }
   ],
   "source": [
    "sys.path.append('./')\n",
    "configPath = 'config'\n",
    "dataPath = 'ppf2_sample5_1.csv'\n",
    "\n",
    "Data = []\n",
    "data = pd.read_csv(\"ppf2_sample5_5.csv\")\n",
    "print(data)\n",
    "Data = data.values.tolist()\n",
    "\n",
    "Data = Data[1:]"
   ]
  },
  {
   "cell_type": "code",
   "execution_count": 11,
   "metadata": {},
   "outputs": [
    {
     "name": "stdout",
     "output_type": "stream",
     "text": [
      "start time 2022-09-25 21:20:17.457059\n",
      "npmean(resuls[Recall@20]) 0.04477611940298507\n",
      "end time 2022-09-25 21:20:28.157869\n",
      "run time 0:00:10.700810\n",
      "\n",
      "get tuple 2.170085364857993e-06\n",
      "recommend 0.02892679242945429\n",
      "eval_point 1.446880511383512e-05\n",
      "update 0.0014182777011357713\n"
     ]
    }
   ],
   "source": [
    "Data_Transpose = np.transpose(Data)\n",
    "stream = ImplicitData(Data_Transpose[1],Data_Transpose[2])\n",
    "\n",
    "\n",
    "num_factors = 90\n",
    "num_iterations = 8\n",
    "learn_rate = 0.3\n",
    "u_regularization = 0.4\n",
    "i_regularization = 0.4\n",
    "random_seed = 10\n",
    "num_nodes = 8\n",
    "\n",
    "\n",
    "model = BISGD(ImplicitData([],[]),num_factors, num_iterations,num_nodes,learn_rate,u_regularization,i_regularization,random_seed)\n",
    "\n",
    "eval = EvalPrequential(model,stream, metrics = [\"Recall@20\"])\n",
    "start_recommend = datetime.now()\n",
    "print('start time', start_recommend)\n",
    "\n",
    "results=eval.EvaluateTime(0,stream.size, 100)\n",
    "\n",
    "print('npmean(resuls[Recall@20])', np.mean(results['Recall@20']))\n",
    "end_recommend = datetime.now()\n",
    "print('end time', end_recommend)\n",
    "\n",
    "tempo = end_recommend - start_recommend\n",
    "\n",
    "print('run time', tempo)\n",
    "print('')\n",
    "print('get tuple',np.mean(results['time_get_tuple']))\n",
    "print('recommend',np.mean(results['time_recommend']))\n",
    "print('eval_point',np.mean(results['time_eval_point']))\n",
    "print('update',np.mean(results['time_update']))"
   ]
  },
  {
   "cell_type": "code",
   "execution_count": null,
   "metadata": {},
   "outputs": [],
   "source": []
  }
 ],
 "metadata": {
  "kernelspec": {
   "display_name": "myenv",
   "language": "python",
   "name": "myenv"
  },
  "language_info": {
   "codemirror_mode": {
    "name": "ipython",
    "version": 3
   },
   "file_extension": ".py",
   "mimetype": "text/x-python",
   "name": "python",
   "nbconvert_exporter": "python",
   "pygments_lexer": "ipython3",
   "version": "3.9.5"
  }
 },
 "nbformat": 4,
 "nbformat_minor": 4
}
