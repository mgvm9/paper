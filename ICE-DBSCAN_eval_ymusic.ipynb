{
 "cells": [
  {
   "attachments": {},
   "cell_type": "markdown",
   "metadata": {},
   "source": [
    "# ICE-DBSCAN Evaluation ymusic"
   ]
  },
  {
   "cell_type": "code",
   "execution_count": 1,
   "metadata": {},
   "outputs": [],
   "source": [
    "#imports\n",
    "import numpy as np \n",
    "import csv\n",
    "import pandas as pd\n",
    "import re\n",
    "import sys\n",
    "import math\n",
    "import matplotlib.pyplot as plt\n",
    "from numpy import linalg as LA\n",
    "import random\n",
    "from sklearn.preprocessing import normalize\n",
    "from numba import njit\n",
    "from collections import defaultdict\n",
    "import random\n",
    "from implicit_data import ImplicitData\n",
    "import numpy as np\n",
    "from BISGD import BISGD\n",
    "from ICE_DBSCAN import ICE_DBSCAN\n",
    "from collections import defaultdict\n",
    "from eval_implicit import EvalPrequential\n",
    "from datetime import datetime\n",
    "import getopt"
   ]
  },
  {
   "attachments": {},
   "cell_type": "markdown",
   "metadata": {},
   "source": [
    "## Functions\n"
   ]
  },
  {
   "cell_type": "code",
   "execution_count": 2,
   "metadata": {},
   "outputs": [],
   "source": [
    "def sigmoid(x):\n",
    "  return 1 / (1 + math.exp(-x))\n",
    "\n",
    "def sumvector(V,x):\n",
    "    result = []\n",
    "    for v in V:\n",
    "        temp = v + x\n",
    "        result.append(temp)\n",
    "    return result    \n",
    "\n",
    "def multvector(x,V):\n",
    "    result = []\n",
    "    for v in V:\n",
    "        temp = v * x\n",
    "        result.append(temp)\n",
    "    return result    \n",
    "\n",
    "def TransformVec(V):\n",
    "    for i in range(len(V)):\n",
    "        V[i] = sigmoid(V[i])\n",
    "    D = LA.norm(V)\n",
    "    D=1/D\n",
    "    new = D * V\n",
    "  \n",
    "\n",
    "    return new\n"
   ]
  },
  {
   "attachments": {},
   "cell_type": "markdown",
   "metadata": {},
   "source": [
    "## Get the data"
   ]
  },
  {
   "cell_type": "code",
   "execution_count": 3,
   "metadata": {},
   "outputs": [
    {
     "name": "stdout",
     "output_type": "stream",
     "text": [
      "       Unnamed: 0  user_id  item_id\n",
      "0            3873   795245    10843\n",
      "1            3874   795245    56437\n",
      "2            3875   795245    75757\n",
      "3            3876   795245    96467\n",
      "4            3877   795245   111214\n",
      "...           ...      ...      ...\n",
      "22775      476510   555020   475132\n",
      "22776      476511   555020   141032\n",
      "22777      476512   555020   201436\n",
      "22778      476513   555020   125269\n",
      "22779      476514   555020   141393\n",
      "\n",
      "[22780 rows x 3 columns]\n"
     ]
    }
   ],
   "source": [
    "sys.path.append('./')\n",
    "configPath = 'config'\n",
    "dataPath = 'ymusic_gte90_6kusers.tsv'\n",
    "\n",
    "\n",
    "Data = []\n",
    "data = pd.read_csv(\"ymusic_sample5_1.csv\")\n",
    "print(data)\n",
    "Data = data.values.tolist()   \n",
    "Data = Data[:1000]"
   ]
  },
  {
   "attachments": {},
   "cell_type": "markdown",
   "metadata": {},
   "source": [
    "## Sampled datasets"
   ]
  },
  {
   "attachments": {},
   "cell_type": "markdown",
   "metadata": {},
   "source": [
    "### ymusic_sample5_1"
   ]
  },
  {
   "cell_type": "code",
   "execution_count": 54,
   "metadata": {},
   "outputs": [
    {
     "name": "stdout",
     "output_type": "stream",
     "text": [
      "       Unnamed: 0  user_id  item_id\n",
      "0            3873   795245    10843\n",
      "1            3874   795245    56437\n",
      "2            3875   795245    75757\n",
      "3            3876   795245    96467\n",
      "4            3877   795245   111214\n",
      "...           ...      ...      ...\n",
      "22775      476510   555020   475132\n",
      "22776      476511   555020   141032\n",
      "22777      476512   555020   201436\n",
      "22778      476513   555020   125269\n",
      "22779      476514   555020   141393\n",
      "\n",
      "[22780 rows x 3 columns]\n"
     ]
    }
   ],
   "source": [
    "sys.path.append('./')\n",
    "configPath = 'config'\n",
    "dataPath = 'ymusic_gte90_6kusers.tsv'\n",
    "\n",
    "\n",
    "Data = []\n",
    "data = pd.read_csv(\"ymusic_sample5_1.csv\")\n",
    "print(data)\n",
    "Data = data.values.tolist()   \n"
   ]
  },
  {
   "cell_type": "code",
   "execution_count": 55,
   "metadata": {},
   "outputs": [
    {
     "name": "stdout",
     "output_type": "stream",
     "text": [
      "start time 2022-09-20 18:58:44.240560\n",
      "npmean(resuls[Recall@20]) 0.0639269406392694\n",
      "end time 2022-09-20 20:50:20.508266\n",
      "run time 1:51:36.267706\n",
      "\n",
      "get tuple 5.146847993684925e-06\n",
      "recommend 0.1485153932005303\n",
      "eval_point 4.46191117099431e-05\n",
      "update 0.2925128457104563\n"
     ]
    }
   ],
   "source": [
    "Data_Transpose = np.transpose(Data)\n",
    "stream = ImplicitData(Data_Transpose[1],Data_Transpose[2])\n",
    "\n",
    "\n",
    "\n",
    "num_clusters = 8\n",
    "cl_num_iterations = 10\n",
    "cl_learn_rate =0.1\n",
    "cl_regularization = 0.0001\n",
    "num_factors = 200\n",
    "num_iter = 9\n",
    "learn_rate = 0.25\n",
    "regularization = 0.45\n",
    "eps = 0.1\n",
    "MinPts = 20\n",
    "k = 8\n",
    "model = ICE_DBSCAN(ImplicitData([],[]),  eps, MinPts, k, num_clusters, cl_num_iterations, cl_learn_rate, cl_regularization, \n",
    "        num_factors, num_iter, learn_rate, regularization, random_seed = 10)\n",
    "eval = EvalPrequential(model,stream, metrics = [\"Recall@20\"])\n",
    "start_recommend = datetime.now()\n",
    "print('start time', start_recommend)\n",
    "\n",
    "results=eval.EvaluateTime(0,stream.size, 100)\n",
    "\n",
    "print('npmean(resuls[Recall@20])', np.mean(results['Recall@20']))\n",
    "end_recommend = datetime.now()\n",
    "print('end time', end_recommend)\n",
    "\n",
    "tempo = end_recommend - start_recommend\n",
    "\n",
    "print('run time', tempo)\n",
    "print('')\n",
    "print('get tuple',np.mean(results['time_get_tuple']))\n",
    "print('recommend',np.mean(results['time_recommend']))\n",
    "print('eval_point',np.mean(results['time_eval_point']))\n",
    "print('update',np.mean(results['time_update']))"
   ]
  },
  {
   "attachments": {},
   "cell_type": "markdown",
   "metadata": {},
   "source": [
    "### ymusic_sample5_2"
   ]
  },
  {
   "cell_type": "code",
   "execution_count": 56,
   "metadata": {},
   "outputs": [
    {
     "name": "stdout",
     "output_type": "stream",
     "text": [
      "       Unnamed: 0  user_id  item_id\n",
      "0             785   218332    67176\n",
      "1             786   218332    74262\n",
      "2             787   218332   196852\n",
      "3             788   218332   290893\n",
      "4             789   218332   366723\n",
      "...           ...      ...      ...\n",
      "27915      476256   986546    53049\n",
      "27916      476257   986546   381024\n",
      "27917      476258   986546   392726\n",
      "27918      476686   836553   309703\n",
      "27919      476687   836553   219502\n",
      "\n",
      "[27920 rows x 3 columns]\n"
     ]
    }
   ],
   "source": [
    "sys.path.append('./')\n",
    "configPath = 'config'\n",
    "dataPath = 'ymusic_gte90_6kusers.tsv'\n",
    "\n",
    "\n",
    "Data = []\n",
    "data = pd.read_csv(\"ymusic_sample5_2.csv\")\n",
    "print(data)\n",
    "Data = data.values.tolist()   "
   ]
  },
  {
   "cell_type": "code",
   "execution_count": 57,
   "metadata": {},
   "outputs": [
    {
     "name": "stdout",
     "output_type": "stream",
     "text": [
      "start time 2022-09-20 20:50:22.218984\n",
      "\n",
      "Cluster1\n",
      "\n",
      "Cluster1 Points:\n",
      "-----------------\n",
      "[[106128, 9101], [106128, 558154], [106128, 18879], [106128, 222533], [106128, 17520], [106128, 533032], [106128, 131244], [106128, 406596], [106128, 357972], [106128, 175835], [106128, 262605], [106128, 183450], [106128, 84102], [106128, 607946], [106128, 434455], [106128, 4653], [106128, 282465], [106128, 346457], [106128, 532453], [106128, 189820]]\n",
      "20\n",
      "-----------------\n",
      "npmean(resuls[Recall@20]) 0.09278350515463918\n",
      "end time 2022-09-20 23:39:47.498311\n",
      "run time 2:49:25.279327\n",
      "\n",
      "get tuple 5.398404632393474e-06\n",
      "recommend 0.2732745626128416\n",
      "eval_point 4.5267577023850276e-05\n",
      "update 0.36121559067066217\n"
     ]
    }
   ],
   "source": [
    "Data_Transpose = np.transpose(Data)\n",
    "stream = ImplicitData(Data_Transpose[1],Data_Transpose[2])\n",
    "\n",
    "\n",
    "\n",
    "num_clusters = 8\n",
    "cl_num_iterations = 10\n",
    "cl_learn_rate =0.1\n",
    "cl_regularization = 0.0001\n",
    "num_factors = 200\n",
    "num_iter = 9\n",
    "learn_rate = 0.25\n",
    "regularization = 0.45\n",
    "eps = 0.1\n",
    "MinPts = 20\n",
    "k = 8\n",
    "model = ICE_DBSCAN(ImplicitData([],[]),  eps, MinPts, k, num_clusters, cl_num_iterations, cl_learn_rate, cl_regularization, \n",
    "        num_factors, num_iter, learn_rate, regularization, random_seed = 10)\n",
    "eval = EvalPrequential(model,stream, metrics = [\"Recall@20\"])\n",
    "start_recommend = datetime.now()\n",
    "print('start time', start_recommend)\n",
    "\n",
    "results=eval.EvaluateTime(0,stream.size, 100)\n",
    "\n",
    "print('npmean(resuls[Recall@20])', np.mean(results['Recall@20']))\n",
    "end_recommend = datetime.now()\n",
    "print('end time', end_recommend)\n",
    "\n",
    "tempo = end_recommend - start_recommend\n",
    "\n",
    "print('run time', tempo)\n",
    "print('')\n",
    "print('get tuple',np.mean(results['time_get_tuple']))\n",
    "print('recommend',np.mean(results['time_recommend']))\n",
    "print('eval_point',np.mean(results['time_eval_point']))\n",
    "print('update',np.mean(results['time_update']))"
   ]
  },
  {
   "attachments": {},
   "cell_type": "markdown",
   "metadata": {},
   "source": [
    "### ymusic_sample5_3"
   ]
  },
  {
   "cell_type": "code",
   "execution_count": 58,
   "metadata": {},
   "outputs": [
    {
     "name": "stdout",
     "output_type": "stream",
     "text": [
      "       Unnamed: 0  user_id  item_id\n",
      "0            1792   292189    40476\n",
      "1            1793   292189   110821\n",
      "2            1794   292189   337957\n",
      "3            1795   292189   392167\n",
      "4            1796   292189   567378\n",
      "...           ...      ...      ...\n",
      "23055      476483   214741   137608\n",
      "23056      476485   214741   551893\n",
      "23057      476690   315275   385015\n",
      "23058      476760   736333    59141\n",
      "23059      476761   736333   343375\n",
      "\n",
      "[23060 rows x 3 columns]\n"
     ]
    }
   ],
   "source": [
    "sys.path.append('./')\n",
    "configPath = 'config'\n",
    "dataPath = 'ymusic_gte90_6kusers.tsv'\n",
    "\n",
    "\n",
    "Data = []\n",
    "data = pd.read_csv(\"ymusic_sample5_3.csv\")\n",
    "print(data)\n",
    "Data = data.values.tolist()   "
   ]
  },
  {
   "cell_type": "code",
   "execution_count": 59,
   "metadata": {},
   "outputs": [
    {
     "name": "stdout",
     "output_type": "stream",
     "text": [
      "start time 2022-09-20 23:39:50.017072\n",
      "npmean(resuls[Recall@20]) 0.10714285714285714\n",
      "end time 2022-09-21 01:47:57.580633\n",
      "run time 2:08:07.563561\n",
      "\n",
      "get tuple 9.092515381335799e-06\n",
      "recommend 0.2395206934639386\n",
      "eval_point 4.2850417750222345e-05\n",
      "update 0.3310181948483145\n"
     ]
    }
   ],
   "source": [
    "Data_Transpose = np.transpose(Data)\n",
    "stream = ImplicitData(Data_Transpose[1],Data_Transpose[2])\n",
    "\n",
    "\n",
    "\n",
    "num_clusters = 8\n",
    "cl_num_iterations = 10\n",
    "cl_learn_rate =0.1\n",
    "cl_regularization = 0.0001\n",
    "num_factors = 200\n",
    "num_iter = 9\n",
    "learn_rate = 0.25\n",
    "regularization = 0.45\n",
    "eps = 0.1\n",
    "MinPts = 20\n",
    "k = 8\n",
    "model = ICE_DBSCAN(ImplicitData([],[]),  eps, MinPts, k, num_clusters, cl_num_iterations, cl_learn_rate, cl_regularization, \n",
    "        num_factors, num_iter, learn_rate, regularization, random_seed = 10)\n",
    "eval = EvalPrequential(model,stream, metrics = [\"Recall@20\"])\n",
    "start_recommend = datetime.now()\n",
    "print('start time', start_recommend)\n",
    "\n",
    "results=eval.EvaluateTime(0,stream.size, 100)\n",
    "\n",
    "print('npmean(resuls[Recall@20])', np.mean(results['Recall@20']))\n",
    "end_recommend = datetime.now()\n",
    "print('end time', end_recommend)\n",
    "\n",
    "tempo = end_recommend - start_recommend\n",
    "\n",
    "print('run time', tempo)\n",
    "print('')\n",
    "print('get tuple',np.mean(results['time_get_tuple']))\n",
    "print('recommend',np.mean(results['time_recommend']))\n",
    "print('eval_point',np.mean(results['time_eval_point']))\n",
    "print('update',np.mean(results['time_update']))"
   ]
  },
  {
   "attachments": {},
   "cell_type": "markdown",
   "metadata": {},
   "source": [
    "### ymusic_sample5_4"
   ]
  },
  {
   "cell_type": "code",
   "execution_count": 60,
   "metadata": {},
   "outputs": [
    {
     "name": "stdout",
     "output_type": "stream",
     "text": [
      "       Unnamed: 0  user_id  item_id\n",
      "0             461   762863   388288\n",
      "1             462   762863   556804\n",
      "2             463   762863   539820\n",
      "3             464   762863   369332\n",
      "4             465   762863   384847\n",
      "...           ...      ...      ...\n",
      "29563      476878   791728    97526\n",
      "29564      476879   791728   594258\n",
      "29565      476880   791728   278513\n",
      "29566      476881   791728   525766\n",
      "29567      476882   791728   544937\n",
      "\n",
      "[29568 rows x 3 columns]\n"
     ]
    }
   ],
   "source": [
    "sys.path.append('./')\n",
    "configPath = 'config'\n",
    "dataPath = 'ymusic_gte90_6kusers.tsv'\n",
    "\n",
    "\n",
    "Data = []\n",
    "data = pd.read_csv(\"ymusic_sample5_4.csv\")\n",
    "print(data)\n",
    "Data = data.values.tolist()"
   ]
  },
  {
   "cell_type": "code",
   "execution_count": 61,
   "metadata": {},
   "outputs": [
    {
     "name": "stdout",
     "output_type": "stream",
     "text": [
      "start time 2022-09-21 01:47:59.060053\n",
      "npmean(resuls[Recall@20]) 0.06545454545454546\n",
      "end time 2022-09-21 04:55:04.193274\n",
      "run time 3:07:05.133221\n",
      "\n",
      "get tuple 5.0438656693413144e-06\n",
      "recommend 0.3225282556360418\n",
      "eval_point 4.421147433194247e-05\n",
      "update 0.3766246547366118\n"
     ]
    }
   ],
   "source": [
    "Data_Transpose = np.transpose(Data)\n",
    "stream = ImplicitData(Data_Transpose[1],Data_Transpose[2])\n",
    "\n",
    "\n",
    "\n",
    "num_clusters = 8\n",
    "cl_num_iterations = 10\n",
    "cl_learn_rate =0.1\n",
    "cl_regularization = 0.0001\n",
    "num_factors = 200\n",
    "num_iter = 9\n",
    "learn_rate = 0.25\n",
    "regularization = 0.45\n",
    "eps = 0.1\n",
    "MinPts = 20\n",
    "k = 8\n",
    "model = ICE_DBSCAN(ImplicitData([],[]),  eps, MinPts, k, num_clusters, cl_num_iterations, cl_learn_rate, cl_regularization, \n",
    "        num_factors, num_iter, learn_rate, regularization, random_seed = 10)\n",
    "eval = EvalPrequential(model,stream, metrics = [\"Recall@20\"])\n",
    "start_recommend = datetime.now()\n",
    "print('start time', start_recommend)\n",
    "\n",
    "results=eval.EvaluateTime(0,stream.size, 100)\n",
    "\n",
    "print('npmean(resuls[Recall@20])', np.mean(results['Recall@20']))\n",
    "end_recommend = datetime.now()\n",
    "print('end time', end_recommend)\n",
    "\n",
    "tempo = end_recommend - start_recommend\n",
    "\n",
    "print('run time', tempo)\n",
    "print('')\n",
    "print('get tuple',np.mean(results['time_get_tuple']))\n",
    "print('recommend',np.mean(results['time_recommend']))\n",
    "print('eval_point',np.mean(results['time_eval_point']))\n",
    "print('update',np.mean(results['time_update']))"
   ]
  },
  {
   "attachments": {},
   "cell_type": "markdown",
   "metadata": {},
   "source": [
    "### ymusic_sample5_5"
   ]
  },
  {
   "cell_type": "code",
   "execution_count": 62,
   "metadata": {},
   "outputs": [
    {
     "name": "stdout",
     "output_type": "stream",
     "text": [
      "       Unnamed: 0  user_id  item_id\n",
      "0            1080   540444   196323\n",
      "1            1081   540444   504528\n",
      "2            1082   540444   314333\n",
      "3            1083   540444   258823\n",
      "4            1446   540444   196852\n",
      "...           ...      ...      ...\n",
      "27883      476395   214741   436267\n",
      "27884      476481   214741    80180\n",
      "27885      476482   214741    22329\n",
      "27886      476483   214741   137608\n",
      "27887      476485   214741   551893\n",
      "\n",
      "[27888 rows x 3 columns]\n"
     ]
    }
   ],
   "source": [
    "sys.path.append('./')\n",
    "configPath = 'config'\n",
    "dataPath = 'ymusic_gte90_6kusers.tsv'\n",
    "\n",
    "\n",
    "Data = []\n",
    "data = pd.read_csv(\"ymusic_sample5_5.csv\")\n",
    "print(data)\n",
    "Data = data.values.tolist()"
   ]
  },
  {
   "cell_type": "code",
   "execution_count": 63,
   "metadata": {},
   "outputs": [
    {
     "name": "stdout",
     "output_type": "stream",
     "text": [
      "start time 2022-09-21 04:55:07.468385\n",
      "npmean(resuls[Recall@20]) 0.08041958041958042\n",
      "end time 2022-09-21 07:35:54.941404\n",
      "run time 2:40:47.473019\n",
      "\n",
      "get tuple 4.686564805517235e-06\n",
      "recommend 0.17072721961494927\n",
      "eval_point 4.170241055788694e-05\n",
      "update 0.3441727455583579\n"
     ]
    }
   ],
   "source": [
    "Data_Transpose = np.transpose(Data)\n",
    "stream = ImplicitData(Data_Transpose[1],Data_Transpose[2])\n",
    "\n",
    "\n",
    "\n",
    "num_clusters = 8\n",
    "cl_num_iterations = 10\n",
    "cl_learn_rate =0.1\n",
    "cl_regularization = 0.0001\n",
    "num_factors = 200\n",
    "num_iter = 9\n",
    "learn_rate = 0.25\n",
    "regularization = 0.45\n",
    "eps = 0.1\n",
    "MinPts = 20\n",
    "k = 8\n",
    "model = ICE_DBSCAN(ImplicitData([],[]),  eps, MinPts, k, num_clusters, cl_num_iterations, cl_learn_rate, cl_regularization, \n",
    "        num_factors, num_iter, learn_rate, regularization, random_seed = 10)\n",
    "eval = EvalPrequential(model,stream, metrics = [\"Recall@20\"])\n",
    "start_recommend = datetime.now()\n",
    "print('start time', start_recommend)\n",
    "\n",
    "results=eval.EvaluateTime(0,stream.size, 100)\n",
    "\n",
    "print('npmean(resuls[Recall@20])', np.mean(results['Recall@20']))\n",
    "end_recommend = datetime.now()\n",
    "print('end time', end_recommend)\n",
    "\n",
    "tempo = end_recommend - start_recommend\n",
    "\n",
    "print('run time', tempo)\n",
    "print('')\n",
    "print('get tuple',np.mean(results['time_get_tuple']))\n",
    "print('recommend',np.mean(results['time_recommend']))\n",
    "print('eval_point',np.mean(results['time_eval_point']))\n",
    "print('update',np.mean(results['time_update']))"
   ]
  }
 ],
 "metadata": {
  "kernelspec": {
   "display_name": "myenv",
   "language": "python",
   "name": "myenv"
  },
  "language_info": {
   "codemirror_mode": {
    "name": "ipython",
    "version": 3
   },
   "file_extension": ".py",
   "mimetype": "text/x-python",
   "name": "python",
   "nbconvert_exporter": "python",
   "pygments_lexer": "ipython3",
   "version": "3.9.5"
  }
 },
 "nbformat": 4,
 "nbformat_minor": 4
}
