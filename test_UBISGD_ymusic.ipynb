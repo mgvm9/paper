{
 "cells": [
  {
   "cell_type": "markdown",
   "metadata": {},
   "source": [
    "# Teste UBISGD"
   ]
  },
  {
   "cell_type": "code",
   "execution_count": 1,
   "metadata": {},
   "outputs": [
    {
     "name": "stderr",
     "output_type": "stream",
     "text": [
      "/home/mmelo/miniconda3/lib/python3.9/site-packages/IPython/core/interactiveshell.py:3444: FutureWarning: In a future version of pandas all arguments of read_csv except for the argument 'filepath_or_buffer' will be keyword-only\n",
      "  exec(code_obj, self.user_global_ns, self.user_ns)\n"
     ]
    },
    {
     "name": "stdout",
     "output_type": "stream",
     "text": [
      "        user_id  item_id\n",
      "0        378723   124036\n",
      "1        378723   608145\n",
      "2        378723    48098\n",
      "3        378723    80338\n",
      "4        378723   334716\n",
      "...         ...      ...\n",
      "476881   791728   544937\n",
      "476882   311543    51032\n",
      "476883   311543   254517\n",
      "476884   311543    19252\n",
      "476885   311543    59298\n",
      "\n",
      "[476886 rows x 2 columns]\n",
      "start time 2022-09-26 21:38:11.388174\n",
      "npmean(resuls[Recall@20]) 0.1179345516362091\n",
      "end time 2022-09-27 01:00:43.246185\n",
      "run time 3:22:31.858011\n",
      "\n",
      "get tuple 5.117334838188345e-06\n",
      "recommend 2.2017741325405167\n",
      "eval_point 1.9999296169710626e-05\n",
      "update 0.003741270435137736\n"
     ]
    }
   ],
   "source": [
    "from data import ImplicitData\n",
    "#from param_tuning import PatternSearchISGD\n",
    "from pprint import pprint\n",
    "import pandas as pd\n",
    "from operator import itemgetter\n",
    "import numpy as np\n",
    "from UBISGD import UBISGD\n",
    "from eval_implicit import EvalPrequential\n",
    "from datetime import datetime\n",
    "import sys\n",
    "import csv\n",
    "\n",
    "sys.path.append('./')\n",
    "configPath = 'config'\n",
    "dataPath = 'ymusic_gte90_6kusers.tsv'\n",
    "\n",
    "\n",
    "Data = []\n",
    "data = pd.read_csv(\"ymusic_gte90_6kusers.tsv\",\"\\t\")\n",
    "print(data)\n",
    "Data = data.values.tolist()\n",
    "\n",
    "\n",
    "Data_Transpose = np.transpose(Data)\n",
    "stream = ImplicitData(Data_Transpose[0],Data_Transpose[1])\n",
    "\n",
    "num_factors = 200\n",
    "num_iterations = 9\n",
    "learn_rate = 0.25\n",
    "u_regularization = 0.45\n",
    "i_regularization = 0.45\n",
    "random_seed = 10\n",
    "num_nodes = 8\n",
    "\n",
    "model = UBISGD(ImplicitData([],[]),num_factors, num_iterations,num_nodes,learn_rate,u_regularization,i_regularization,random_seed)\n",
    "\n",
    "\n",
    "eval = EvalPrequential(model,stream, metrics = [\"Recall@20\"])\n",
    "start_recommend = datetime.now()\n",
    "print('start time', start_recommend)\n",
    "\n",
    "results=eval.EvaluateTime(0,stream.size, 100)\n",
    "\n",
    "print('npmean(resuls[Recall@20])', np.mean(results['Recall@20']))\n",
    "end_recommend = datetime.now()\n",
    "print('end time', end_recommend)\n",
    "\n",
    "tempo = end_recommend - start_recommend\n",
    "\n",
    "print('run time', tempo)\n",
    "print('')\n",
    "print('get tuple',np.mean(results['time_get_tuple']))\n",
    "print('recommend',np.mean(results['time_recommend']))\n",
    "print('eval_point',np.mean(results['time_eval_point']))\n",
    "print('update',np.mean(results['time_update']))\n",
    "\n"
   ]
  },
  {
   "cell_type": "markdown",
   "metadata": {},
   "source": [
    "## import "
   ]
  },
  {
   "cell_type": "code",
   "execution_count": 1,
   "metadata": {},
   "outputs": [],
   "source": [
    "from data import ImplicitData\n",
    "#from param_tuning import PatternSearchISGD\n",
    "from pprint import pprint\n",
    "import pandas as pd\n",
    "from operator import itemgetter\n",
    "import numpy as np\n",
    "from UBISGD import UBISGD\n",
    "from eval_implicit import EvalPrequential\n",
    "from datetime import datetime\n",
    "import sys\n",
    "import csv"
   ]
  },
  {
   "cell_type": "markdown",
   "metadata": {},
   "source": [
    "### ymusic_sample5_1"
   ]
  },
  {
   "cell_type": "code",
   "execution_count": 2,
   "metadata": {},
   "outputs": [
    {
     "name": "stdout",
     "output_type": "stream",
     "text": [
      "       Unnamed: 0  user_id  item_id\n",
      "0            3873   795245    10843\n",
      "1            3874   795245    56437\n",
      "2            3875   795245    75757\n",
      "3            3876   795245    96467\n",
      "4            3877   795245   111214\n",
      "...           ...      ...      ...\n",
      "22775      476510   555020   475132\n",
      "22776      476511   555020   141032\n",
      "22777      476512   555020   201436\n",
      "22778      476513   555020   125269\n",
      "22779      476514   555020   141393\n",
      "\n",
      "[22780 rows x 3 columns]\n"
     ]
    }
   ],
   "source": [
    "sys.path.append('./')\n",
    "configPath = 'config'\n",
    "dataPath = 'ymusic_gte90_6kusers.tsv'\n",
    "\n",
    "\n",
    "Data = []\n",
    "data = pd.read_csv(\"ymusic_sample5_1.csv\")\n",
    "print(data)\n",
    "Data = data.values.tolist()"
   ]
  },
  {
   "cell_type": "code",
   "execution_count": 3,
   "metadata": {},
   "outputs": [
    {
     "name": "stdout",
     "output_type": "stream",
     "text": [
      "start time 2022-09-20 18:36:21.314716\n",
      "npmean(resuls[Recall@20]) 0.05829596412556054\n",
      "end time 2022-09-20 18:37:37.327945\n",
      "run time 0:01:16.013229\n",
      "\n",
      "get tuple 2.2864739449009546e-06\n",
      "recommend 0.16589434478315002\n",
      "eval_point 2.3059246251401344e-05\n",
      "update 0.001707658556284247\n"
     ]
    }
   ],
   "source": [
    "\n",
    "Data_Transpose = np.transpose(Data)\n",
    "stream = ImplicitData(Data_Transpose[1],Data_Transpose[2])\n",
    "\n",
    "num_factors = 200\n",
    "num_iterations = 9\n",
    "learn_rate = 0.25\n",
    "u_regularization = 0.45\n",
    "i_regularization = 0.45\n",
    "random_seed = 10\n",
    "num_nodes = 8\n",
    "\n",
    "model = UBISGD(ImplicitData([],[]),num_factors, num_iterations,num_nodes,learn_rate,u_regularization,i_regularization,random_seed)\n",
    "\n",
    "\n",
    "eval = EvalPrequential(model,stream, metrics = [\"Recall@20\"])\n",
    "start_recommend = datetime.now()\n",
    "print('start time', start_recommend)\n",
    "\n",
    "results=eval.EvaluateTime(0,stream.size, 100)\n",
    "\n",
    "print('npmean(resuls[Recall@20])', np.mean(results['Recall@20']))\n",
    "end_recommend = datetime.now()\n",
    "print('end time', end_recommend)\n",
    "\n",
    "tempo = end_recommend - start_recommend\n",
    "\n",
    "print('run time', tempo)\n",
    "print('')\n",
    "print('get tuple',np.mean(results['time_get_tuple']))\n",
    "print('recommend',np.mean(results['time_recommend']))\n",
    "print('eval_point',np.mean(results['time_eval_point']))\n",
    "print('update',np.mean(results['time_update']))\n",
    "\n"
   ]
  },
  {
   "cell_type": "markdown",
   "metadata": {},
   "source": [
    "### ymusic_sample5_2"
   ]
  },
  {
   "cell_type": "code",
   "execution_count": 4,
   "metadata": {},
   "outputs": [
    {
     "name": "stdout",
     "output_type": "stream",
     "text": [
      "       Unnamed: 0  user_id  item_id\n",
      "0             785   218332    67176\n",
      "1             786   218332    74262\n",
      "2             787   218332   196852\n",
      "3             788   218332   290893\n",
      "4             789   218332   366723\n",
      "...           ...      ...      ...\n",
      "27915      476256   986546    53049\n",
      "27916      476257   986546   381024\n",
      "27917      476258   986546   392726\n",
      "27918      476686   836553   309703\n",
      "27919      476687   836553   219502\n",
      "\n",
      "[27920 rows x 3 columns]\n"
     ]
    }
   ],
   "source": [
    "sys.path.append('./')\n",
    "configPath = 'config'\n",
    "dataPath = 'ymusic_gte90_6kusers.tsv'\n",
    "\n",
    "\n",
    "Data = []\n",
    "data = pd.read_csv(\"ymusic_sample5_2.csv\")\n",
    "print(data)\n",
    "Data = data.values.tolist()"
   ]
  },
  {
   "cell_type": "code",
   "execution_count": 5,
   "metadata": {},
   "outputs": [
    {
     "name": "stdout",
     "output_type": "stream",
     "text": [
      "start time 2022-09-20 18:37:37.754942\n",
      "npmean(resuls[Recall@20]) 0.08270676691729323\n",
      "end time 2022-09-20 18:39:04.562862\n",
      "run time 0:01:26.807920\n",
      "\n",
      "get tuple 2.3570306663185273e-06\n",
      "recommend 0.14416579285958656\n",
      "eval_point 1.6647173946065114e-05\n",
      "update 0.0017304891074626015\n"
     ]
    }
   ],
   "source": [
    "\n",
    "Data_Transpose = np.transpose(Data)\n",
    "stream = ImplicitData(Data_Transpose[1],Data_Transpose[2])\n",
    "\n",
    "num_factors = 200\n",
    "num_iterations = 9\n",
    "learn_rate = 0.25\n",
    "u_regularization = 0.45\n",
    "i_regularization = 0.45\n",
    "random_seed = 10\n",
    "num_nodes = 8\n",
    "\n",
    "model = UBISGD(ImplicitData([],[]),num_factors, num_iterations,num_nodes,learn_rate,u_regularization,i_regularization,random_seed)\n",
    "\n",
    "\n",
    "eval = EvalPrequential(model,stream, metrics = [\"Recall@20\"])\n",
    "start_recommend = datetime.now()\n",
    "print('start time', start_recommend)\n",
    "\n",
    "results=eval.EvaluateTime(0,stream.size, 100)\n",
    "\n",
    "print('npmean(resuls[Recall@20])', np.mean(results['Recall@20']))\n",
    "end_recommend = datetime.now()\n",
    "print('end time', end_recommend)\n",
    "\n",
    "tempo = end_recommend - start_recommend\n",
    "\n",
    "print('run time', tempo)\n",
    "print('')\n",
    "print('get tuple',np.mean(results['time_get_tuple']))\n",
    "print('recommend',np.mean(results['time_recommend']))\n",
    "print('eval_point',np.mean(results['time_eval_point']))\n",
    "print('update',np.mean(results['time_update']))\n"
   ]
  },
  {
   "cell_type": "markdown",
   "metadata": {},
   "source": [
    "### ymusic_sample5_3"
   ]
  },
  {
   "cell_type": "code",
   "execution_count": 6,
   "metadata": {},
   "outputs": [
    {
     "name": "stdout",
     "output_type": "stream",
     "text": [
      "       Unnamed: 0  user_id  item_id\n",
      "0            1792   292189    40476\n",
      "1            1793   292189   110821\n",
      "2            1794   292189   337957\n",
      "3            1795   292189   392167\n",
      "4            1796   292189   567378\n",
      "...           ...      ...      ...\n",
      "23055      476483   214741   137608\n",
      "23056      476485   214741   551893\n",
      "23057      476690   315275   385015\n",
      "23058      476760   736333    59141\n",
      "23059      476761   736333   343375\n",
      "\n",
      "[23060 rows x 3 columns]\n"
     ]
    }
   ],
   "source": [
    "sys.path.append('./')\n",
    "configPath = 'config'\n",
    "dataPath = 'ymusic_gte90_6kusers.tsv'\n",
    "\n",
    "\n",
    "Data = []\n",
    "data = pd.read_csv(\"ymusic_sample5_3.csv\")\n",
    "print(data)\n",
    "Data = data.values.tolist()"
   ]
  },
  {
   "cell_type": "code",
   "execution_count": 7,
   "metadata": {},
   "outputs": [
    {
     "name": "stdout",
     "output_type": "stream",
     "text": [
      "start time 2022-09-20 18:39:05.607130\n",
      "npmean(resuls[Recall@20]) 0.0546218487394958\n",
      "end time 2022-09-20 18:40:17.835664\n",
      "run time 0:01:12.228534\n",
      "\n",
      "get tuple 2.2341040870156994e-06\n",
      "recommend 0.12220129145293676\n",
      "eval_point 1.6220477448792017e-05\n",
      "update 0.0018658872386836426\n"
     ]
    }
   ],
   "source": [
    "Data_Transpose = np.transpose(Data)\n",
    "stream = ImplicitData(Data_Transpose[1],Data_Transpose[2])\n",
    "\n",
    "num_factors = 200\n",
    "num_iterations = 9\n",
    "learn_rate = 0.25\n",
    "u_regularization = 0.45\n",
    "i_regularization = 0.45\n",
    "random_seed = 10\n",
    "num_nodes = 8\n",
    "\n",
    "model = UBISGD(ImplicitData([],[]),num_factors, num_iterations,num_nodes,learn_rate,u_regularization,i_regularization,random_seed)\n",
    "\n",
    "\n",
    "eval = EvalPrequential(model,stream, metrics = [\"Recall@20\"])\n",
    "start_recommend = datetime.now()\n",
    "print('start time', start_recommend)\n",
    "\n",
    "results=eval.EvaluateTime(0,stream.size, 100)\n",
    "\n",
    "print('npmean(resuls[Recall@20])', np.mean(results['Recall@20']))\n",
    "end_recommend = datetime.now()\n",
    "print('end time', end_recommend)\n",
    "\n",
    "tempo = end_recommend - start_recommend\n",
    "\n",
    "print('run time', tempo)\n",
    "print('')\n",
    "print('get tuple',np.mean(results['time_get_tuple']))\n",
    "print('recommend',np.mean(results['time_recommend']))\n",
    "print('eval_point',np.mean(results['time_eval_point']))\n",
    "print('update',np.mean(results['time_update']))\n"
   ]
  },
  {
   "cell_type": "markdown",
   "metadata": {},
   "source": [
    "### ymusic_sample5_4"
   ]
  },
  {
   "cell_type": "code",
   "execution_count": 8,
   "metadata": {},
   "outputs": [
    {
     "name": "stdout",
     "output_type": "stream",
     "text": [
      "       Unnamed: 0  user_id  item_id\n",
      "0             461   762863   388288\n",
      "1             462   762863   556804\n",
      "2             463   762863   539820\n",
      "3             464   762863   369332\n",
      "4             465   762863   384847\n",
      "...           ...      ...      ...\n",
      "29563      476878   791728    97526\n",
      "29564      476879   791728   594258\n",
      "29565      476880   791728   278513\n",
      "29566      476881   791728   525766\n",
      "29567      476882   791728   544937\n",
      "\n",
      "[29568 rows x 3 columns]\n"
     ]
    }
   ],
   "source": [
    "sys.path.append('./')\n",
    "configPath = 'config'\n",
    "dataPath = 'ymusic_gte90_6kusers.tsv'\n",
    "\n",
    "\n",
    "Data = []\n",
    "data = pd.read_csv(\"ymusic_sample5_4.csv\")\n",
    "print(data)\n",
    "Data = data.values.tolist()"
   ]
  },
  {
   "cell_type": "code",
   "execution_count": 9,
   "metadata": {},
   "outputs": [
    {
     "name": "stdout",
     "output_type": "stream",
     "text": [
      "start time 2022-09-20 18:40:19.019472\n",
      "npmean(resuls[Recall@20]) 0.08695652173913043\n",
      "end time 2022-09-20 18:42:00.526369\n",
      "run time 0:01:41.506897\n",
      "\n",
      "get tuple 2.327435589455939e-06\n",
      "recommend 0.16248071472780362\n",
      "eval_point 1.6691692696765914e-05\n",
      "update 0.0017847255743169165\n"
     ]
    }
   ],
   "source": [
    "Data_Transpose = np.transpose(Data)\n",
    "stream = ImplicitData(Data_Transpose[1],Data_Transpose[2])\n",
    "\n",
    "num_factors = 200\n",
    "num_iterations = 9\n",
    "learn_rate = 0.25\n",
    "u_regularization = 0.45\n",
    "i_regularization = 0.45\n",
    "random_seed = 10\n",
    "num_nodes = 8\n",
    "\n",
    "model = UBISGD(ImplicitData([],[]),num_factors, num_iterations,num_nodes,learn_rate,u_regularization,i_regularization,random_seed)\n",
    "\n",
    "\n",
    "eval = EvalPrequential(model,stream, metrics = [\"Recall@20\"])\n",
    "start_recommend = datetime.now()\n",
    "print('start time', start_recommend)\n",
    "\n",
    "results=eval.EvaluateTime(0,stream.size, 100)\n",
    "\n",
    "print('npmean(resuls[Recall@20])', np.mean(results['Recall@20']))\n",
    "end_recommend = datetime.now()\n",
    "print('end time', end_recommend)\n",
    "\n",
    "tempo = end_recommend - start_recommend\n",
    "\n",
    "print('run time', tempo)\n",
    "print('')\n",
    "print('get tuple',np.mean(results['time_get_tuple']))\n",
    "print('recommend',np.mean(results['time_recommend']))\n",
    "print('eval_point',np.mean(results['time_eval_point']))\n",
    "print('update',np.mean(results['time_update']))"
   ]
  },
  {
   "cell_type": "markdown",
   "metadata": {},
   "source": [
    "### ymusic_sample5_5"
   ]
  },
  {
   "cell_type": "code",
   "execution_count": 10,
   "metadata": {},
   "outputs": [
    {
     "name": "stdout",
     "output_type": "stream",
     "text": [
      "       Unnamed: 0  user_id  item_id\n",
      "0            1080   540444   196323\n",
      "1            1081   540444   504528\n",
      "2            1082   540444   314333\n",
      "3            1083   540444   258823\n",
      "4            1446   540444   196852\n",
      "...           ...      ...      ...\n",
      "27883      476395   214741   436267\n",
      "27884      476481   214741    80180\n",
      "27885      476482   214741    22329\n",
      "27886      476483   214741   137608\n",
      "27887      476485   214741   551893\n",
      "\n",
      "[27888 rows x 3 columns]\n"
     ]
    }
   ],
   "source": [
    "sys.path.append('./')\n",
    "configPath = 'config'\n",
    "dataPath = 'ymusic_gte90_6kusers.tsv'\n",
    "\n",
    "\n",
    "Data = []\n",
    "data = pd.read_csv(\"ymusic_sample5_5.csv\")\n",
    "print(data)\n",
    "Data = data.values.tolist()"
   ]
  },
  {
   "cell_type": "code",
   "execution_count": 11,
   "metadata": {},
   "outputs": [
    {
     "name": "stdout",
     "output_type": "stream",
     "text": [
      "start time 2022-09-20 18:42:00.955069\n",
      "npmean(resuls[Recall@20]) 0.10227272727272728\n",
      "end time 2022-09-20 18:43:45.829275\n",
      "run time 0:01:44.874206\n",
      "\n",
      "get tuple 2.546807643126566e-06\n",
      "recommend 0.20491088791327042\n",
      "eval_point 2.3808443185054895e-05\n",
      "update 0.0018150308781222783\n"
     ]
    }
   ],
   "source": [
    "Data_Transpose = np.transpose(Data)\n",
    "stream = ImplicitData(Data_Transpose[1],Data_Transpose[2])\n",
    "\n",
    "num_factors = 200\n",
    "num_iterations = 9\n",
    "learn_rate = 0.25\n",
    "u_regularization = 0.45\n",
    "i_regularization = 0.45\n",
    "random_seed = 10\n",
    "num_nodes = 8\n",
    "\n",
    "model = UBISGD(ImplicitData([],[]),num_factors, num_iterations,num_nodes,learn_rate,u_regularization,i_regularization,random_seed)\n",
    "\n",
    "\n",
    "eval = EvalPrequential(model,stream, metrics = [\"Recall@20\"])\n",
    "start_recommend = datetime.now()\n",
    "print('start time', start_recommend)\n",
    "\n",
    "results=eval.EvaluateTime(0,stream.size, 100)\n",
    "\n",
    "print('npmean(resuls[Recall@20])', np.mean(results['Recall@20']))\n",
    "end_recommend = datetime.now()\n",
    "print('end time', end_recommend)\n",
    "\n",
    "tempo = end_recommend - start_recommend\n",
    "\n",
    "print('run time', tempo)\n",
    "print('')\n",
    "print('get tuple',np.mean(results['time_get_tuple']))\n",
    "print('recommend',np.mean(results['time_recommend']))\n",
    "print('eval_point',np.mean(results['time_eval_point']))\n",
    "print('update',np.mean(results['time_update']))"
   ]
  },
  {
   "cell_type": "code",
   "execution_count": null,
   "metadata": {},
   "outputs": [],
   "source": []
  }
 ],
 "metadata": {
  "kernelspec": {
   "display_name": "myenv",
   "language": "python",
   "name": "myenv"
  },
  "language_info": {
   "codemirror_mode": {
    "name": "ipython",
    "version": 3
   },
   "file_extension": ".py",
   "mimetype": "text/x-python",
   "name": "python",
   "nbconvert_exporter": "python",
   "pygments_lexer": "ipython3",
   "version": "3.9.5"
  }
 },
 "nbformat": 4,
 "nbformat_minor": 4
}
