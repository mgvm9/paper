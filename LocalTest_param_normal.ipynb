{
 "cells": [
  {
   "cell_type": "markdown",
   "metadata": {},
   "source": [
    "# LocalUISGD Test\n"
   ]
  },
  {
   "cell_type": "code",
   "execution_count": 19,
   "metadata": {},
   "outputs": [
    {
     "name": "stdout",
     "output_type": "stream",
     "text": [
      "plz\n"
     ]
    }
   ],
   "source": [
    "#imports\n",
    "import numpy as np \n",
    "import csv\n",
    "import re\n",
    "import sys\n",
    "import math\n",
    "import matplotlib.pyplot as plt\n",
    "from numpy import linalg as LA\n",
    "import random\n",
    "from sklearn.preprocessing import normalize\n",
    "from numba import njit\n",
    "from collections import defaultdict\n",
    "import random\n",
    "from data import ImplicitData\n",
    "import numpy as np\n",
    "from BISGD import BISGD\n",
    "from LocalUBISGD_normal import LocalUBISGD_normal\n",
    "from LocalUBISGD_normal_03 import LocalUBISGD_normal_03\n",
    "from LocalUBISGD_normal_05 import LocalUBISGD_normal_05\n",
    "from LocalUBISGD_normal_08 import LocalUBISGD_normal_08\n",
    "from collections import defaultdict\n",
    "from eval_implicit import EvalPrequential\n",
    "from datetime import datetime\n",
    "import getopt\n",
    "import pandas as pd\n",
    "print(\"plz\")\n"
   ]
  },
  {
   "cell_type": "markdown",
   "metadata": {},
   "source": [
    "## Functions\n"
   ]
  },
  {
   "cell_type": "code",
   "execution_count": 5,
   "metadata": {},
   "outputs": [],
   "source": [
    "def sigmoid(x):\n",
    "  return 1 / (1 + math.exp(-x))\n",
    "\n",
    "def sumvector(V,x):\n",
    "    result = []\n",
    "    for v in V:\n",
    "        temp = v + x\n",
    "        result.append(temp)\n",
    "    return result    \n",
    "\n",
    "def multvector(x,V):\n",
    "    result = []\n",
    "    for v in V:\n",
    "        temp = v * x\n",
    "        result.append(temp)\n",
    "    return result    \n",
    "\n",
    "def TransformVec(V):\n",
    "  \n",
    "    #new = normalize(V[:,np.newaxis], axis=0).ravel()\n",
    "    for i in range(len(V)):\n",
    "        V[i] = sigmoid(V[i])\n",
    "    D = LA.norm(V)\n",
    "    D=1/D\n",
    "    new = D * V\n",
    "  \n",
    "\n",
    "    return new\n"
   ]
  },
  {
   "cell_type": "markdown",
   "metadata": {},
   "source": [
    "## Get the data"
   ]
  },
  {
   "cell_type": "code",
   "execution_count": null,
   "metadata": {},
   "outputs": [],
   "source": [
    "sys.path.append('./')\n",
    "configPath = 'config'\n",
    "dataPath = 'ppf2.csv'\n",
    "\n",
    "Data = []\n",
    "with open(dataPath, 'r') as f:\n",
    "    reader = csv.reader(f)\n",
    "    for row in reader:\n",
    "        Data.append([float(row[0]),float(row[1])])"
   ]
  },
  {
   "cell_type": "markdown",
   "metadata": {},
   "source": [
    "## Iterations"
   ]
  },
  {
   "cell_type": "code",
   "execution_count": null,
   "metadata": {},
   "outputs": [
    {
     "name": "stdout",
     "output_type": "stream",
     "text": [
      "iter\n",
      "5\n",
      "start time 2022-06-29 22:17:50.948318\n"
     ]
    }
   ],
   "source": [
    "Data_Transpose = np.transpose(Data)\n",
    "stream = ImplicitData(Data_Transpose[0],Data_Transpose[1])\n",
    "\n",
    "iterations = [5,10,15,20,25,30]\n",
    "\n",
    "for i in iterations:\n",
    "    print(\"iter\")\n",
    "    print(i)\n",
    "    num_clusters = 8\n",
    "    cl_num_iterations = i\n",
    "    cl_learn_rate = 0.1\n",
    "    cl_regularization = 0.1\n",
    "    num_factors = 160\n",
    "    num_iter = 8\n",
    "    learn_rate = 0.1\n",
    "    regularization = 0.4\n",
    "    model = LocalUBISGD_normal(ImplicitData([],[]), num_clusters, cl_num_iterations, cl_learn_rate, cl_regularization, \n",
    "        num_factors, num_iter, learn_rate, regularization, random_seed = 10)\n",
    "    eval = EvalPrequential(model,stream, metrics = [\"Recall@20\"])\n",
    "    start_recommend = datetime.now()\n",
    "    print('start time', start_recommend)\n",
    "\n",
    "    results=eval.EvaluateTime(0,stream.size, 10)\n",
    "\n",
    "    print('npmean(resuls[Recall@20])', np.mean(results['Recall@20']))\n",
    "    end_recommend = datetime.now()\n",
    "    print('end time', end_recommend)\n",
    "\n",
    "    tempo = end_recommend - start_recommend\n",
    "\n",
    "    print('run time', tempo)\n",
    "    print('')\n",
    "    print('get tuple',np.mean(results['time_get_tuple']))\n",
    "    print('recommend',np.mean(results['time_recommend']))\n",
    "    print('eval_point',np.mean(results['time_eval_point']))\n",
    "    print('update',np.mean(results['time_update']))    \n"
   ]
  },
  {
   "cell_type": "markdown",
   "metadata": {},
   "source": [
    "## Eta"
   ]
  },
  {
   "cell_type": "code",
   "execution_count": null,
   "metadata": {},
   "outputs": [],
   "source": [
    "Data_Transpose = np.transpose(Data)\n",
    "stream = ImplicitData(Data_Transpose[0],Data_Transpose[1])\n",
    "\n",
    "\n",
    "etas = [0.0001, 0.001, 0.01, 0.1]\n",
    "\n",
    "for e in etas:\n",
    "    print(\"eta\")\n",
    "    print(e)\n",
    "    num_clusters = 8\n",
    "    cl_num_iterations = 30\n",
    "    cl_learn_rate = e\n",
    "    cl_regularization = 0.1\n",
    "    num_factors = 160\n",
    "    num_iter = 8\n",
    "    learn_rate = 0.1\n",
    "    regularization = 0.4\n",
    "    model = LocalUBISGD_normal(ImplicitData([],[]), num_clusters, cl_num_iterations, cl_learn_rate, cl_regularization, \n",
    "        num_factors, num_iter, learn_rate, regularization, random_seed = 10)\n",
    "    eval = EvalPrequential(model,stream, metrics = [\"Recall@20\"])\n",
    "    start_recommend = datetime.now()\n",
    "    print('start time', start_recommend)\n",
    "\n",
    "    results=eval.EvaluateTime(0,stream.size, 10)\n",
    "\n",
    "    print('npmean(resuls[Recall@20])', np.mean(results['Recall@20']))\n",
    "    end_recommend = datetime.now()\n",
    "    print('end time', end_recommend)\n",
    "\n",
    "    tempo = end_recommend - start_recommend\n",
    "\n",
    "    print('run time', tempo)\n",
    "    print('')\n",
    "    print('get tuple',np.mean(results['time_get_tuple']))\n",
    "    print('recommend',np.mean(results['time_recommend']))\n",
    "    print('eval_point',np.mean(results['time_eval_point']))\n",
    "    print('update',np.mean(results['time_update'])) "
   ]
  },
  {
   "cell_type": "markdown",
   "metadata": {},
   "source": [
    "## Lambda"
   ]
  },
  {
   "cell_type": "code",
   "execution_count": null,
   "metadata": {},
   "outputs": [
    {
     "name": "stdout",
     "output_type": "stream",
     "text": [
      "npmean(resuls[Recall@20]) 0.2090405574414865\n",
      "end time 2022-06-30 10:27:57.111068\n",
      "run time 0:50:32.241611\n",
      "\n",
      "get tuple 3.795880126871339e-06\n",
      "recommend 0.24216366591614572\n",
      "eval_point 1.568497771426186e-05\n",
      "update 0.0028598698835162837\n",
      "lambda\n",
      "0.1\n",
      "start time 2022-06-30 10:27:57.480872\n"
     ]
    }
   ],
   "source": [
    "Data_Transpose = np.transpose(Data)\n",
    "stream = ImplicitData(Data_Transpose[0],Data_Transpose[1])\n",
    "\n",
    "lambdas = [0,0.0001, 0.001, 0.01, 0.1]   \n",
    "\n",
    "for l in lambdas:\n",
    "    print(\"lambda\")\n",
    "    print(l)\n",
    "    num_clusters = 8\n",
    "    cl_num_iterations = 30\n",
    "    cl_learn_rate = 0.01\n",
    "    cl_regularization = l\n",
    "    num_factors = 160\n",
    "    num_iter = 8\n",
    "    learn_rate = 0.1\n",
    "    regularization = 0.4\n",
    "    model = LocalUBISGD_normal(ImplicitData([],[]), num_clusters, cl_num_iterations, cl_learn_rate, cl_regularization, \n",
    "        num_factors, num_iter, learn_rate, regularization, random_seed = 10)\n",
    "    eval = EvalPrequential(model,stream, metrics = [\"Recall@20\"])\n",
    "    start_recommend = datetime.now()\n",
    "    print('start time', start_recommend)\n",
    "\n",
    "    results=eval.EvaluateTime(0,stream.size, 10)\n",
    "\n",
    "    print('npmean(resuls[Recall@20])', np.mean(results['Recall@20']))\n",
    "    end_recommend = datetime.now()\n",
    "    print('end time', end_recommend)\n",
    "\n",
    "    tempo = end_recommend - start_recommend\n",
    "\n",
    "    print('run time', tempo)\n",
    "    print('')\n",
    "    print('get tuple',np.mean(results['time_get_tuple']))\n",
    "    print('recommend',np.mean(results['time_recommend']))\n",
    "    print('eval_point',np.mean(results['time_eval_point']))\n",
    "    print('update',np.mean(results['time_update'])) "
   ]
  },
  {
   "cell_type": "code",
   "execution_count": null,
   "metadata": {},
   "outputs": [],
   "source": []
  },
  {
   "cell_type": "markdown",
   "metadata": {},
   "source": [
    "# With variance in the number of models"
   ]
  },
  {
   "cell_type": "code",
   "execution_count": null,
   "metadata": {},
   "outputs": [],
   "source": [
    "Data_Transpose = np.transpose(Data)\n",
    "stream = ImplicitData(Data_Transpose[0],Data_Transpose[1])\n",
    "\n",
    "models = [5,10,15,20,25,30]   \n",
    "\n",
    "for m in models:\n",
    "    print(\"model\")\n",
    "    print(m)\n",
    "    num_clusters = m\n",
    "    cl_num_iterations = 30\n",
    "    cl_learn_rate = 0.01\n",
    "    cl_regularization = 0\n",
    "    num_factors = 160\n",
    "    num_iter = 8\n",
    "    learn_rate = 0.1\n",
    "    regularization = 0.4\n",
    "    model = LocalUBISGD_normal(ImplicitData([],[]), num_clusters, cl_num_iterations, cl_learn_rate, cl_regularization, \n",
    "        num_factors, num_iter, learn_rate, regularization, random_seed = 10)\n",
    "    eval = EvalPrequential(model,stream, metrics = [\"Recall@20\"])\n",
    "    start_recommend = datetime.now()\n",
    "    print('start time', start_recommend)\n",
    "\n",
    "    results=eval.EvaluateTime(0,stream.size, 10)\n",
    "\n",
    "    print('npmean(resuls[Recall@20])', np.mean(results['Recall@20']))\n",
    "    end_recommend = datetime.now()\n",
    "    print('end time', end_recommend)\n",
    "\n",
    "    tempo = end_recommend - start_recommend\n",
    "\n",
    "    print('run time', tempo)\n",
    "    print('')\n",
    "    print('get tuple',np.mean(results['time_get_tuple']))\n",
    "    print('recommend',np.mean(results['time_recommend']))\n",
    "    print('eval_point',np.mean(results['time_eval_point']))\n",
    "    print('update',np.mean(results['time_update'])) "
   ]
  },
  {
   "cell_type": "markdown",
   "metadata": {},
   "source": [
    "# Optimal param for BISGD"
   ]
  },
  {
   "cell_type": "markdown",
   "metadata": {},
   "source": [
    "## Iterations"
   ]
  },
  {
   "cell_type": "code",
   "execution_count": null,
   "metadata": {},
   "outputs": [],
   "source": [
    "Data_Transpose = np.transpose(Data)\n",
    "stream = ImplicitData(Data_Transpose[0],Data_Transpose[1])\n",
    "\n",
    "iterations = [5,10,15,20,25,30]\n",
    "\n",
    "for i in iterations:\n",
    "    print(\"iter\")\n",
    "    print(i)\n",
    "    num_clusters = 8\n",
    "    cl_num_iterations = i\n",
    "    cl_learn_rate = 0.1\n",
    "    cl_regularization = 0.1\n",
    "    num_factors = 90\n",
    "    num_iter = 8\n",
    "    learn_rate = 0.3\n",
    "    regularization = 0.4\n",
    "    model = LocalUBISGD_normal(ImplicitData([],[]), num_clusters, cl_num_iterations, cl_learn_rate, cl_regularization, \n",
    "        num_factors, num_iter, learn_rate, regularization, random_seed = 10)\n",
    "    eval = EvalPrequential(model,stream, metrics = [\"Recall@20\"])\n",
    "    start_recommend = datetime.now()\n",
    "    print('start time', start_recommend)\n",
    "\n",
    "    results=eval.EvaluateTime(0,stream.size, 10)\n",
    "\n",
    "    print('npmean(resuls[Recall@20])', np.mean(results['Recall@20']))\n",
    "    end_recommend = datetime.now()\n",
    "    print('end time', end_recommend)\n",
    "\n",
    "    tempo = end_recommend - start_recommend\n",
    "\n",
    "    print('run time', tempo)\n",
    "    print('')\n",
    "    print('get tuple',np.mean(results['time_get_tuple']))\n",
    "    print('recommend',np.mean(results['time_recommend']))\n",
    "    print('eval_point',np.mean(results['time_eval_point']))\n",
    "    print('update',np.mean(results['time_update']))    \n"
   ]
  },
  {
   "cell_type": "markdown",
   "metadata": {},
   "source": [
    "## Eta"
   ]
  },
  {
   "cell_type": "code",
   "execution_count": null,
   "metadata": {},
   "outputs": [],
   "source": [
    "Data_Transpose = np.transpose(Data)\n",
    "stream = ImplicitData(Data_Transpose[0],Data_Transpose[1])\n",
    "\n",
    "\n",
    "etas = [0.0001, 0.001, 0.01, 0.1]\n",
    "\n",
    "for e in etas:\n",
    "    print(\"eta\")\n",
    "    print(e)\n",
    "    num_clusters = 8\n",
    "    cl_num_iterations = 15\n",
    "    cl_learn_rate = e\n",
    "    cl_regularization = 0.1\n",
    "    num_factors = 90\n",
    "    num_iter = 8\n",
    "    learn_rate = 0.3\n",
    "    regularization = 0.4\n",
    "    model = LocalUBISGD_normal(ImplicitData([],[]), num_clusters, cl_num_iterations, cl_learn_rate, cl_regularization, \n",
    "        num_factors, num_iter, learn_rate, regularization, random_seed = 10)\n",
    "    eval = EvalPrequential(model,stream, metrics = [\"Recall@20\"])\n",
    "    start_recommend = datetime.now()\n",
    "    print('start time', start_recommend)\n",
    "\n",
    "    results=eval.EvaluateTime(0,stream.size, 10)\n",
    "\n",
    "    print('npmean(resuls[Recall@20])', np.mean(results['Recall@20']))\n",
    "    end_recommend = datetime.now()\n",
    "    print('end time', end_recommend)\n",
    "\n",
    "    tempo = end_recommend - start_recommend\n",
    "\n",
    "    print('run time', tempo)\n",
    "    print('')\n",
    "    print('get tuple',np.mean(results['time_get_tuple']))\n",
    "    print('recommend',np.mean(results['time_recommend']))\n",
    "    print('eval_point',np.mean(results['time_eval_point']))\n",
    "    print('update',np.mean(results['time_update'])) "
   ]
  },
  {
   "cell_type": "markdown",
   "metadata": {},
   "source": [
    "## Lambda"
   ]
  },
  {
   "cell_type": "code",
   "execution_count": null,
   "metadata": {},
   "outputs": [],
   "source": [
    "Data_Transpose = np.transpose(Data)\n",
    "stream = ImplicitData(Data_Transpose[0],Data_Transpose[1])\n",
    "\n",
    "lambdas = [0,0.0001, 0.001, 0.01, 0.1]   \n",
    "\n",
    "for l in lambdas:\n",
    "    print(\"lambda\")\n",
    "    print(l)\n",
    "    num_clusters = 8\n",
    "    cl_num_iterations = 15\n",
    "    cl_learn_rate = 0.01\n",
    "    cl_regularization = l\n",
    "    num_factors = 90\n",
    "    num_iter = 8\n",
    "    learn_rate = 0.3\n",
    "    regularization = 0.4\n",
    "    model = LocalUBISGD_normal(ImplicitData([],[]), num_clusters, cl_num_iterations, cl_learn_rate, cl_regularization, \n",
    "        num_factors, num_iter, learn_rate, regularization, random_seed = 10)\n",
    "    eval = EvalPrequential(model,stream, metrics = [\"Recall@20\"])\n",
    "    start_recommend = datetime.now()\n",
    "    print('start time', start_recommend)\n",
    "\n",
    "    results=eval.EvaluateTime(0,stream.size, 10)\n",
    "\n",
    "    print('npmean(resuls[Recall@20])', np.mean(results['Recall@20']))\n",
    "    end_recommend = datetime.now()\n",
    "    print('end time', end_recommend)\n",
    "\n",
    "    tempo = end_recommend - start_recommend\n",
    "\n",
    "    print('run time', tempo)\n",
    "    print('')\n",
    "    print('get tuple',np.mean(results['time_get_tuple']))\n",
    "    print('recommend',np.mean(results['time_recommend']))\n",
    "    print('eval_point',np.mean(results['time_eval_point']))\n",
    "    print('update',np.mean(results['time_update'])) "
   ]
  },
  {
   "cell_type": "markdown",
   "metadata": {},
   "source": [
    "# With variance in the number of models"
   ]
  },
  {
   "cell_type": "code",
   "execution_count": null,
   "metadata": {},
   "outputs": [],
   "source": [
    "Data_Transpose = np.transpose(Data)\n",
    "stream = ImplicitData(Data_Transpose[0],Data_Transpose[1])\n",
    "\n",
    "models = [5,10,15,20,25,30]   \n",
    "\n",
    "for m in models:\n",
    "    print(\"model\")\n",
    "    print(m)\n",
    "    num_clusters = m\n",
    "    cl_num_iterations = 15\n",
    "    cl_learn_rate = 0.01\n",
    "    cl_regularization = 0.001\n",
    "    num_factors = 90\n",
    "    num_iter = 8\n",
    "    learn_rate = 0.3\n",
    "    regularization = 0.4\n",
    "    model = LocalUBISGD_normal(ImplicitData([],[]), num_clusters, cl_num_iterations, cl_learn_rate, cl_regularization, \n",
    "        num_factors, num_iter, learn_rate, regularization, random_seed = 10)\n",
    "    eval = EvalPrequential(model,stream, metrics = [\"Recall@20\"])\n",
    "    start_recommend = datetime.now()\n",
    "    print('start time', start_recommend)\n",
    "\n",
    "    results=eval.EvaluateTime(0,stream.size, 10)\n",
    "\n",
    "    print('npmean(resuls[Recall@20])', np.mean(results['Recall@20']))\n",
    "    end_recommend = datetime.now()\n",
    "    print('end time', end_recommend)\n",
    "\n",
    "    tempo = end_recommend - start_recommend\n",
    "\n",
    "    print('run time', tempo)\n",
    "    print('')\n",
    "    print('get tuple',np.mean(results['time_get_tuple']))\n",
    "    print('recommend',np.mean(results['time_recommend']))\n",
    "    print('eval_point',np.mean(results['time_eval_point']))\n",
    "    print('update',np.mean(results['time_update'])) "
   ]
  },
  {
   "cell_type": "code",
   "execution_count": null,
   "metadata": {},
   "outputs": [],
   "source": []
  },
  {
   "cell_type": "markdown",
   "metadata": {},
   "source": [
    "# Variation in overlap_factor"
   ]
  },
  {
   "cell_type": "markdown",
   "metadata": {},
   "source": [
    "## 0.333333"
   ]
  },
  {
   "cell_type": "code",
   "execution_count": null,
   "metadata": {},
   "outputs": [],
   "source": [
    "Data_Transpose = np.transpose(Data)\n",
    "stream = ImplicitData(Data_Transpose[0],Data_Transpose[1])\n",
    "\n",
    "\n",
    "\n",
    "num_clusters = 8\n",
    "cl_num_iterations = 30\n",
    "cl_learn_rate =0.01\n",
    "cl_regularization = 0\n",
    "num_factors = 90\n",
    "num_iter = 8\n",
    "learn_rate = 0.3\n",
    "regularization = 0.4\n",
    "model = LocalUBISGD_normal_03(ImplicitData([],[]), num_clusters, cl_num_iterations, cl_learn_rate, cl_regularization, \n",
    "    num_factors, num_iter, learn_rate, regularization, random_seed = 10)\n",
    "eval = EvalPrequential(model,stream, metrics = [\"Recall@20\"])\n",
    "start_recommend = datetime.now()\n",
    "print('start time', start_recommend)\n",
    "\n",
    "results=eval.EvaluateTime(0,stream.size, 10)\n",
    "\n",
    "print('npmean(resuls[Recall@20])', np.mean(results['Recall@20']))\n",
    "end_recommend = datetime.now()\n",
    "print('end time', end_recommend)\n",
    "\n",
    "tempo = end_recommend - start_recommend\n",
    "\n",
    "print('run time', tempo)\n",
    "print('')\n",
    "print('get tuple',np.mean(results['time_get_tuple']))\n",
    "print('recommend',np.mean(results['time_recommend']))\n",
    "print('eval_point',np.mean(results['time_eval_point']))\n",
    "print('update',np.mean(results['time_update'])) "
   ]
  },
  {
   "cell_type": "markdown",
   "metadata": {},
   "source": [
    "## 0.5"
   ]
  },
  {
   "cell_type": "code",
   "execution_count": null,
   "metadata": {},
   "outputs": [],
   "source": [
    "Data_Transpose = np.transpose(Data)\n",
    "stream = ImplicitData(Data_Transpose[0],Data_Transpose[1])\n",
    "\n",
    "\n",
    "\n",
    "num_clusters = 8\n",
    "cl_num_iterations = 30\n",
    "cl_learn_rate =0.01\n",
    "cl_regularization = 0\n",
    "num_factors = 90\n",
    "num_iter = 8\n",
    "learn_rate = 0.3\n",
    "regularization = 0.4\n",
    "model = LocalUBISGD_normal_05(ImplicitData([],[]), num_clusters, cl_num_iterations, cl_learn_rate, cl_regularization, \n",
    "    num_factors, num_iter, learn_rate, regularization, random_seed = 10)\n",
    "eval = EvalPrequential(model,stream, metrics = [\"Recall@20\"])\n",
    "start_recommend = datetime.now()\n",
    "print('start time', start_recommend)\n",
    "\n",
    "results=eval.EvaluateTime(0,stream.size, 10)\n",
    "\n",
    "print('npmean(resuls[Recall@20])', np.mean(results['Recall@20']))\n",
    "end_recommend = datetime.now()\n",
    "print('end time', end_recommend)\n",
    "\n",
    "tempo = end_recommend - start_recommend\n",
    "\n",
    "print('run time', tempo)\n",
    "print('')\n",
    "print('get tuple',np.mean(results['time_get_tuple']))\n",
    "print('recommend',np.mean(results['time_recommend']))\n",
    "print('eval_point',np.mean(results['time_eval_point']))\n",
    "print('update',np.mean(results['time_update'])) "
   ]
  },
  {
   "cell_type": "markdown",
   "metadata": {},
   "source": [
    "## 0.8"
   ]
  },
  {
   "cell_type": "code",
   "execution_count": null,
   "metadata": {},
   "outputs": [],
   "source": [
    "Data_Transpose = np.transpose(Data)\n",
    "stream = ImplicitData(Data_Transpose[0],Data_Transpose[1])\n",
    "\n",
    "\n",
    "\n",
    "num_clusters = 8\n",
    "cl_num_iterations = 30\n",
    "cl_learn_rate =0.01\n",
    "cl_regularization = 0\n",
    "num_factors = 90\n",
    "num_iter = 8\n",
    "learn_rate = 0.3\n",
    "regularization = 0.4\n",
    "model = LocalUBISGD_normal_08(ImplicitData([],[]), num_clusters, cl_num_iterations, cl_learn_rate, cl_regularization, \n",
    "    num_factors, num_iter, learn_rate, regularization, random_seed = 10)\n",
    "eval = EvalPrequential(model,stream, metrics = [\"Recall@20\"])\n",
    "start_recommend = datetime.now()\n",
    "print('start time', start_recommend)\n",
    "\n",
    "results=eval.EvaluateTime(0,stream.size, 10)\n",
    "\n",
    "print('npmean(resuls[Recall@20])', np.mean(results['Recall@20']))\n",
    "end_recommend = datetime.now()\n",
    "print('end time', end_recommend)\n",
    "\n",
    "tempo = end_recommend - start_recommend\n",
    "\n",
    "print('run time', tempo)\n",
    "print('')\n",
    "print('get tuple',np.mean(results['time_get_tuple']))\n",
    "print('recommend',np.mean(results['time_recommend']))\n",
    "print('eval_point',np.mean(results['time_eval_point']))\n",
    "print('update',np.mean(results['time_update'])) "
   ]
  },
  {
   "cell_type": "markdown",
   "metadata": {},
   "source": [
    "### ppf2_sample5_1"
   ]
  },
  {
   "cell_type": "code",
   "execution_count": 20,
   "metadata": {},
   "outputs": [
    {
     "name": "stdout",
     "output_type": "stream",
     "text": [
      "      Unnamed: 0     V1      V2\n",
      "0             56    472   15116\n",
      "1             57    472    4109\n",
      "2             58    472    1697\n",
      "3             59    472    6271\n",
      "4            240    472   19237\n",
      "...          ...    ...     ...\n",
      "5889      111401  77607  107867\n",
      "5890      111402  77607  103739\n",
      "5891      111403  77607  103741\n",
      "5892      111451  68410  103205\n",
      "5893      111942  88921  104352\n",
      "\n",
      "[5894 rows x 3 columns]\n"
     ]
    }
   ],
   "source": [
    "sys.path.append('./')\n",
    "configPath = 'config'\n",
    "dataPath = 'ppf2_sample5_1.csv'\n",
    "\n",
    "Data = []\n",
    "data = pd.read_csv(\"ppf2_sample5_1.csv\")\n",
    "print(data)\n",
    "Data = data.values.tolist()\n",
    "\n",
    "Data = Data[1:]"
   ]
  },
  {
   "cell_type": "code",
   "execution_count": 21,
   "metadata": {},
   "outputs": [
    {
     "name": "stdout",
     "output_type": "stream",
     "text": [
      "start time 2022-09-20 20:46:55.820688\n",
      "npmean(resuls[Recall@20]) 0.0632279534109817\n",
      "end time 2022-09-20 20:47:25.233458\n",
      "run time 0:00:29.412770\n",
      "\n",
      "get tuple 2.7092247973794385e-06\n",
      "recommend 0.02691382536673903\n",
      "eval_point 1.6944380647529182e-05\n",
      "update 0.0022382744702219904\n"
     ]
    }
   ],
   "source": [
    "Data_Transpose = np.transpose(Data)\n",
    "stream = ImplicitData(Data_Transpose[1],Data_Transpose[2])\n",
    "\n",
    "\n",
    "\n",
    "num_clusters = 8\n",
    "cl_num_iterations = 30\n",
    "cl_learn_rate =0.01\n",
    "cl_regularization = 0\n",
    "num_factors = 90\n",
    "num_iter = 8\n",
    "learn_rate = 0.3\n",
    "regularization = 0.4\n",
    "model = LocalUBISGD_normal_03(ImplicitData([],[]), num_clusters, cl_num_iterations, cl_learn_rate, cl_regularization, \n",
    "    num_factors, num_iter, learn_rate, regularization, random_seed = 100)\n",
    "eval = EvalPrequential(model,stream, metrics = [\"Recall@20\"])\n",
    "start_recommend = datetime.now()\n",
    "print('start time', start_recommend)\n",
    "\n",
    "results=eval.EvaluateTime(0,stream.size, 10)\n",
    "\n",
    "print('npmean(resuls[Recall@20])', np.mean(results['Recall@20']))\n",
    "end_recommend = datetime.now()\n",
    "print('end time', end_recommend)\n",
    "\n",
    "tempo = end_recommend - start_recommend\n",
    "\n",
    "print('run time', tempo)\n",
    "print('')\n",
    "print('get tuple',np.mean(results['time_get_tuple']))\n",
    "print('recommend',np.mean(results['time_recommend']))\n",
    "print('eval_point',np.mean(results['time_eval_point']))\n",
    "print('update',np.mean(results['time_update'])) "
   ]
  },
  {
   "cell_type": "markdown",
   "metadata": {},
   "source": [
    "### ppf2_sample5_2"
   ]
  },
  {
   "cell_type": "code",
   "execution_count": 22,
   "metadata": {},
   "outputs": [
    {
     "name": "stdout",
     "output_type": "stream",
     "text": [
      "      Unnamed: 0     V1      V2\n",
      "0              3   8426   21676\n",
      "1              4   8426   21416\n",
      "2              8   8446    1980\n",
      "3              9   8446    1983\n",
      "4             10   8446   20747\n",
      "...          ...    ...     ...\n",
      "5268      110931  80093  124395\n",
      "5269      111436  88465   65893\n",
      "5270      111640  66305  124259\n",
      "5271      111786  88061  111043\n",
      "5272      111793  88790   66663\n",
      "\n",
      "[5273 rows x 3 columns]\n"
     ]
    }
   ],
   "source": [
    "sys.path.append('./')\n",
    "configPath = 'config'\n",
    "dataPath = 'ppf2_sample5_1.csv'\n",
    "\n",
    "Data = []\n",
    "data = pd.read_csv(\"ppf2_sample5_2.csv\")\n",
    "print(data)\n",
    "Data = data.values.tolist()\n",
    "\n",
    "Data = Data[1:]"
   ]
  },
  {
   "cell_type": "code",
   "execution_count": 23,
   "metadata": {},
   "outputs": [
    {
     "name": "stdout",
     "output_type": "stream",
     "text": [
      "start time 2022-09-20 20:47:25.447506\n",
      "npmean(resuls[Recall@20]) 0.03896103896103896\n",
      "end time 2022-09-20 20:47:49.887314\n",
      "run time 0:00:24.439808\n",
      "\n",
      "get tuple 2.617358437800082e-06\n",
      "recommend 0.023826639815916158\n",
      "eval_point 1.598023749017096e-05\n",
      "update 0.002191963072792713\n"
     ]
    }
   ],
   "source": [
    "Data_Transpose = np.transpose(Data)\n",
    "stream = ImplicitData(Data_Transpose[1],Data_Transpose[2])\n",
    "\n",
    "\n",
    "\n",
    "num_clusters = 8\n",
    "cl_num_iterations = 30\n",
    "cl_learn_rate =0.01\n",
    "cl_regularization = 0\n",
    "num_factors = 90\n",
    "num_iter = 8\n",
    "learn_rate = 0.3\n",
    "regularization = 0.4\n",
    "model = LocalUBISGD_normal_03(ImplicitData([],[]), num_clusters, cl_num_iterations, cl_learn_rate, cl_regularization, \n",
    "    num_factors, num_iter, learn_rate, regularization, random_seed = 100)\n",
    "eval = EvalPrequential(model,stream, metrics = [\"Recall@20\"])\n",
    "start_recommend = datetime.now()\n",
    "print('start time', start_recommend)\n",
    "\n",
    "results=eval.EvaluateTime(0,stream.size, 10)\n",
    "\n",
    "print('npmean(resuls[Recall@20])', np.mean(results['Recall@20']))\n",
    "end_recommend = datetime.now()\n",
    "print('end time', end_recommend)\n",
    "\n",
    "tempo = end_recommend - start_recommend\n",
    "\n",
    "print('run time', tempo)\n",
    "print('')\n",
    "print('get tuple',np.mean(results['time_get_tuple']))\n",
    "print('recommend',np.mean(results['time_recommend']))\n",
    "print('eval_point',np.mean(results['time_eval_point']))\n",
    "print('update',np.mean(results['time_update'])) "
   ]
  },
  {
   "cell_type": "markdown",
   "metadata": {},
   "source": [
    "### ppf2_sample5_3"
   ]
  },
  {
   "cell_type": "code",
   "execution_count": 24,
   "metadata": {},
   "outputs": [
    {
     "name": "stdout",
     "output_type": "stream",
     "text": [
      "      Unnamed: 0     V1      V2\n",
      "0             21    385     322\n",
      "1            103    770   14147\n",
      "2            104    770    8876\n",
      "3            105    770   13597\n",
      "4            106    770    8404\n",
      "...          ...    ...     ...\n",
      "4995      110987  88064  124941\n",
      "4996      111311  62022  119481\n",
      "4997      111312  62022   98014\n",
      "4998      111313  77381   83225\n",
      "4999      111618  30920  124201\n",
      "\n",
      "[5000 rows x 3 columns]\n"
     ]
    }
   ],
   "source": [
    "sys.path.append('./')\n",
    "configPath = 'config'\n",
    "dataPath = 'ppf2_sample5_1.csv'\n",
    "\n",
    "Data = []\n",
    "data = pd.read_csv(\"ppf2_sample5_3.csv\")\n",
    "print(data)\n",
    "Data = data.values.tolist()\n",
    "\n",
    "Data = Data[1:]"
   ]
  },
  {
   "cell_type": "code",
   "execution_count": 25,
   "metadata": {},
   "outputs": [
    {
     "name": "stdout",
     "output_type": "stream",
     "text": [
      "start time 2022-09-20 20:47:50.283071\n",
      "npmean(resuls[Recall@20]) 0.064\n",
      "end time 2022-09-20 20:48:13.300714\n",
      "run time 0:00:23.017643\n",
      "\n",
      "get tuple 2.5479167336152778e-06\n",
      "recommend 0.024617178916931153\n",
      "eval_point 1.6171455383300782e-05\n",
      "update 0.002134571268120201\n"
     ]
    }
   ],
   "source": [
    "Data_Transpose = np.transpose(Data)\n",
    "stream = ImplicitData(Data_Transpose[1],Data_Transpose[2])\n",
    "\n",
    "\n",
    "\n",
    "num_clusters = 8\n",
    "cl_num_iterations = 30\n",
    "cl_learn_rate =0.01\n",
    "cl_regularization = 0\n",
    "num_factors = 90\n",
    "num_iter = 8\n",
    "learn_rate = 0.3\n",
    "regularization = 0.4\n",
    "model = LocalUBISGD_normal_03(ImplicitData([],[]), num_clusters, cl_num_iterations, cl_learn_rate, cl_regularization, \n",
    "    num_factors, num_iter, learn_rate, regularization, random_seed = 100)\n",
    "eval = EvalPrequential(model,stream, metrics = [\"Recall@20\"])\n",
    "start_recommend = datetime.now()\n",
    "print('start time', start_recommend)\n",
    "\n",
    "results=eval.EvaluateTime(0,stream.size, 10)\n",
    "\n",
    "print('npmean(resuls[Recall@20])', np.mean(results['Recall@20']))\n",
    "end_recommend = datetime.now()\n",
    "print('end time', end_recommend)\n",
    "\n",
    "tempo = end_recommend - start_recommend\n",
    "\n",
    "print('run time', tempo)\n",
    "print('')\n",
    "print('get tuple',np.mean(results['time_get_tuple']))\n",
    "print('recommend',np.mean(results['time_recommend']))\n",
    "print('eval_point',np.mean(results['time_eval_point']))\n",
    "print('update',np.mean(results['time_update'])) "
   ]
  },
  {
   "cell_type": "markdown",
   "metadata": {},
   "source": [
    "### ppf2_sample5_4"
   ]
  },
  {
   "cell_type": "code",
   "execution_count": 26,
   "metadata": {},
   "outputs": [
    {
     "name": "stdout",
     "output_type": "stream",
     "text": [
      "      Unnamed: 0     V1      V2\n",
      "0             19   8521   22806\n",
      "1             20   8521   22800\n",
      "2            125   8346   25979\n",
      "3            645    144   16642\n",
      "4            699   8626   25104\n",
      "...          ...    ...     ...\n",
      "4593      111660  88622  119213\n",
      "4594      111661  88622  119214\n",
      "4595      111763  88717    1475\n",
      "4596      111764  88717   19250\n",
      "4597      111776  74650  125991\n",
      "\n",
      "[4598 rows x 3 columns]\n"
     ]
    }
   ],
   "source": [
    "sys.path.append('./')\n",
    "configPath = 'config'\n",
    "dataPath = 'ppf2_sample5_1.csv'\n",
    "\n",
    "Data = []\n",
    "data = pd.read_csv(\"ppf2_sample5_4.csv\")\n",
    "print(data)\n",
    "Data = data.values.tolist()\n",
    "\n",
    "Data = Data[1:]"
   ]
  },
  {
   "cell_type": "code",
   "execution_count": 27,
   "metadata": {},
   "outputs": [
    {
     "name": "stdout",
     "output_type": "stream",
     "text": [
      "start time 2022-09-20 20:48:13.825972\n",
      "npmean(resuls[Recall@20]) 0.03456221198156682\n",
      "end time 2022-09-20 20:48:34.374964\n",
      "run time 0:00:20.548992\n",
      "\n",
      "get tuple 2.790124929285786e-06\n",
      "recommend 0.022720791777158113\n",
      "eval_point 1.654811718496859e-05\n",
      "update 0.002316733923118115\n"
     ]
    }
   ],
   "source": [
    "Data_Transpose = np.transpose(Data)\n",
    "stream = ImplicitData(Data_Transpose[1],Data_Transpose[2])\n",
    "\n",
    "\n",
    "\n",
    "num_clusters = 8\n",
    "cl_num_iterations = 30\n",
    "cl_learn_rate =0.01\n",
    "cl_regularization = 0\n",
    "num_factors = 90\n",
    "num_iter = 8\n",
    "learn_rate = 0.3\n",
    "regularization = 0.4\n",
    "model = LocalUBISGD_normal_03(ImplicitData([],[]), num_clusters, cl_num_iterations, cl_learn_rate, cl_regularization, \n",
    "    num_factors, num_iter, learn_rate, regularization, random_seed = 100)\n",
    "eval = EvalPrequential(model,stream, metrics = [\"Recall@20\"])\n",
    "start_recommend = datetime.now()\n",
    "print('start time', start_recommend)\n",
    "\n",
    "results=eval.EvaluateTime(0,stream.size, 10)\n",
    "\n",
    "print('npmean(resuls[Recall@20])', np.mean(results['Recall@20']))\n",
    "end_recommend = datetime.now()\n",
    "print('end time', end_recommend)\n",
    "\n",
    "tempo = end_recommend - start_recommend\n",
    "\n",
    "print('run time', tempo)\n",
    "print('')\n",
    "print('get tuple',np.mean(results['time_get_tuple']))\n",
    "print('recommend',np.mean(results['time_recommend']))\n",
    "print('eval_point',np.mean(results['time_eval_point']))\n",
    "print('update',np.mean(results['time_update'])) "
   ]
  },
  {
   "cell_type": "markdown",
   "metadata": {},
   "source": [
    "### ppf2_sample5_5"
   ]
  },
  {
   "cell_type": "code",
   "execution_count": 28,
   "metadata": {},
   "outputs": [
    {
     "name": "stdout",
     "output_type": "stream",
     "text": [
      "      Unnamed: 0     V1      V2\n",
      "0            386   8294   19054\n",
      "1            522    727   26782\n",
      "2            523    727   26807\n",
      "3            524    727   26808\n",
      "4            784   7771   25113\n",
      "...          ...    ...     ...\n",
      "6153      111838  88578   13748\n",
      "6154      111839  88578   16453\n",
      "6155      111840  88578   90526\n",
      "6156      111889  88884   91169\n",
      "6157      111941  88578  123756\n",
      "\n",
      "[6158 rows x 3 columns]\n"
     ]
    }
   ],
   "source": [
    "sys.path.append('./')\n",
    "configPath = 'config'\n",
    "dataPath = 'ppf2_sample5_1.csv'\n",
    "\n",
    "Data = []\n",
    "data = pd.read_csv(\"ppf2_sample5_5.csv\")\n",
    "print(data)\n",
    "Data = data.values.tolist()\n",
    "\n",
    "Data = Data[1:]"
   ]
  },
  {
   "cell_type": "code",
   "execution_count": 29,
   "metadata": {},
   "outputs": [
    {
     "name": "stdout",
     "output_type": "stream",
     "text": [
      "start time 2022-09-20 20:48:35.413110\n",
      "npmean(resuls[Recall@20]) 0.03968253968253968\n",
      "end time 2022-09-20 20:49:07.639730\n",
      "run time 0:00:32.226620\n",
      "\n",
      "get tuple 2.510462059726068e-06\n",
      "recommend 0.03056996701255677\n",
      "eval_point 1.632372538248698e-05\n",
      "update 0.002098632629416836\n"
     ]
    }
   ],
   "source": [
    "Data_Transpose = np.transpose(Data)\n",
    "stream = ImplicitData(Data_Transpose[1],Data_Transpose[2])\n",
    "\n",
    "\n",
    "\n",
    "num_clusters = 8\n",
    "cl_num_iterations = 30\n",
    "cl_learn_rate =0.01\n",
    "cl_regularization = 0\n",
    "num_factors = 90\n",
    "num_iter = 8\n",
    "learn_rate = 0.3\n",
    "regularization = 0.4\n",
    "model = LocalUBISGD_normal_03(ImplicitData([],[]), num_clusters, cl_num_iterations, cl_learn_rate, cl_regularization, \n",
    "    num_factors, num_iter, learn_rate, regularization, random_seed = 100)\n",
    "eval = EvalPrequential(model,stream, metrics = [\"Recall@20\"])\n",
    "start_recommend = datetime.now()\n",
    "print('start time', start_recommend)\n",
    "\n",
    "results=eval.EvaluateTime(0,stream.size, 10)\n",
    "\n",
    "print('npmean(resuls[Recall@20])', np.mean(results['Recall@20']))\n",
    "end_recommend = datetime.now()\n",
    "print('end time', end_recommend)\n",
    "\n",
    "tempo = end_recommend - start_recommend\n",
    "\n",
    "print('run time', tempo)\n",
    "print('')\n",
    "print('get tuple',np.mean(results['time_get_tuple']))\n",
    "print('recommend',np.mean(results['time_recommend']))\n",
    "print('eval_point',np.mean(results['time_eval_point']))\n",
    "print('update',np.mean(results['time_update'])) "
   ]
  },
  {
   "cell_type": "code",
   "execution_count": null,
   "metadata": {},
   "outputs": [],
   "source": []
  }
 ],
 "metadata": {
  "kernelspec": {
   "display_name": "myenv",
   "language": "python",
   "name": "myenv"
  },
  "language_info": {
   "codemirror_mode": {
    "name": "ipython",
    "version": 3
   },
   "file_extension": ".py",
   "mimetype": "text/x-python",
   "name": "python",
   "nbconvert_exporter": "python",
   "pygments_lexer": "ipython3",
   "version": "3.9.5"
  }
 },
 "nbformat": 4,
 "nbformat_minor": 4
}
