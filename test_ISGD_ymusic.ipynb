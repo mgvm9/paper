{
 "cells": [
  {
   "cell_type": "code",
   "execution_count": null,
   "metadata": {},
   "outputs": [],
   "source": [
    "from data import ImplicitData\n",
    "#from param_tuning import PatternSearchISGD\n",
    "from pprint import pprint\n",
    "import pandas as pd\n",
    "from operator import itemgetter\n",
    "import numpy as np\n",
    "from recommenders_implicit import ISGD\n",
    "from eval_implicit import EvalPrequential\n",
    "from datetime import datetime\n",
    "import sys\n",
    "import csv\n",
    "\n",
    "sys.path.append('./')\n",
    "configPath = 'config'\n",
    "dataPath = 'ymusic_gte90_6kusers.tsv'\n",
    "\n",
    "\n",
    "Data = []\n",
    "data = pd.read_csv(\"ymusic_gte90_6kusers.tsv\",\"\\t\")\n",
    "print(data)\n",
    "Data = data.values.tolist()\n",
    "\n",
    "Data_Transpose = np.transpose(Data)\n",
    "stream = ImplicitData(Data_Transpose[0],Data_Transpose[1])\n",
    "\n",
    "num_factors = 200\n",
    "num_iterations = 9\n",
    "learn_rate = 0.25\n",
    "u_regularization = 0.45\n",
    "i_regularization = 0.45\n",
    "random_seed = 10\n",
    "\n",
    "model = ISGD(ImplicitData([],[]),num_factors, num_iterations,learn_rate,u_regularization,i_regularization,random_seed)\n",
    "\n",
    "\n",
    "eval = EvalPrequential(model,stream, metrics = [\"Recall@20\"])\n",
    "start_recommend = datetime.now()\n",
    "print('start time', start_recommend)\n",
    "\n",
    "results=eval.EvaluateTime(0,stream.size, 1000)\n",
    "\n",
    "print('npmean(resuls[Recall@20])', np.mean(results['Recall@20']))\n",
    "end_recommend = datetime.now()\n",
    "print('end time', end_recommend)\n",
    "\n",
    "tempo = end_recommend - start_recommend\n",
    "\n",
    "print('run time', tempo)\n",
    "print('')\n",
    "print('get tuple',np.mean(results['time_get_tuple']))\n",
    "print('recommend',np.mean(results['time_recommend']))\n",
    "print('eval_point',np.mean(results['time_eval_point']))\n",
    "print('update',np.mean(results['time_update']))"
   ]
  },
  {
   "cell_type": "markdown",
   "metadata": {},
   "source": [
    "## import"
   ]
  },
  {
   "cell_type": "code",
   "execution_count": 1,
   "metadata": {},
   "outputs": [],
   "source": [
    "from data import ImplicitData\n",
    "#from param_tuning import PatternSearchISGD\n",
    "from pprint import pprint\n",
    "import pandas as pd\n",
    "from operator import itemgetter\n",
    "import numpy as np\n",
    "from recommenders_implicit import ISGD\n",
    "from eval_implicit import EvalPrequential\n",
    "from datetime import datetime\n",
    "import sys\n",
    "import csv"
   ]
  },
  {
   "cell_type": "markdown",
   "metadata": {},
   "source": [
    "### ymusic_sample5_1"
   ]
  },
  {
   "cell_type": "code",
   "execution_count": 2,
   "metadata": {},
   "outputs": [
    {
     "name": "stdout",
     "output_type": "stream",
     "text": [
      "       Unnamed: 0  user_id  item_id\n",
      "0            3873   795245    10843\n",
      "1            3874   795245    56437\n",
      "2            3875   795245    75757\n",
      "3            3876   795245    96467\n",
      "4            3877   795245   111214\n",
      "...           ...      ...      ...\n",
      "22775      476510   555020   475132\n",
      "22776      476511   555020   141032\n",
      "22777      476512   555020   201436\n",
      "22778      476513   555020   125269\n",
      "22779      476514   555020   141393\n",
      "\n",
      "[22780 rows x 3 columns]\n"
     ]
    }
   ],
   "source": [
    "sys.path.append('./')\n",
    "configPath = 'config'\n",
    "dataPath = 'ymusic_gte90_6kusers.tsv'\n",
    "\n",
    "\n",
    "Data = []\n",
    "data = pd.read_csv(\"ymusic_sample5_1.csv\")\n",
    "print(data)\n",
    "Data = data.values.tolist()"
   ]
  },
  {
   "cell_type": "code",
   "execution_count": 3,
   "metadata": {},
   "outputs": [
    {
     "name": "stdout",
     "output_type": "stream",
     "text": [
      "start time 2022-09-20 18:52:37.076406\n",
      "npmean(resuls[Recall@20]) 0.07692307692307693\n",
      "end time 2022-09-20 18:52:49.021370\n",
      "run time 0:00:11.944964\n",
      "\n",
      "get tuple 2.1005849026084677e-06\n",
      "recommend 0.021741335208599385\n",
      "eval_point 3.473575298602764e-05\n",
      "update 0.0004950747561098924\n"
     ]
    }
   ],
   "source": [
    "Data_Transpose = np.transpose(Data)\n",
    "stream = ImplicitData(Data_Transpose[1],Data_Transpose[2])\n",
    "\n",
    "num_factors = 200\n",
    "num_iterations = 9\n",
    "learn_rate = 0.25\n",
    "u_regularization = 0.45\n",
    "i_regularization = 0.45\n",
    "random_seed = 10\n",
    "\n",
    "model = ISGD(ImplicitData([],[]),num_factors, num_iterations,learn_rate,u_regularization,i_regularization,random_seed)\n",
    "\n",
    "\n",
    "eval = EvalPrequential(model,stream, metrics = [\"Recall@20\"])\n",
    "start_recommend = datetime.now()\n",
    "print('start time', start_recommend)\n",
    "\n",
    "results=eval.EvaluateTime(0,stream.size, 1000)\n",
    "\n",
    "print('npmean(resuls[Recall@20])', np.mean(results['Recall@20']))\n",
    "end_recommend = datetime.now()\n",
    "print('end time', end_recommend)\n",
    "\n",
    "tempo = end_recommend - start_recommend\n",
    "\n",
    "print('run time', tempo)\n",
    "print('')\n",
    "print('get tuple',np.mean(results['time_get_tuple']))\n",
    "print('recommend',np.mean(results['time_recommend']))\n",
    "print('eval_point',np.mean(results['time_eval_point']))\n",
    "print('update',np.mean(results['time_update']))"
   ]
  },
  {
   "cell_type": "markdown",
   "metadata": {},
   "source": [
    "### ymusic_sample5_2"
   ]
  },
  {
   "cell_type": "code",
   "execution_count": 4,
   "metadata": {},
   "outputs": [
    {
     "name": "stdout",
     "output_type": "stream",
     "text": [
      "       Unnamed: 0  user_id  item_id\n",
      "0             785   218332    67176\n",
      "1             786   218332    74262\n",
      "2             787   218332   196852\n",
      "3             788   218332   290893\n",
      "4             789   218332   366723\n",
      "...           ...      ...      ...\n",
      "27915      476256   986546    53049\n",
      "27916      476257   986546   381024\n",
      "27917      476258   986546   392726\n",
      "27918      476686   836553   309703\n",
      "27919      476687   836553   219502\n",
      "\n",
      "[27920 rows x 3 columns]\n"
     ]
    }
   ],
   "source": [
    "sys.path.append('./')\n",
    "configPath = 'config'\n",
    "dataPath = 'ymusic_gte90_6kusers.tsv'\n",
    "\n",
    "\n",
    "Data = []\n",
    "data = pd.read_csv(\"ymusic_sample5_2.csv\")\n",
    "print(data)\n",
    "Data = data.values.tolist()"
   ]
  },
  {
   "cell_type": "code",
   "execution_count": 5,
   "metadata": {},
   "outputs": [
    {
     "name": "stdout",
     "output_type": "stream",
     "text": [
      "start time 2022-09-20 18:52:49.544813\n",
      "npmean(resuls[Recall@20]) 0.07142857142857142\n",
      "end time 2022-09-20 18:53:04.210994\n",
      "run time 0:00:14.666181\n",
      "\n",
      "get tuple 2.094872701475477e-06\n",
      "recommend 0.027604426656450545\n",
      "eval_point 3.2254627772739953e-05\n",
      "update 0.0004931331876355802\n"
     ]
    }
   ],
   "source": [
    "Data_Transpose = np.transpose(Data)\n",
    "stream = ImplicitData(Data_Transpose[1],Data_Transpose[2])\n",
    "\n",
    "num_factors = 200\n",
    "num_iterations = 9\n",
    "learn_rate = 0.25\n",
    "u_regularization = 0.45\n",
    "i_regularization = 0.45\n",
    "random_seed = 10\n",
    "\n",
    "model = ISGD(ImplicitData([],[]),num_factors, num_iterations,learn_rate,u_regularization,i_regularization,random_seed)\n",
    "\n",
    "\n",
    "eval = EvalPrequential(model,stream, metrics = [\"Recall@20\"])\n",
    "start_recommend = datetime.now()\n",
    "print('start time', start_recommend)\n",
    "\n",
    "results=eval.EvaluateTime(0,stream.size, 1000)\n",
    "\n",
    "print('npmean(resuls[Recall@20])', np.mean(results['Recall@20']))\n",
    "end_recommend = datetime.now()\n",
    "print('end time', end_recommend)\n",
    "\n",
    "tempo = end_recommend - start_recommend\n",
    "\n",
    "print('run time', tempo)\n",
    "print('')\n",
    "print('get tuple',np.mean(results['time_get_tuple']))\n",
    "print('recommend',np.mean(results['time_recommend']))\n",
    "print('eval_point',np.mean(results['time_eval_point']))\n",
    "print('update',np.mean(results['time_update']))"
   ]
  },
  {
   "cell_type": "markdown",
   "metadata": {},
   "source": [
    "### ymusic_sample5_3"
   ]
  },
  {
   "cell_type": "code",
   "execution_count": 6,
   "metadata": {},
   "outputs": [
    {
     "name": "stdout",
     "output_type": "stream",
     "text": [
      "       Unnamed: 0  user_id  item_id\n",
      "0            1792   292189    40476\n",
      "1            1793   292189   110821\n",
      "2            1794   292189   337957\n",
      "3            1795   292189   392167\n",
      "4            1796   292189   567378\n",
      "...           ...      ...      ...\n",
      "23055      476483   214741   137608\n",
      "23056      476485   214741   551893\n",
      "23057      476690   315275   385015\n",
      "23058      476760   736333    59141\n",
      "23059      476761   736333   343375\n",
      "\n",
      "[23060 rows x 3 columns]\n"
     ]
    }
   ],
   "source": [
    "sys.path.append('./')\n",
    "configPath = 'config'\n",
    "dataPath = 'ymusic_gte90_6kusers.tsv'\n",
    "\n",
    "\n",
    "Data = []\n",
    "data = pd.read_csv(\"ymusic_sample5_3.csv\")\n",
    "print(data)\n",
    "Data = data.values.tolist()"
   ]
  },
  {
   "cell_type": "code",
   "execution_count": 7,
   "metadata": {},
   "outputs": [
    {
     "name": "stdout",
     "output_type": "stream",
     "text": [
      "start time 2022-09-20 18:53:04.429353\n",
      "npmean(resuls[Recall@20]) 0.13333333333333333\n",
      "end time 2022-09-20 18:53:15.965379\n",
      "run time 0:00:11.536026\n",
      "\n",
      "get tuple 2.0465950084993968e-06\n",
      "recommend 0.015591573715209962\n",
      "eval_point 3.892580668131511e-05\n",
      "update 0.0004857117263317522\n"
     ]
    }
   ],
   "source": [
    "Data_Transpose = np.transpose(Data)\n",
    "stream = ImplicitData(Data_Transpose[1],Data_Transpose[2])\n",
    "\n",
    "num_factors = 200\n",
    "num_iterations = 9\n",
    "learn_rate = 0.25\n",
    "u_regularization = 0.45\n",
    "i_regularization = 0.45\n",
    "random_seed = 10\n",
    "\n",
    "model = ISGD(ImplicitData([],[]),num_factors, num_iterations,learn_rate,u_regularization,i_regularization,random_seed)\n",
    "\n",
    "\n",
    "eval = EvalPrequential(model,stream, metrics = [\"Recall@20\"])\n",
    "start_recommend = datetime.now()\n",
    "print('start time', start_recommend)\n",
    "\n",
    "results=eval.EvaluateTime(0,stream.size, 1000)\n",
    "\n",
    "print('npmean(resuls[Recall@20])', np.mean(results['Recall@20']))\n",
    "end_recommend = datetime.now()\n",
    "print('end time', end_recommend)\n",
    "\n",
    "tempo = end_recommend - start_recommend\n",
    "\n",
    "print('run time', tempo)\n",
    "print('')\n",
    "print('get tuple',np.mean(results['time_get_tuple']))\n",
    "print('recommend',np.mean(results['time_recommend']))\n",
    "print('eval_point',np.mean(results['time_eval_point']))\n",
    "print('update',np.mean(results['time_update']))"
   ]
  },
  {
   "cell_type": "markdown",
   "metadata": {},
   "source": [
    "### ymusic_sample5_4"
   ]
  },
  {
   "cell_type": "code",
   "execution_count": 8,
   "metadata": {},
   "outputs": [
    {
     "name": "stdout",
     "output_type": "stream",
     "text": [
      "       Unnamed: 0  user_id  item_id\n",
      "0             461   762863   388288\n",
      "1             462   762863   556804\n",
      "2             463   762863   539820\n",
      "3             464   762863   369332\n",
      "4             465   762863   384847\n",
      "...           ...      ...      ...\n",
      "29563      476878   791728    97526\n",
      "29564      476879   791728   594258\n",
      "29565      476880   791728   278513\n",
      "29566      476881   791728   525766\n",
      "29567      476882   791728   544937\n",
      "\n",
      "[29568 rows x 3 columns]\n"
     ]
    }
   ],
   "source": [
    "sys.path.append('./')\n",
    "configPath = 'config'\n",
    "dataPath = 'ymusic_gte90_6kusers.tsv'\n",
    "\n",
    "\n",
    "Data = []\n",
    "data = pd.read_csv(\"ymusic_sample5_4.csv\")\n",
    "print(data)\n",
    "Data = data.values.tolist()"
   ]
  },
  {
   "cell_type": "code",
   "execution_count": 9,
   "metadata": {},
   "outputs": [
    {
     "name": "stdout",
     "output_type": "stream",
     "text": [
      "start time 2022-09-20 18:53:16.373551\n",
      "npmean(resuls[Recall@20]) 0.15384615384615385\n",
      "end time 2022-09-20 18:53:32.355161\n",
      "run time 0:00:15.981610\n",
      "\n",
      "get tuple 2.178230455943516e-06\n",
      "recommend 0.023668738511892464\n",
      "eval_point 3.286508413461538e-05\n",
      "update 0.0005150410584557108\n"
     ]
    }
   ],
   "source": [
    "Data_Transpose = np.transpose(Data)\n",
    "stream = ImplicitData(Data_Transpose[1],Data_Transpose[2])\n",
    "\n",
    "num_factors = 200\n",
    "num_iterations = 9\n",
    "learn_rate = 0.25\n",
    "u_regularization = 0.45\n",
    "i_regularization = 0.45\n",
    "random_seed = 10\n",
    "\n",
    "model = ISGD(ImplicitData([],[]),num_factors, num_iterations,learn_rate,u_regularization,i_regularization,random_seed)\n",
    "\n",
    "\n",
    "eval = EvalPrequential(model,stream, metrics = [\"Recall@20\"])\n",
    "start_recommend = datetime.now()\n",
    "print('start time', start_recommend)\n",
    "\n",
    "results=eval.EvaluateTime(0,stream.size, 1000)\n",
    "\n",
    "print('npmean(resuls[Recall@20])', np.mean(results['Recall@20']))\n",
    "end_recommend = datetime.now()\n",
    "print('end time', end_recommend)\n",
    "\n",
    "tempo = end_recommend - start_recommend\n",
    "\n",
    "print('run time', tempo)\n",
    "print('')\n",
    "print('get tuple',np.mean(results['time_get_tuple']))\n",
    "print('recommend',np.mean(results['time_recommend']))\n",
    "print('eval_point',np.mean(results['time_eval_point']))\n",
    "print('update',np.mean(results['time_update']))"
   ]
  },
  {
   "cell_type": "markdown",
   "metadata": {},
   "source": [
    "### ymusic_sample5_5"
   ]
  },
  {
   "cell_type": "code",
   "execution_count": 10,
   "metadata": {},
   "outputs": [
    {
     "name": "stdout",
     "output_type": "stream",
     "text": [
      "       Unnamed: 0  user_id  item_id\n",
      "0            1080   540444   196323\n",
      "1            1081   540444   504528\n",
      "2            1082   540444   314333\n",
      "3            1083   540444   258823\n",
      "4            1446   540444   196852\n",
      "...           ...      ...      ...\n",
      "27883      476395   214741   436267\n",
      "27884      476481   214741    80180\n",
      "27885      476482   214741    22329\n",
      "27886      476483   214741   137608\n",
      "27887      476485   214741   551893\n",
      "\n",
      "[27888 rows x 3 columns]\n"
     ]
    }
   ],
   "source": [
    "sys.path.append('./')\n",
    "configPath = 'config'\n",
    "dataPath = 'ymusic_gte90_6kusers.tsv'\n",
    "\n",
    "\n",
    "Data = []\n",
    "data = pd.read_csv(\"ymusic_sample5_5.csv\")\n",
    "print(data)\n",
    "Data = data.values.tolist()"
   ]
  },
  {
   "cell_type": "code",
   "execution_count": 11,
   "metadata": {},
   "outputs": [
    {
     "name": "stdout",
     "output_type": "stream",
     "text": [
      "start time 2022-09-20 18:53:33.022216\n",
      "npmean(resuls[Recall@20]) 0.030303030303030304\n",
      "end time 2022-09-20 18:53:48.538132\n",
      "run time 0:00:15.515916\n",
      "\n",
      "get tuple 2.2548628619397022e-06\n",
      "recommend 0.019960858605124733\n",
      "eval_point 3.5618290756687976e-05\n",
      "update 0.0005279693429796981\n"
     ]
    }
   ],
   "source": [
    "Data_Transpose = np.transpose(Data)\n",
    "stream = ImplicitData(Data_Transpose[1],Data_Transpose[2])\n",
    "\n",
    "num_factors = 200\n",
    "num_iterations = 9\n",
    "learn_rate = 0.25\n",
    "u_regularization = 0.45\n",
    "i_regularization = 0.45\n",
    "random_seed = 10\n",
    "\n",
    "model = ISGD(ImplicitData([],[]),num_factors, num_iterations,learn_rate,u_regularization,i_regularization,random_seed)\n",
    "\n",
    "\n",
    "eval = EvalPrequential(model,stream, metrics = [\"Recall@20\"])\n",
    "start_recommend = datetime.now()\n",
    "print('start time', start_recommend)\n",
    "\n",
    "results=eval.EvaluateTime(0,stream.size, 1000)\n",
    "\n",
    "print('npmean(resuls[Recall@20])', np.mean(results['Recall@20']))\n",
    "end_recommend = datetime.now()\n",
    "print('end time', end_recommend)\n",
    "\n",
    "tempo = end_recommend - start_recommend\n",
    "\n",
    "print('run time', tempo)\n",
    "print('')\n",
    "print('get tuple',np.mean(results['time_get_tuple']))\n",
    "print('recommend',np.mean(results['time_recommend']))\n",
    "print('eval_point',np.mean(results['time_eval_point']))\n",
    "print('update',np.mean(results['time_update']))"
   ]
  },
  {
   "cell_type": "code",
   "execution_count": null,
   "metadata": {},
   "outputs": [],
   "source": []
  }
 ],
 "metadata": {
  "kernelspec": {
   "display_name": "myenv",
   "language": "python",
   "name": "myenv"
  },
  "language_info": {
   "codemirror_mode": {
    "name": "ipython",
    "version": 3
   },
   "file_extension": ".py",
   "mimetype": "text/x-python",
   "name": "python",
   "nbconvert_exporter": "python",
   "pygments_lexer": "ipython3",
   "version": "3.9.5"
  }
 },
 "nbformat": 4,
 "nbformat_minor": 4
}
